{
  "nbformat": 4,
  "nbformat_minor": 0,
  "metadata": {
    "colab": {
      "name": "Product Recommendation Engine - Capstone Project.ipynb",
      "provenance": [],
      "collapsed_sections": [],
      "toc_visible": true,
      "include_colab_link": true
    },
    "kernelspec": {
      "display_name": "Python 3",
      "language": "python",
      "name": "python3"
    },
    "language_info": {
      "codemirror_mode": {
        "name": "ipython",
        "version": 3
      },
      "file_extension": ".py",
      "mimetype": "text/x-python",
      "name": "python",
      "nbconvert_exporter": "python",
      "pygments_lexer": "ipython3",
      "version": "3.6.6"
    }
  },
  "cells": [
    {
      "cell_type": "markdown",
      "metadata": {
        "id": "view-in-github",
        "colab_type": "text"
      },
      "source": [
        "<a href=\"https://colab.research.google.com/github/SajalSinha/ProductRecommendationEngine/blob/main/Product_Recommendation_Engine_Capstone_Project.ipynb\" target=\"_parent\"><img src=\"https://colab.research.google.com/assets/colab-badge.svg\" alt=\"Open In Colab\"/></a>"
      ]
    },
    {
      "cell_type": "markdown",
      "metadata": {
        "id": "tOGC-qoyhJeX"
      },
      "source": [
        "# <b><u> Project Title : Build a recommender engine that reviews customer ratings and purchase history to recommend items and improve sales. </u></b>"
      ]
    },
    {
      "cell_type": "markdown",
      "metadata": {
        "id": "Y06xIdG26kRF"
      },
      "source": [
        "### Amazon.com is one of the largest electronic commerce and cloud computing companies.\n",
        "\n",
        "### Just a few Amazon related facts:\n",
        "\n",
        "### They lost $4.8 million in August 2013, when their website went down for 40 mins. They hold the patent on 1-Click buying, and licenses it to Apple. Their Phoenix fulfilment centre is a massive 1.2 million square feet. Amazon relies heavily on a Recommendation engine that reviews customer ratings and purchase history to recommend items and improve sales.\n",
        "\n",
        "\n",
        "### This is a dataset related to over 2 Million customer reviews and ratings of Beauty related products sold on their website.\n",
        "\n",
        "### It contains\n",
        "\n",
        "* ### the unique UserId (Customer Identification),\n",
        "* ### the product ASIN (Amazon's unique product identification code for each product),\n",
        "* ### Ratings (ranging from 1-5 based on customer satisfaction) and\n",
        "* ### the Timestamp of the rating (in UNIX time)\n",
        "\n",
        "### This dataset contains product reviews and metadata from Amazon, including 142.8 million reviews spanning May 1996 - July 2014.\n",
        "\n",
        "### This dataset includes reviews (ratings, text, helpfulness votes), product metadata (descriptions, category information, price, brand, and image features), and links (also viewed/also bought graphs).\n"
      ]
    },
    {
      "cell_type": "code",
      "metadata": {
        "id": "8wyTheqLQUTE"
      },
      "source": [
        ""
      ],
      "execution_count": 1,
      "outputs": []
    },
    {
      "cell_type": "markdown",
      "metadata": {
        "id": "lNyq97QRXfl7"
      },
      "source": [
        "#Installing Libraries and Getting Data"
      ]
    },
    {
      "cell_type": "code",
      "metadata": {
        "colab": {
          "base_uri": "https://localhost:8080/"
        },
        "id": "oBZNll3ZVTxH",
        "outputId": "1716cef0-ebe8-449d-8e5a-9543c8fe44ff"
      },
      "source": [
        "from google.colab import drive\n",
        "drive.mount('/content/drive')"
      ],
      "execution_count": 2,
      "outputs": [
        {
          "output_type": "stream",
          "text": [
            "Drive already mounted at /content/drive; to attempt to forcibly remount, call drive.mount(\"/content/drive\", force_remount=True).\n"
          ],
          "name": "stdout"
        }
      ]
    },
    {
      "cell_type": "code",
      "metadata": {
        "id": "0zWs3BZ6VhcX"
      },
      "source": [
        "import pandas as pd\n",
        "import numpy as np\n",
        "import matplotlib.pyplot as plt\n",
        "import seaborn as sns"
      ],
      "execution_count": 3,
      "outputs": []
    },
    {
      "cell_type": "code",
      "metadata": {
        "id": "gWRyiqZgVpCF"
      },
      "source": [
        "df = pd.read_csv('/content/drive/MyDrive/Capstone Project 4/ratings_Beauty.csv')"
      ],
      "execution_count": 4,
      "outputs": []
    },
    {
      "cell_type": "code",
      "metadata": {
        "colab": {
          "base_uri": "https://localhost:8080/"
        },
        "id": "_xjxz9faVuTl",
        "outputId": "2546c05e-20ec-4700-c234-8991ca21551b"
      },
      "source": [
        "df.shape"
      ],
      "execution_count": 5,
      "outputs": [
        {
          "output_type": "execute_result",
          "data": {
            "text/plain": [
              "(2023070, 4)"
            ]
          },
          "metadata": {},
          "execution_count": 5
        }
      ]
    },
    {
      "cell_type": "code",
      "metadata": {
        "colab": {
          "base_uri": "https://localhost:8080/",
          "height": 390
        },
        "id": "rXjNee7nVxRD",
        "outputId": "2eb22216-47cf-4646-c4e4-8b84c2864588"
      },
      "source": [
        "df.describe(include='all') #to get an overview of the data"
      ],
      "execution_count": 6,
      "outputs": [
        {
          "output_type": "execute_result",
          "data": {
            "text/html": [
              "<div>\n",
              "<style scoped>\n",
              "    .dataframe tbody tr th:only-of-type {\n",
              "        vertical-align: middle;\n",
              "    }\n",
              "\n",
              "    .dataframe tbody tr th {\n",
              "        vertical-align: top;\n",
              "    }\n",
              "\n",
              "    .dataframe thead th {\n",
              "        text-align: right;\n",
              "    }\n",
              "</style>\n",
              "<table border=\"1\" class=\"dataframe\">\n",
              "  <thead>\n",
              "    <tr style=\"text-align: right;\">\n",
              "      <th></th>\n",
              "      <th>UserId</th>\n",
              "      <th>ProductId</th>\n",
              "      <th>Rating</th>\n",
              "      <th>Timestamp</th>\n",
              "    </tr>\n",
              "  </thead>\n",
              "  <tbody>\n",
              "    <tr>\n",
              "      <th>count</th>\n",
              "      <td>2023070</td>\n",
              "      <td>2023070</td>\n",
              "      <td>2.023070e+06</td>\n",
              "      <td>2.023070e+06</td>\n",
              "    </tr>\n",
              "    <tr>\n",
              "      <th>unique</th>\n",
              "      <td>1210271</td>\n",
              "      <td>249274</td>\n",
              "      <td>NaN</td>\n",
              "      <td>NaN</td>\n",
              "    </tr>\n",
              "    <tr>\n",
              "      <th>top</th>\n",
              "      <td>A3KEZLJ59C1JVH</td>\n",
              "      <td>B001MA0QY2</td>\n",
              "      <td>NaN</td>\n",
              "      <td>NaN</td>\n",
              "    </tr>\n",
              "    <tr>\n",
              "      <th>freq</th>\n",
              "      <td>389</td>\n",
              "      <td>7533</td>\n",
              "      <td>NaN</td>\n",
              "      <td>NaN</td>\n",
              "    </tr>\n",
              "    <tr>\n",
              "      <th>mean</th>\n",
              "      <td>NaN</td>\n",
              "      <td>NaN</td>\n",
              "      <td>4.149036e+00</td>\n",
              "      <td>1.360389e+09</td>\n",
              "    </tr>\n",
              "    <tr>\n",
              "      <th>std</th>\n",
              "      <td>NaN</td>\n",
              "      <td>NaN</td>\n",
              "      <td>1.311505e+00</td>\n",
              "      <td>4.611860e+07</td>\n",
              "    </tr>\n",
              "    <tr>\n",
              "      <th>min</th>\n",
              "      <td>NaN</td>\n",
              "      <td>NaN</td>\n",
              "      <td>1.000000e+00</td>\n",
              "      <td>9.087552e+08</td>\n",
              "    </tr>\n",
              "    <tr>\n",
              "      <th>25%</th>\n",
              "      <td>NaN</td>\n",
              "      <td>NaN</td>\n",
              "      <td>4.000000e+00</td>\n",
              "      <td>1.350259e+09</td>\n",
              "    </tr>\n",
              "    <tr>\n",
              "      <th>50%</th>\n",
              "      <td>NaN</td>\n",
              "      <td>NaN</td>\n",
              "      <td>5.000000e+00</td>\n",
              "      <td>1.372810e+09</td>\n",
              "    </tr>\n",
              "    <tr>\n",
              "      <th>75%</th>\n",
              "      <td>NaN</td>\n",
              "      <td>NaN</td>\n",
              "      <td>5.000000e+00</td>\n",
              "      <td>1.391472e+09</td>\n",
              "    </tr>\n",
              "    <tr>\n",
              "      <th>max</th>\n",
              "      <td>NaN</td>\n",
              "      <td>NaN</td>\n",
              "      <td>5.000000e+00</td>\n",
              "      <td>1.406074e+09</td>\n",
              "    </tr>\n",
              "  </tbody>\n",
              "</table>\n",
              "</div>"
            ],
            "text/plain": [
              "                UserId   ProductId        Rating     Timestamp\n",
              "count          2023070     2023070  2.023070e+06  2.023070e+06\n",
              "unique         1210271      249274           NaN           NaN\n",
              "top     A3KEZLJ59C1JVH  B001MA0QY2           NaN           NaN\n",
              "freq               389        7533           NaN           NaN\n",
              "mean               NaN         NaN  4.149036e+00  1.360389e+09\n",
              "std                NaN         NaN  1.311505e+00  4.611860e+07\n",
              "min                NaN         NaN  1.000000e+00  9.087552e+08\n",
              "25%                NaN         NaN  4.000000e+00  1.350259e+09\n",
              "50%                NaN         NaN  5.000000e+00  1.372810e+09\n",
              "75%                NaN         NaN  5.000000e+00  1.391472e+09\n",
              "max                NaN         NaN  5.000000e+00  1.406074e+09"
            ]
          },
          "metadata": {},
          "execution_count": 6
        }
      ]
    },
    {
      "cell_type": "markdown",
      "metadata": {
        "id": "1U5KkcVVzLvn"
      },
      "source": [
        "# Checking Null values"
      ]
    },
    {
      "cell_type": "code",
      "metadata": {
        "colab": {
          "base_uri": "https://localhost:8080/",
          "height": 173
        },
        "id": "qC83c1TPV1N3",
        "outputId": "f32571d3-6234-419e-9797-4bb424276781"
      },
      "source": [
        "missing_data = pd.DataFrame(df.isnull().mean()*100)\n",
        "missing_data"
      ],
      "execution_count": 7,
      "outputs": [
        {
          "output_type": "execute_result",
          "data": {
            "text/html": [
              "<div>\n",
              "<style scoped>\n",
              "    .dataframe tbody tr th:only-of-type {\n",
              "        vertical-align: middle;\n",
              "    }\n",
              "\n",
              "    .dataframe tbody tr th {\n",
              "        vertical-align: top;\n",
              "    }\n",
              "\n",
              "    .dataframe thead th {\n",
              "        text-align: right;\n",
              "    }\n",
              "</style>\n",
              "<table border=\"1\" class=\"dataframe\">\n",
              "  <thead>\n",
              "    <tr style=\"text-align: right;\">\n",
              "      <th></th>\n",
              "      <th>0</th>\n",
              "    </tr>\n",
              "  </thead>\n",
              "  <tbody>\n",
              "    <tr>\n",
              "      <th>UserId</th>\n",
              "      <td>0.0</td>\n",
              "    </tr>\n",
              "    <tr>\n",
              "      <th>ProductId</th>\n",
              "      <td>0.0</td>\n",
              "    </tr>\n",
              "    <tr>\n",
              "      <th>Rating</th>\n",
              "      <td>0.0</td>\n",
              "    </tr>\n",
              "    <tr>\n",
              "      <th>Timestamp</th>\n",
              "      <td>0.0</td>\n",
              "    </tr>\n",
              "  </tbody>\n",
              "</table>\n",
              "</div>"
            ],
            "text/plain": [
              "             0\n",
              "UserId     0.0\n",
              "ProductId  0.0\n",
              "Rating     0.0\n",
              "Timestamp  0.0"
            ]
          },
          "metadata": {},
          "execution_count": 7
        }
      ]
    },
    {
      "cell_type": "markdown",
      "metadata": {
        "id": "du4X5y04WrNq"
      },
      "source": [
        "All the columns are clean"
      ]
    },
    {
      "cell_type": "code",
      "metadata": {
        "colab": {
          "base_uri": "https://localhost:8080/"
        },
        "id": "6qBGIGJFWAzj",
        "outputId": "4148ff16-f2f1-4c90-a7ce-ca576dc9cfdf"
      },
      "source": [
        "df.info()"
      ],
      "execution_count": 8,
      "outputs": [
        {
          "output_type": "stream",
          "text": [
            "<class 'pandas.core.frame.DataFrame'>\n",
            "RangeIndex: 2023070 entries, 0 to 2023069\n",
            "Data columns (total 4 columns):\n",
            " #   Column     Dtype  \n",
            "---  ------     -----  \n",
            " 0   UserId     object \n",
            " 1   ProductId  object \n",
            " 2   Rating     float64\n",
            " 3   Timestamp  int64  \n",
            "dtypes: float64(1), int64(1), object(2)\n",
            "memory usage: 61.7+ MB\n"
          ],
          "name": "stdout"
        }
      ]
    },
    {
      "cell_type": "code",
      "metadata": {
        "colab": {
          "base_uri": "https://localhost:8080/",
          "height": 204
        },
        "id": "35s_g5jIWUvf",
        "outputId": "dd3ea4f9-fd8e-48f0-ba56-8eefaad94416"
      },
      "source": [
        "df.head()"
      ],
      "execution_count": 9,
      "outputs": [
        {
          "output_type": "execute_result",
          "data": {
            "text/html": [
              "<div>\n",
              "<style scoped>\n",
              "    .dataframe tbody tr th:only-of-type {\n",
              "        vertical-align: middle;\n",
              "    }\n",
              "\n",
              "    .dataframe tbody tr th {\n",
              "        vertical-align: top;\n",
              "    }\n",
              "\n",
              "    .dataframe thead th {\n",
              "        text-align: right;\n",
              "    }\n",
              "</style>\n",
              "<table border=\"1\" class=\"dataframe\">\n",
              "  <thead>\n",
              "    <tr style=\"text-align: right;\">\n",
              "      <th></th>\n",
              "      <th>UserId</th>\n",
              "      <th>ProductId</th>\n",
              "      <th>Rating</th>\n",
              "      <th>Timestamp</th>\n",
              "    </tr>\n",
              "  </thead>\n",
              "  <tbody>\n",
              "    <tr>\n",
              "      <th>0</th>\n",
              "      <td>A39HTATAQ9V7YF</td>\n",
              "      <td>0205616461</td>\n",
              "      <td>5.0</td>\n",
              "      <td>1369699200</td>\n",
              "    </tr>\n",
              "    <tr>\n",
              "      <th>1</th>\n",
              "      <td>A3JM6GV9MNOF9X</td>\n",
              "      <td>0558925278</td>\n",
              "      <td>3.0</td>\n",
              "      <td>1355443200</td>\n",
              "    </tr>\n",
              "    <tr>\n",
              "      <th>2</th>\n",
              "      <td>A1Z513UWSAAO0F</td>\n",
              "      <td>0558925278</td>\n",
              "      <td>5.0</td>\n",
              "      <td>1404691200</td>\n",
              "    </tr>\n",
              "    <tr>\n",
              "      <th>3</th>\n",
              "      <td>A1WMRR494NWEWV</td>\n",
              "      <td>0733001998</td>\n",
              "      <td>4.0</td>\n",
              "      <td>1382572800</td>\n",
              "    </tr>\n",
              "    <tr>\n",
              "      <th>4</th>\n",
              "      <td>A3IAAVS479H7M7</td>\n",
              "      <td>0737104473</td>\n",
              "      <td>1.0</td>\n",
              "      <td>1274227200</td>\n",
              "    </tr>\n",
              "  </tbody>\n",
              "</table>\n",
              "</div>"
            ],
            "text/plain": [
              "           UserId   ProductId  Rating   Timestamp\n",
              "0  A39HTATAQ9V7YF  0205616461     5.0  1369699200\n",
              "1  A3JM6GV9MNOF9X  0558925278     3.0  1355443200\n",
              "2  A1Z513UWSAAO0F  0558925278     5.0  1404691200\n",
              "3  A1WMRR494NWEWV  0733001998     4.0  1382572800\n",
              "4  A3IAAVS479H7M7  0737104473     1.0  1274227200"
            ]
          },
          "metadata": {},
          "execution_count": 9
        }
      ]
    },
    {
      "cell_type": "code",
      "metadata": {
        "colab": {
          "base_uri": "https://localhost:8080/"
        },
        "id": "bcyvlAXWeNbu",
        "outputId": "04540bf9-5a5c-4cf2-e1f9-966a57e768ae"
      },
      "source": [
        "# IQR\n",
        "Q1 = np.percentile(df['Rating'], 25,\n",
        "                   interpolation = 'midpoint')\n",
        " \n",
        "Q3 = np.percentile(df['Rating'], 75,\n",
        "                   interpolation = 'midpoint')\n",
        "IQR = Q3 - Q1\n",
        "\n",
        "\n",
        "# Above Upper bound\n",
        "upper = df['Rating'] >= (Q3+1.5*IQR)\n",
        " \n",
        "print(\"Upper bound:\",upper)\n",
        "print(np.where(upper))\n",
        " \n",
        "# Below Lower bound\n",
        "lower = df['Rating'] <= (Q1-1.5*IQR)\n",
        "print(\"Lower bound:\", lower)\n",
        "print(np.where(lower))"
      ],
      "execution_count": 85,
      "outputs": [
        {
          "output_type": "stream",
          "text": [
            "Upper bound: 0          False\n",
            "1          False\n",
            "2          False\n",
            "3          False\n",
            "4          False\n",
            "           ...  \n",
            "2023065    False\n",
            "2023066    False\n",
            "2023067    False\n",
            "2023068    False\n",
            "2023069    False\n",
            "Name: Rating, Length: 2023070, dtype: bool\n",
            "(array([], dtype=int64),)\n",
            "Lower bound: 0          False\n",
            "1          False\n",
            "2          False\n",
            "3          False\n",
            "4           True\n",
            "           ...  \n",
            "2023065    False\n",
            "2023066    False\n",
            "2023067    False\n",
            "2023068    False\n",
            "2023069    False\n",
            "Name: Rating, Length: 2023070, dtype: bool\n",
            "(array([      4,      23,      30, ..., 2022846, 2022913, 2022969]),)\n"
          ],
          "name": "stdout"
        }
      ]
    },
    {
      "cell_type": "code",
      "metadata": {
        "colab": {
          "base_uri": "https://localhost:8080/"
        },
        "id": "unkppZAWfIrV",
        "outputId": "7a7e1bca-5f6a-4889-e83a-ead329c48cfc"
      },
      "source": [
        "df['Rating'][4]"
      ],
      "execution_count": 87,
      "outputs": [
        {
          "output_type": "execute_result",
          "data": {
            "text/plain": [
              "1.0"
            ]
          },
          "metadata": {},
          "execution_count": 87
        }
      ]
    },
    {
      "cell_type": "markdown",
      "metadata": {
        "id": "TDoRx7zqzR65"
      },
      "source": [
        "#Exploratory Data Analysis"
      ]
    },
    {
      "cell_type": "markdown",
      "metadata": {
        "id": "szwRvZdYTZYC"
      },
      "source": [
        "##Total Count of each rating"
      ]
    },
    {
      "cell_type": "code",
      "metadata": {
        "colab": {
          "base_uri": "https://localhost:8080/",
          "height": 361
        },
        "id": "J-8eDaQXW7z0",
        "outputId": "8c5058af-ee86-4ab0-e699-f1e22a994514"
      },
      "source": [
        "sns.countplot(df['Rating']) #total count of ratings."
      ],
      "execution_count": 10,
      "outputs": [
        {
          "output_type": "stream",
          "text": [
            "/usr/local/lib/python3.7/dist-packages/seaborn/_decorators.py:43: FutureWarning: Pass the following variable as a keyword arg: x. From version 0.12, the only valid positional argument will be `data`, and passing other arguments without an explicit keyword will result in an error or misinterpretation.\n",
            "  FutureWarning\n"
          ],
          "name": "stderr"
        },
        {
          "output_type": "execute_result",
          "data": {
            "text/plain": [
              "<matplotlib.axes._subplots.AxesSubplot at 0x7fc3fbbd8090>"
            ]
          },
          "metadata": {},
          "execution_count": 10
        },
        {
          "output_type": "display_data",
          "data": {
            "image/png": "[encoded data removed]",
            "text/plain": [
              "<Figure size 432x288 with 1 Axes>"
            ]
          },
          "metadata": {
            "needs_background": "light"
          }
        }
      ]
    },
    {
      "cell_type": "code",
      "metadata": {
        "colab": {
          "base_uri": "https://localhost:8080/"
        },
        "id": "8SF9ZkMTXA1W",
        "outputId": "1777111d-dc05-4ec8-b560-177e8d175b20"
      },
      "source": [
        "len(df['UserId'].unique())"
      ],
      "execution_count": 11,
      "outputs": [
        {
          "output_type": "execute_result",
          "data": {
            "text/plain": [
              "1210271"
            ]
          },
          "metadata": {},
          "execution_count": 11
        }
      ]
    },
    {
      "cell_type": "markdown",
      "metadata": {
        "id": "6av65QqrTjOM"
      },
      "source": [
        "##Top Products based on sales"
      ]
    },
    {
      "cell_type": "code",
      "metadata": {
        "colab": {
          "base_uri": "https://localhost:8080/",
          "height": 700
        },
        "id": "iwWUkMlNXVXn",
        "outputId": "feab8114-865b-41db-e085-2d3134a444aa"
      },
      "source": [
        "#Top 20 Products based on sales.\n",
        "\n",
        "a = list(df['ProductId'].value_counts())\n",
        "b = list(df['ProductId'].unique())\n",
        "top_20_products = pd.DataFrame(list(zip(b[0:21],a[0:21])),columns =['ProductID', 'Count'])\n",
        "top_20_products"
      ],
      "execution_count": 12,
      "outputs": [
        {
          "output_type": "execute_result",
          "data": {
            "text/html": [
              "<div>\n",
              "<style scoped>\n",
              "    .dataframe tbody tr th:only-of-type {\n",
              "        vertical-align: middle;\n",
              "    }\n",
              "\n",
              "    .dataframe tbody tr th {\n",
              "        vertical-align: top;\n",
              "    }\n",
              "\n",
              "    .dataframe thead th {\n",
              "        text-align: right;\n",
              "    }\n",
              "</style>\n",
              "<table border=\"1\" class=\"dataframe\">\n",
              "  <thead>\n",
              "    <tr style=\"text-align: right;\">\n",
              "      <th></th>\n",
              "      <th>ProductID</th>\n",
              "      <th>Count</th>\n",
              "    </tr>\n",
              "  </thead>\n",
              "  <tbody>\n",
              "    <tr>\n",
              "      <th>0</th>\n",
              "      <td>0205616461</td>\n",
              "      <td>7533</td>\n",
              "    </tr>\n",
              "    <tr>\n",
              "      <th>1</th>\n",
              "      <td>0558925278</td>\n",
              "      <td>2869</td>\n",
              "    </tr>\n",
              "    <tr>\n",
              "      <th>2</th>\n",
              "      <td>0733001998</td>\n",
              "      <td>2477</td>\n",
              "    </tr>\n",
              "    <tr>\n",
              "      <th>3</th>\n",
              "      <td>0737104473</td>\n",
              "      <td>2143</td>\n",
              "    </tr>\n",
              "    <tr>\n",
              "      <th>4</th>\n",
              "      <td>0762451459</td>\n",
              "      <td>2088</td>\n",
              "    </tr>\n",
              "    <tr>\n",
              "      <th>5</th>\n",
              "      <td>1304139212</td>\n",
              "      <td>2041</td>\n",
              "    </tr>\n",
              "    <tr>\n",
              "      <th>6</th>\n",
              "      <td>1304139220</td>\n",
              "      <td>1918</td>\n",
              "    </tr>\n",
              "    <tr>\n",
              "      <th>7</th>\n",
              "      <td>130414089X</td>\n",
              "      <td>1885</td>\n",
              "    </tr>\n",
              "    <tr>\n",
              "      <th>8</th>\n",
              "      <td>130414643X</td>\n",
              "      <td>1838</td>\n",
              "    </tr>\n",
              "    <tr>\n",
              "      <th>9</th>\n",
              "      <td>1304146537</td>\n",
              "      <td>1589</td>\n",
              "    </tr>\n",
              "    <tr>\n",
              "      <th>10</th>\n",
              "      <td>130414674X</td>\n",
              "      <td>1558</td>\n",
              "    </tr>\n",
              "    <tr>\n",
              "      <th>11</th>\n",
              "      <td>1304168522</td>\n",
              "      <td>1475</td>\n",
              "    </tr>\n",
              "    <tr>\n",
              "      <th>12</th>\n",
              "      <td>1304174778</td>\n",
              "      <td>1468</td>\n",
              "    </tr>\n",
              "    <tr>\n",
              "      <th>13</th>\n",
              "      <td>1304174867</td>\n",
              "      <td>1430</td>\n",
              "    </tr>\n",
              "    <tr>\n",
              "      <th>14</th>\n",
              "      <td>1304174905</td>\n",
              "      <td>1379</td>\n",
              "    </tr>\n",
              "    <tr>\n",
              "      <th>15</th>\n",
              "      <td>1304196046</td>\n",
              "      <td>1349</td>\n",
              "    </tr>\n",
              "    <tr>\n",
              "      <th>16</th>\n",
              "      <td>1304196062</td>\n",
              "      <td>1349</td>\n",
              "    </tr>\n",
              "    <tr>\n",
              "      <th>17</th>\n",
              "      <td>1304196070</td>\n",
              "      <td>1347</td>\n",
              "    </tr>\n",
              "    <tr>\n",
              "      <th>18</th>\n",
              "      <td>1304196135</td>\n",
              "      <td>1341</td>\n",
              "    </tr>\n",
              "    <tr>\n",
              "      <th>19</th>\n",
              "      <td>1304351475</td>\n",
              "      <td>1333</td>\n",
              "    </tr>\n",
              "    <tr>\n",
              "      <th>20</th>\n",
              "      <td>1304482596</td>\n",
              "      <td>1330</td>\n",
              "    </tr>\n",
              "  </tbody>\n",
              "</table>\n",
              "</div>"
            ],
            "text/plain": [
              "     ProductID  Count\n",
              "0   0205616461   7533\n",
              "1   0558925278   2869\n",
              "2   0733001998   2477\n",
              "3   0737104473   2143\n",
              "4   0762451459   2088\n",
              "5   1304139212   2041\n",
              "6   1304139220   1918\n",
              "7   130414089X   1885\n",
              "8   130414643X   1838\n",
              "9   1304146537   1589\n",
              "10  130414674X   1558\n",
              "11  1304168522   1475\n",
              "12  1304174778   1468\n",
              "13  1304174867   1430\n",
              "14  1304174905   1379\n",
              "15  1304196046   1349\n",
              "16  1304196062   1349\n",
              "17  1304196070   1347\n",
              "18  1304196135   1341\n",
              "19  1304351475   1333\n",
              "20  1304482596   1330"
            ]
          },
          "metadata": {},
          "execution_count": 12
        }
      ]
    },
    {
      "cell_type": "code",
      "metadata": {
        "colab": {
          "base_uri": "https://localhost:8080/",
          "height": 459
        },
        "id": "TQAAAuTJYbBa",
        "outputId": "f5e25559-8aea-457b-be06-760ec1aecc18"
      },
      "source": [
        "#Barplot of top 5 products.\n",
        "\n",
        "plt.figure(figsize=(10,7))\n",
        "sns.barplot(x=top_20_products['ProductID'].head(5),y=top_20_products['Count'].head(5))"
      ],
      "execution_count": 13,
      "outputs": [
        {
          "output_type": "execute_result",
          "data": {
            "text/plain": [
              "<matplotlib.axes._subplots.AxesSubplot at 0x7fc3fabba3d0>"
            ]
          },
          "metadata": {},
          "execution_count": 13
        },
        {
          "output_type": "display_data",
          "data": {
            "image/png": "[encoded data removed]",
            "text/plain": [
              "<Figure size 720x504 with 1 Axes>"
            ]
          },
          "metadata": {
            "needs_background": "light"
          }
        }
      ]
    },
    {
      "cell_type": "code",
      "metadata": {
        "id": "dfLWdMr8heWO"
      },
      "source": [
        "#Top 20 products based on ratings\n",
        "\n",
        "# Prod_R5 = list(df.loc[df['Rating']==5,'ProductId'])\n",
        "# Prod_R4 = list(df.loc[df['Rating']==4,'ProductId'])[']=\n",
        "# Prod_R3 = list(df.loc[df['Rating']==3,'ProductId'])\n",
        "# Prod_R2 = list(df.loc[df['Rating']==2,'ProductId'])\n",
        "# Prod_R1 = list(df.loc[df['Rating']==1,'ProductId'])\n",
        "# # total_ratings = list(df['Rating'].value_counts())\n",
        "# # total_ratings\n",
        "# R5_count = dict((x,Prod_R5.count(x)) for x in set(Prod_R5))\n",
        "# R4_count = dict((x,Prod_R4.count(x)) for x in set(Prod_R4))\n",
        "# R3_count = dict((x,Prod_R3.count(x)) for x in set(Prod_R3))\n",
        "# R2_count = dict((x,Prod_R2.count(x)) for x in set(Prod_R2))\n",
        "# R1_count = dict((x,Prod_R1.count(x)) for x in set(Prod_R1))\n",
        "# top_rating_products = topuser_rating_products[topuser_ratings_df['ProductId'].isin(top_prod)]"
      ],
      "execution_count": 14,
      "outputs": []
    },
    {
      "cell_type": "code",
      "metadata": {
        "id": "HV6PofqV1opI"
      },
      "source": [
        "# R5_count"
      ],
      "execution_count": 15,
      "outputs": []
    },
    {
      "cell_type": "markdown",
      "metadata": {
        "id": "UTa32uCLXreq"
      },
      "source": [
        "## Number of Unique users"
      ]
    },
    {
      "cell_type": "code",
      "metadata": {
        "colab": {
          "base_uri": "https://localhost:8080/"
        },
        "id": "U6GcGbWbY_nl",
        "outputId": "d5f57194-384e-4a7d-f714-62f6299a9b5e"
      },
      "source": [
        "print('Number of unique users', len(df['UserId'].unique()))"
      ],
      "execution_count": 16,
      "outputs": [
        {
          "output_type": "stream",
          "text": [
            "Number of unique users 1210271\n"
          ],
          "name": "stdout"
        }
      ]
    },
    {
      "cell_type": "code",
      "metadata": {
        "colab": {
          "base_uri": "https://localhost:8080/",
          "height": 700
        },
        "id": "niy-t3pCdJnb",
        "outputId": "962ae084-3bd5-4c04-d8e6-b38990ec9854"
      },
      "source": [
        "#top 20 users based on count of orders placed.\n",
        "\n",
        "a = list(df['UserId'].value_counts())\n",
        "b = list(df['UserId'].unique())\n",
        "top_20_Users = pd.DataFrame(list(zip(b[0:21],a[0:21])),columns =['UserID', 'Count'])\n",
        "top_20_Users"
      ],
      "execution_count": 17,
      "outputs": [
        {
          "output_type": "execute_result",
          "data": {
            "text/html": [
              "<div>\n",
              "<style scoped>\n",
              "    .dataframe tbody tr th:only-of-type {\n",
              "        vertical-align: middle;\n",
              "    }\n",
              "\n",
              "    .dataframe tbody tr th {\n",
              "        vertical-align: top;\n",
              "    }\n",
              "\n",
              "    .dataframe thead th {\n",
              "        text-align: right;\n",
              "    }\n",
              "</style>\n",
              "<table border=\"1\" class=\"dataframe\">\n",
              "  <thead>\n",
              "    <tr style=\"text-align: right;\">\n",
              "      <th></th>\n",
              "      <th>UserID</th>\n",
              "      <th>Count</th>\n",
              "    </tr>\n",
              "  </thead>\n",
              "  <tbody>\n",
              "    <tr>\n",
              "      <th>0</th>\n",
              "      <td>A39HTATAQ9V7YF</td>\n",
              "      <td>389</td>\n",
              "    </tr>\n",
              "    <tr>\n",
              "      <th>1</th>\n",
              "      <td>A3JM6GV9MNOF9X</td>\n",
              "      <td>336</td>\n",
              "    </tr>\n",
              "    <tr>\n",
              "      <th>2</th>\n",
              "      <td>A1Z513UWSAAO0F</td>\n",
              "      <td>326</td>\n",
              "    </tr>\n",
              "    <tr>\n",
              "      <th>3</th>\n",
              "      <td>A1WMRR494NWEWV</td>\n",
              "      <td>278</td>\n",
              "    </tr>\n",
              "    <tr>\n",
              "      <th>4</th>\n",
              "      <td>A3IAAVS479H7M7</td>\n",
              "      <td>276</td>\n",
              "    </tr>\n",
              "    <tr>\n",
              "      <th>5</th>\n",
              "      <td>AKJHHD5VEH7VG</td>\n",
              "      <td>275</td>\n",
              "    </tr>\n",
              "    <tr>\n",
              "      <th>6</th>\n",
              "      <td>A1BG8QW55XHN6U</td>\n",
              "      <td>269</td>\n",
              "    </tr>\n",
              "    <tr>\n",
              "      <th>7</th>\n",
              "      <td>A22VW0P4VZHDE3</td>\n",
              "      <td>259</td>\n",
              "    </tr>\n",
              "    <tr>\n",
              "      <th>8</th>\n",
              "      <td>A3V3RE4132GKRO</td>\n",
              "      <td>249</td>\n",
              "    </tr>\n",
              "    <tr>\n",
              "      <th>9</th>\n",
              "      <td>A327B0I7CYTEJC</td>\n",
              "      <td>225</td>\n",
              "    </tr>\n",
              "    <tr>\n",
              "      <th>10</th>\n",
              "      <td>AIFAAVTUYHEHB</td>\n",
              "      <td>211</td>\n",
              "    </tr>\n",
              "    <tr>\n",
              "      <th>11</th>\n",
              "      <td>AVOGV98AYOFG2</td>\n",
              "      <td>209</td>\n",
              "    </tr>\n",
              "    <tr>\n",
              "      <th>12</th>\n",
              "      <td>A6R426V4J7AOM</td>\n",
              "      <td>205</td>\n",
              "    </tr>\n",
              "    <tr>\n",
              "      <th>13</th>\n",
              "      <td>AKGB62WGF35J8</td>\n",
              "      <td>186</td>\n",
              "    </tr>\n",
              "    <tr>\n",
              "      <th>14</th>\n",
              "      <td>A3A4C2K3TWDAO5</td>\n",
              "      <td>182</td>\n",
              "    </tr>\n",
              "    <tr>\n",
              "      <th>15</th>\n",
              "      <td>A3FV2Q7WPZMQPV</td>\n",
              "      <td>173</td>\n",
              "    </tr>\n",
              "    <tr>\n",
              "      <th>16</th>\n",
              "      <td>A1RXI3A1E99112</td>\n",
              "      <td>172</td>\n",
              "    </tr>\n",
              "    <tr>\n",
              "      <th>17</th>\n",
              "      <td>A26QL1FBQO9C0E</td>\n",
              "      <td>170</td>\n",
              "    </tr>\n",
              "    <tr>\n",
              "      <th>18</th>\n",
              "      <td>A19KEEVZYO1KO6</td>\n",
              "      <td>168</td>\n",
              "    </tr>\n",
              "    <tr>\n",
              "      <th>19</th>\n",
              "      <td>A1F6HRR58TQ2R0</td>\n",
              "      <td>164</td>\n",
              "    </tr>\n",
              "    <tr>\n",
              "      <th>20</th>\n",
              "      <td>AVQP6PO1NK0IJ</td>\n",
              "      <td>155</td>\n",
              "    </tr>\n",
              "  </tbody>\n",
              "</table>\n",
              "</div>"
            ],
            "text/plain": [
              "            UserID  Count\n",
              "0   A39HTATAQ9V7YF    389\n",
              "1   A3JM6GV9MNOF9X    336\n",
              "2   A1Z513UWSAAO0F    326\n",
              "3   A1WMRR494NWEWV    278\n",
              "4   A3IAAVS479H7M7    276\n",
              "5    AKJHHD5VEH7VG    275\n",
              "6   A1BG8QW55XHN6U    269\n",
              "7   A22VW0P4VZHDE3    259\n",
              "8   A3V3RE4132GKRO    249\n",
              "9   A327B0I7CYTEJC    225\n",
              "10   AIFAAVTUYHEHB    211\n",
              "11   AVOGV98AYOFG2    209\n",
              "12   A6R426V4J7AOM    205\n",
              "13   AKGB62WGF35J8    186\n",
              "14  A3A4C2K3TWDAO5    182\n",
              "15  A3FV2Q7WPZMQPV    173\n",
              "16  A1RXI3A1E99112    172\n",
              "17  A26QL1FBQO9C0E    170\n",
              "18  A19KEEVZYO1KO6    168\n",
              "19  A1F6HRR58TQ2R0    164\n",
              "20   AVQP6PO1NK0IJ    155"
            ]
          },
          "metadata": {},
          "execution_count": 17
        }
      ]
    },
    {
      "cell_type": "code",
      "metadata": {
        "id": "z0aJ-H0ceLwh"
      },
      "source": [
        "# list(df.loc(df['Rating']>=4.0,df['UserId'].value_counts()))"
      ],
      "execution_count": 18,
      "outputs": []
    },
    {
      "cell_type": "markdown",
      "metadata": {
        "id": "vHRbgiNFXxf2"
      },
      "source": [
        "## Number of Unique products"
      ]
    },
    {
      "cell_type": "code",
      "metadata": {
        "colab": {
          "base_uri": "https://localhost:8080/"
        },
        "id": "EiYxiU5FboXV",
        "outputId": "ad8317c1-44ee-4702-f5a9-1d70fcc7b27b"
      },
      "source": [
        "print('Number of unique products', len(df['ProductId'].unique()))"
      ],
      "execution_count": 19,
      "outputs": [
        {
          "output_type": "stream",
          "text": [
            "Number of unique products 249274\n"
          ],
          "name": "stdout"
        }
      ]
    },
    {
      "cell_type": "markdown",
      "metadata": {
        "id": "T3bIJuoxX7s6"
      },
      "source": [
        "## Different types of Ratings"
      ]
    },
    {
      "cell_type": "code",
      "metadata": {
        "colab": {
          "base_uri": "https://localhost:8080/"
        },
        "id": "922Yg6pBb67L",
        "outputId": "65a790f4-fbf7-4b0d-df77-1a7c6fc17f29"
      },
      "source": [
        "print('Unique Ratings',df['Rating'].unique())"
      ],
      "execution_count": 20,
      "outputs": [
        {
          "output_type": "stream",
          "text": [
            "Unique Ratings [5. 3. 4. 1. 2.]\n"
          ],
          "name": "stdout"
        }
      ]
    },
    {
      "cell_type": "markdown",
      "metadata": {
        "id": "QV3Timb0YD3z"
      },
      "source": [
        "## Number of Products with good ratings"
      ]
    },
    {
      "cell_type": "code",
      "metadata": {
        "colab": {
          "base_uri": "https://localhost:8080/"
        },
        "id": "vcrTN-0YcAkH",
        "outputId": "1520da79-7c40-4759-823f-32d767ba3a9d"
      },
      "source": [
        "max_ratings1 = df[df['Rating'] >= 4.0]\n",
        "print('Number of unique products rated high',len(max_ratings1['ProductId'].unique()))"
      ],
      "execution_count": 21,
      "outputs": [
        {
          "output_type": "stream",
          "text": [
            "Number of unique products rated high 220746\n"
          ],
          "name": "stdout"
        }
      ]
    },
    {
      "cell_type": "markdown",
      "metadata": {
        "id": "s8Z1sRqLYMRf"
      },
      "source": [
        "# Model Preparation"
      ]
    },
    {
      "cell_type": "code",
      "metadata": {
        "id": "ZfNKWtIVjYyk"
      },
      "source": [
        "#Now we will drop timestamp column as it isn't much of help.\n",
        "\n",
        "df.drop('Timestamp',axis=1,inplace=True)"
      ],
      "execution_count": 22,
      "outputs": []
    },
    {
      "cell_type": "code",
      "metadata": {
        "id": "Y49zeeIEh2jY"
      },
      "source": [
        "from sklearn.model_selection import train_test_split\n",
        "train_data, test_data = train_test_split(df, test_size = 0.2, random_state=0)"
      ],
      "execution_count": 23,
      "outputs": []
    },
    {
      "cell_type": "code",
      "metadata": {
        "colab": {
          "base_uri": "https://localhost:8080/",
          "height": 204
        },
        "id": "8j1gUDowh9T8",
        "outputId": "5468fca0-a272-4da6-b689-7bc602ab11dc"
      },
      "source": [
        "train_data.head()"
      ],
      "execution_count": 24,
      "outputs": [
        {
          "output_type": "execute_result",
          "data": {
            "text/html": [
              "<div>\n",
              "<style scoped>\n",
              "    .dataframe tbody tr th:only-of-type {\n",
              "        vertical-align: middle;\n",
              "    }\n",
              "\n",
              "    .dataframe tbody tr th {\n",
              "        vertical-align: top;\n",
              "    }\n",
              "\n",
              "    .dataframe thead th {\n",
              "        text-align: right;\n",
              "    }\n",
              "</style>\n",
              "<table border=\"1\" class=\"dataframe\">\n",
              "  <thead>\n",
              "    <tr style=\"text-align: right;\">\n",
              "      <th></th>\n",
              "      <th>UserId</th>\n",
              "      <th>ProductId</th>\n",
              "      <th>Rating</th>\n",
              "    </tr>\n",
              "  </thead>\n",
              "  <tbody>\n",
              "    <tr>\n",
              "      <th>1820811</th>\n",
              "      <td>A3T41HVBC1PSCO</td>\n",
              "      <td>B00B1OOZU0</td>\n",
              "      <td>5.0</td>\n",
              "    </tr>\n",
              "    <tr>\n",
              "      <th>1541414</th>\n",
              "      <td>A24Y7P9O9LU6TH</td>\n",
              "      <td>B006Z9ACMG</td>\n",
              "      <td>5.0</td>\n",
              "    </tr>\n",
              "    <tr>\n",
              "      <th>783039</th>\n",
              "      <td>A1F7YU6O5RU432</td>\n",
              "      <td>B001T8MD8Y</td>\n",
              "      <td>5.0</td>\n",
              "    </tr>\n",
              "    <tr>\n",
              "      <th>1699677</th>\n",
              "      <td>A1HCJ5CDLNWJPJ</td>\n",
              "      <td>B008U4AR3I</td>\n",
              "      <td>5.0</td>\n",
              "    </tr>\n",
              "    <tr>\n",
              "      <th>787779</th>\n",
              "      <td>APDELNTXEZAX4</td>\n",
              "      <td>B001TXFMD2</td>\n",
              "      <td>4.0</td>\n",
              "    </tr>\n",
              "  </tbody>\n",
              "</table>\n",
              "</div>"
            ],
            "text/plain": [
              "                 UserId   ProductId  Rating\n",
              "1820811  A3T41HVBC1PSCO  B00B1OOZU0     5.0\n",
              "1541414  A24Y7P9O9LU6TH  B006Z9ACMG     5.0\n",
              "783039   A1F7YU6O5RU432  B001T8MD8Y     5.0\n",
              "1699677  A1HCJ5CDLNWJPJ  B008U4AR3I     5.0\n",
              "787779    APDELNTXEZAX4  B001TXFMD2     4.0"
            ]
          },
          "metadata": {},
          "execution_count": 24
        }
      ]
    },
    {
      "cell_type": "code",
      "metadata": {
        "colab": {
          "base_uri": "https://localhost:8080/",
          "height": 204
        },
        "id": "4T3Q1jQjiT9H",
        "outputId": "36ab32b2-9ee6-4ae5-88ba-a5a0d1449679"
      },
      "source": [
        "test_data.head()"
      ],
      "execution_count": 25,
      "outputs": [
        {
          "output_type": "execute_result",
          "data": {
            "text/html": [
              "<div>\n",
              "<style scoped>\n",
              "    .dataframe tbody tr th:only-of-type {\n",
              "        vertical-align: middle;\n",
              "    }\n",
              "\n",
              "    .dataframe tbody tr th {\n",
              "        vertical-align: top;\n",
              "    }\n",
              "\n",
              "    .dataframe thead th {\n",
              "        text-align: right;\n",
              "    }\n",
              "</style>\n",
              "<table border=\"1\" class=\"dataframe\">\n",
              "  <thead>\n",
              "    <tr style=\"text-align: right;\">\n",
              "      <th></th>\n",
              "      <th>UserId</th>\n",
              "      <th>ProductId</th>\n",
              "      <th>Rating</th>\n",
              "    </tr>\n",
              "  </thead>\n",
              "  <tbody>\n",
              "    <tr>\n",
              "      <th>723411</th>\n",
              "      <td>A23ZJBVZ4OLDJ</td>\n",
              "      <td>B001KNHM4I</td>\n",
              "      <td>3.0</td>\n",
              "    </tr>\n",
              "    <tr>\n",
              "      <th>1472875</th>\n",
              "      <td>A3O52IDYQ4Z66H</td>\n",
              "      <td>B0062U1QC8</td>\n",
              "      <td>4.0</td>\n",
              "    </tr>\n",
              "    <tr>\n",
              "      <th>2000120</th>\n",
              "      <td>A1PDYBT822BHNJ</td>\n",
              "      <td>B00I14O9C2</td>\n",
              "      <td>5.0</td>\n",
              "    </tr>\n",
              "    <tr>\n",
              "      <th>2014061</th>\n",
              "      <td>A14F5W1N7CZDVW</td>\n",
              "      <td>B00JDTFBR6</td>\n",
              "      <td>5.0</td>\n",
              "    </tr>\n",
              "    <tr>\n",
              "      <th>1076951</th>\n",
              "      <td>A2EPK0CT24CZHS</td>\n",
              "      <td>B003O3C06M</td>\n",
              "      <td>4.0</td>\n",
              "    </tr>\n",
              "  </tbody>\n",
              "</table>\n",
              "</div>"
            ],
            "text/plain": [
              "                 UserId   ProductId  Rating\n",
              "723411    A23ZJBVZ4OLDJ  B001KNHM4I     3.0\n",
              "1472875  A3O52IDYQ4Z66H  B0062U1QC8     4.0\n",
              "2000120  A1PDYBT822BHNJ  B00I14O9C2     5.0\n",
              "2014061  A14F5W1N7CZDVW  B00JDTFBR6     5.0\n",
              "1076951  A2EPK0CT24CZHS  B003O3C06M     4.0"
            ]
          },
          "metadata": {},
          "execution_count": 25
        }
      ]
    },
    {
      "cell_type": "markdown",
      "metadata": {
        "id": "07Mnst0UY90X"
      },
      "source": [
        "## Model 1: Popularity based recommender model"
      ]
    },
    {
      "cell_type": "code",
      "metadata": {
        "id": "LbcRh1nAiWxA"
      },
      "source": [
        "train_data_grouped = train_data.groupby('ProductId').mean().reset_index()"
      ],
      "execution_count": 26,
      "outputs": []
    },
    {
      "cell_type": "code",
      "metadata": {
        "colab": {
          "base_uri": "https://localhost:8080/",
          "height": 204
        },
        "id": "YlgMHrvzixeC",
        "outputId": "47e83a1f-bab2-471a-99bf-862d6173ddba"
      },
      "source": [
        "train_data_grouped.head()"
      ],
      "execution_count": 27,
      "outputs": [
        {
          "output_type": "execute_result",
          "data": {
            "text/html": [
              "<div>\n",
              "<style scoped>\n",
              "    .dataframe tbody tr th:only-of-type {\n",
              "        vertical-align: middle;\n",
              "    }\n",
              "\n",
              "    .dataframe tbody tr th {\n",
              "        vertical-align: top;\n",
              "    }\n",
              "\n",
              "    .dataframe thead th {\n",
              "        text-align: right;\n",
              "    }\n",
              "</style>\n",
              "<table border=\"1\" class=\"dataframe\">\n",
              "  <thead>\n",
              "    <tr style=\"text-align: right;\">\n",
              "      <th></th>\n",
              "      <th>ProductId</th>\n",
              "      <th>Rating</th>\n",
              "    </tr>\n",
              "  </thead>\n",
              "  <tbody>\n",
              "    <tr>\n",
              "      <th>0</th>\n",
              "      <td>0558925278</td>\n",
              "      <td>3.0</td>\n",
              "    </tr>\n",
              "    <tr>\n",
              "      <th>1</th>\n",
              "      <td>0733001998</td>\n",
              "      <td>4.0</td>\n",
              "    </tr>\n",
              "    <tr>\n",
              "      <th>2</th>\n",
              "      <td>0737104473</td>\n",
              "      <td>1.0</td>\n",
              "    </tr>\n",
              "    <tr>\n",
              "      <th>3</th>\n",
              "      <td>0762451459</td>\n",
              "      <td>5.0</td>\n",
              "    </tr>\n",
              "    <tr>\n",
              "      <th>4</th>\n",
              "      <td>1304139220</td>\n",
              "      <td>5.0</td>\n",
              "    </tr>\n",
              "  </tbody>\n",
              "</table>\n",
              "</div>"
            ],
            "text/plain": [
              "    ProductId  Rating\n",
              "0  0558925278     3.0\n",
              "1  0733001998     4.0\n",
              "2  0737104473     1.0\n",
              "3  0762451459     5.0\n",
              "4  1304139220     5.0"
            ]
          },
          "metadata": {},
          "execution_count": 27
        }
      ]
    },
    {
      "cell_type": "code",
      "metadata": {
        "id": "rmMpgCeMi4Sh"
      },
      "source": [
        "train_data_grouped = train_data.groupby('ProductId').mean().reset_index()"
      ],
      "execution_count": 28,
      "outputs": []
    },
    {
      "cell_type": "code",
      "metadata": {
        "colab": {
          "base_uri": "https://localhost:8080/",
          "height": 204
        },
        "id": "H__AxJk6kP0M",
        "outputId": "d56c6b4f-a9d4-422f-9ded-53a23232793c"
      },
      "source": [
        "train_data_grouped.head()"
      ],
      "execution_count": 29,
      "outputs": [
        {
          "output_type": "execute_result",
          "data": {
            "text/html": [
              "<div>\n",
              "<style scoped>\n",
              "    .dataframe tbody tr th:only-of-type {\n",
              "        vertical-align: middle;\n",
              "    }\n",
              "\n",
              "    .dataframe tbody tr th {\n",
              "        vertical-align: top;\n",
              "    }\n",
              "\n",
              "    .dataframe thead th {\n",
              "        text-align: right;\n",
              "    }\n",
              "</style>\n",
              "<table border=\"1\" class=\"dataframe\">\n",
              "  <thead>\n",
              "    <tr style=\"text-align: right;\">\n",
              "      <th></th>\n",
              "      <th>ProductId</th>\n",
              "      <th>Rating</th>\n",
              "    </tr>\n",
              "  </thead>\n",
              "  <tbody>\n",
              "    <tr>\n",
              "      <th>0</th>\n",
              "      <td>0558925278</td>\n",
              "      <td>3.0</td>\n",
              "    </tr>\n",
              "    <tr>\n",
              "      <th>1</th>\n",
              "      <td>0733001998</td>\n",
              "      <td>4.0</td>\n",
              "    </tr>\n",
              "    <tr>\n",
              "      <th>2</th>\n",
              "      <td>0737104473</td>\n",
              "      <td>1.0</td>\n",
              "    </tr>\n",
              "    <tr>\n",
              "      <th>3</th>\n",
              "      <td>0762451459</td>\n",
              "      <td>5.0</td>\n",
              "    </tr>\n",
              "    <tr>\n",
              "      <th>4</th>\n",
              "      <td>1304139220</td>\n",
              "      <td>5.0</td>\n",
              "    </tr>\n",
              "  </tbody>\n",
              "</table>\n",
              "</div>"
            ],
            "text/plain": [
              "    ProductId  Rating\n",
              "0  0558925278     3.0\n",
              "1  0733001998     4.0\n",
              "2  0737104473     1.0\n",
              "3  0762451459     5.0\n",
              "4  1304139220     5.0"
            ]
          },
          "metadata": {},
          "execution_count": 29
        }
      ]
    },
    {
      "cell_type": "code",
      "metadata": {
        "id": "zD9uLWK7kTTU"
      },
      "source": [
        "train_data_sort = train_data_grouped.sort_values(['Rating', 'ProductId'], ascending=False)"
      ],
      "execution_count": 30,
      "outputs": []
    },
    {
      "cell_type": "code",
      "metadata": {
        "colab": {
          "base_uri": "https://localhost:8080/",
          "height": 204
        },
        "id": "J24j7wiVkYED",
        "outputId": "73b412f8-5e00-43ad-c76d-8c2a75f1d16e"
      },
      "source": [
        "train_data_sort.head()"
      ],
      "execution_count": 31,
      "outputs": [
        {
          "output_type": "execute_result",
          "data": {
            "text/html": [
              "<div>\n",
              "<style scoped>\n",
              "    .dataframe tbody tr th:only-of-type {\n",
              "        vertical-align: middle;\n",
              "    }\n",
              "\n",
              "    .dataframe tbody tr th {\n",
              "        vertical-align: top;\n",
              "    }\n",
              "\n",
              "    .dataframe thead th {\n",
              "        text-align: right;\n",
              "    }\n",
              "</style>\n",
              "<table border=\"1\" class=\"dataframe\">\n",
              "  <thead>\n",
              "    <tr style=\"text-align: right;\">\n",
              "      <th></th>\n",
              "      <th>ProductId</th>\n",
              "      <th>Rating</th>\n",
              "    </tr>\n",
              "  </thead>\n",
              "  <tbody>\n",
              "    <tr>\n",
              "      <th>226740</th>\n",
              "      <td>B00LU0LTOU</td>\n",
              "      <td>5.0</td>\n",
              "    </tr>\n",
              "    <tr>\n",
              "      <th>226739</th>\n",
              "      <td>B00LPVG6V0</td>\n",
              "      <td>5.0</td>\n",
              "    </tr>\n",
              "    <tr>\n",
              "      <th>226738</th>\n",
              "      <td>B00LP2YB8E</td>\n",
              "      <td>5.0</td>\n",
              "    </tr>\n",
              "    <tr>\n",
              "      <th>226737</th>\n",
              "      <td>B00LOS7MEE</td>\n",
              "      <td>5.0</td>\n",
              "    </tr>\n",
              "    <tr>\n",
              "      <th>226736</th>\n",
              "      <td>B00LORWRJA</td>\n",
              "      <td>5.0</td>\n",
              "    </tr>\n",
              "  </tbody>\n",
              "</table>\n",
              "</div>"
            ],
            "text/plain": [
              "         ProductId  Rating\n",
              "226740  B00LU0LTOU     5.0\n",
              "226739  B00LPVG6V0     5.0\n",
              "226738  B00LP2YB8E     5.0\n",
              "226737  B00LOS7MEE     5.0\n",
              "226736  B00LORWRJA     5.0"
            ]
          },
          "metadata": {},
          "execution_count": 31
        }
      ]
    },
    {
      "cell_type": "code",
      "metadata": {
        "colab": {
          "base_uri": "https://localhost:8080/"
        },
        "id": "vMcsYOyPkhrv",
        "outputId": "d9ba199e-4d95-4119-8bc1-ff0a101505fb"
      },
      "source": [
        "train_data.groupby('ProductId')['Rating'].count().sort_values(ascending=False).head(10)"
      ],
      "execution_count": 32,
      "outputs": [
        {
          "output_type": "execute_result",
          "data": {
            "text/plain": [
              "ProductId\n",
              "B001MA0QY2    5978\n",
              "B0009V1YR8    2266\n",
              "B0043OYFKU    1998\n",
              "B0000YUXI0    1711\n",
              "B003V265QW    1704\n",
              "B000ZMBSPE    1649\n",
              "B003BQ6QXK    1555\n",
              "B004OHQR1Q    1505\n",
              "B00121UVU0    1457\n",
              "B000FS05VG    1266\n",
              "Name: Rating, dtype: int64"
            ]
          },
          "metadata": {},
          "execution_count": 32
        }
      ]
    },
    {
      "cell_type": "code",
      "metadata": {
        "id": "76JtNmLnkou_"
      },
      "source": [
        "ratings_mean_count = pd.DataFrame(train_data.groupby('ProductId')['Rating'].mean())"
      ],
      "execution_count": 33,
      "outputs": []
    },
    {
      "cell_type": "code",
      "metadata": {
        "id": "qGtfLa53kwWc"
      },
      "source": [
        "ratings_mean_count['rating_counts'] = pd.DataFrame(train_data.groupby('ProductId')['Rating'].count())"
      ],
      "execution_count": 34,
      "outputs": []
    },
    {
      "cell_type": "code",
      "metadata": {
        "colab": {
          "base_uri": "https://localhost:8080/",
          "height": 235
        },
        "id": "uVXLasMVk3nz",
        "outputId": "fd9224c1-7f0d-4201-884f-67fd8ff5bab2"
      },
      "source": [
        "ratings_mean_count.head()"
      ],
      "execution_count": 35,
      "outputs": [
        {
          "output_type": "execute_result",
          "data": {
            "text/html": [
              "<div>\n",
              "<style scoped>\n",
              "    .dataframe tbody tr th:only-of-type {\n",
              "        vertical-align: middle;\n",
              "    }\n",
              "\n",
              "    .dataframe tbody tr th {\n",
              "        vertical-align: top;\n",
              "    }\n",
              "\n",
              "    .dataframe thead th {\n",
              "        text-align: right;\n",
              "    }\n",
              "</style>\n",
              "<table border=\"1\" class=\"dataframe\">\n",
              "  <thead>\n",
              "    <tr style=\"text-align: right;\">\n",
              "      <th></th>\n",
              "      <th>Rating</th>\n",
              "      <th>rating_counts</th>\n",
              "    </tr>\n",
              "    <tr>\n",
              "      <th>ProductId</th>\n",
              "      <th></th>\n",
              "      <th></th>\n",
              "    </tr>\n",
              "  </thead>\n",
              "  <tbody>\n",
              "    <tr>\n",
              "      <th>0558925278</th>\n",
              "      <td>3.0</td>\n",
              "      <td>1</td>\n",
              "    </tr>\n",
              "    <tr>\n",
              "      <th>0733001998</th>\n",
              "      <td>4.0</td>\n",
              "      <td>1</td>\n",
              "    </tr>\n",
              "    <tr>\n",
              "      <th>0737104473</th>\n",
              "      <td>1.0</td>\n",
              "      <td>1</td>\n",
              "    </tr>\n",
              "    <tr>\n",
              "      <th>0762451459</th>\n",
              "      <td>5.0</td>\n",
              "      <td>1</td>\n",
              "    </tr>\n",
              "    <tr>\n",
              "      <th>1304139220</th>\n",
              "      <td>5.0</td>\n",
              "      <td>1</td>\n",
              "    </tr>\n",
              "  </tbody>\n",
              "</table>\n",
              "</div>"
            ],
            "text/plain": [
              "            Rating  rating_counts\n",
              "ProductId                        \n",
              "0558925278     3.0              1\n",
              "0733001998     4.0              1\n",
              "0737104473     1.0              1\n",
              "0762451459     5.0              1\n",
              "1304139220     5.0              1"
            ]
          },
          "metadata": {},
          "execution_count": 35
        }
      ]
    },
    {
      "cell_type": "code",
      "metadata": {
        "id": "BPzw0a_Dk7w5"
      },
      "source": [
        "pred_df = test_data[['UserId', 'ProductId', 'Rating']]"
      ],
      "execution_count": 36,
      "outputs": []
    },
    {
      "cell_type": "code",
      "metadata": {
        "colab": {
          "base_uri": "https://localhost:8080/",
          "height": 204
        },
        "id": "ovwHx4-1maAR",
        "outputId": "dbf09ad1-5128-4e5e-c233-886f83db6238"
      },
      "source": [
        "pred_df.head()"
      ],
      "execution_count": 37,
      "outputs": [
        {
          "output_type": "execute_result",
          "data": {
            "text/html": [
              "<div>\n",
              "<style scoped>\n",
              "    .dataframe tbody tr th:only-of-type {\n",
              "        vertical-align: middle;\n",
              "    }\n",
              "\n",
              "    .dataframe tbody tr th {\n",
              "        vertical-align: top;\n",
              "    }\n",
              "\n",
              "    .dataframe thead th {\n",
              "        text-align: right;\n",
              "    }\n",
              "</style>\n",
              "<table border=\"1\" class=\"dataframe\">\n",
              "  <thead>\n",
              "    <tr style=\"text-align: right;\">\n",
              "      <th></th>\n",
              "      <th>UserId</th>\n",
              "      <th>ProductId</th>\n",
              "      <th>Rating</th>\n",
              "    </tr>\n",
              "  </thead>\n",
              "  <tbody>\n",
              "    <tr>\n",
              "      <th>723411</th>\n",
              "      <td>A23ZJBVZ4OLDJ</td>\n",
              "      <td>B001KNHM4I</td>\n",
              "      <td>3.0</td>\n",
              "    </tr>\n",
              "    <tr>\n",
              "      <th>1472875</th>\n",
              "      <td>A3O52IDYQ4Z66H</td>\n",
              "      <td>B0062U1QC8</td>\n",
              "      <td>4.0</td>\n",
              "    </tr>\n",
              "    <tr>\n",
              "      <th>2000120</th>\n",
              "      <td>A1PDYBT822BHNJ</td>\n",
              "      <td>B00I14O9C2</td>\n",
              "      <td>5.0</td>\n",
              "    </tr>\n",
              "    <tr>\n",
              "      <th>2014061</th>\n",
              "      <td>A14F5W1N7CZDVW</td>\n",
              "      <td>B00JDTFBR6</td>\n",
              "      <td>5.0</td>\n",
              "    </tr>\n",
              "    <tr>\n",
              "      <th>1076951</th>\n",
              "      <td>A2EPK0CT24CZHS</td>\n",
              "      <td>B003O3C06M</td>\n",
              "      <td>4.0</td>\n",
              "    </tr>\n",
              "  </tbody>\n",
              "</table>\n",
              "</div>"
            ],
            "text/plain": [
              "                 UserId   ProductId  Rating\n",
              "723411    A23ZJBVZ4OLDJ  B001KNHM4I     3.0\n",
              "1472875  A3O52IDYQ4Z66H  B0062U1QC8     4.0\n",
              "2000120  A1PDYBT822BHNJ  B00I14O9C2     5.0\n",
              "2014061  A14F5W1N7CZDVW  B00JDTFBR6     5.0\n",
              "1076951  A2EPK0CT24CZHS  B003O3C06M     4.0"
            ]
          },
          "metadata": {},
          "execution_count": 37
        }
      ]
    },
    {
      "cell_type": "code",
      "metadata": {
        "id": "d2AbygLGlE-x"
      },
      "source": [
        "pred_df.rename(columns = {'Rating' : 'true_ratings'}, inplace=True)"
      ],
      "execution_count": 38,
      "outputs": []
    },
    {
      "cell_type": "code",
      "metadata": {
        "colab": {
          "base_uri": "https://localhost:8080/",
          "height": 204
        },
        "id": "xZoqssxPmEQ_",
        "outputId": "4b18b926-04c9-45e0-b3c2-f0a9d1f9de3b"
      },
      "source": [
        "pred_df.head()"
      ],
      "execution_count": 39,
      "outputs": [
        {
          "output_type": "execute_result",
          "data": {
            "text/html": [
              "<div>\n",
              "<style scoped>\n",
              "    .dataframe tbody tr th:only-of-type {\n",
              "        vertical-align: middle;\n",
              "    }\n",
              "\n",
              "    .dataframe tbody tr th {\n",
              "        vertical-align: top;\n",
              "    }\n",
              "\n",
              "    .dataframe thead th {\n",
              "        text-align: right;\n",
              "    }\n",
              "</style>\n",
              "<table border=\"1\" class=\"dataframe\">\n",
              "  <thead>\n",
              "    <tr style=\"text-align: right;\">\n",
              "      <th></th>\n",
              "      <th>UserId</th>\n",
              "      <th>ProductId</th>\n",
              "      <th>true_ratings</th>\n",
              "    </tr>\n",
              "  </thead>\n",
              "  <tbody>\n",
              "    <tr>\n",
              "      <th>723411</th>\n",
              "      <td>A23ZJBVZ4OLDJ</td>\n",
              "      <td>B001KNHM4I</td>\n",
              "      <td>3.0</td>\n",
              "    </tr>\n",
              "    <tr>\n",
              "      <th>1472875</th>\n",
              "      <td>A3O52IDYQ4Z66H</td>\n",
              "      <td>B0062U1QC8</td>\n",
              "      <td>4.0</td>\n",
              "    </tr>\n",
              "    <tr>\n",
              "      <th>2000120</th>\n",
              "      <td>A1PDYBT822BHNJ</td>\n",
              "      <td>B00I14O9C2</td>\n",
              "      <td>5.0</td>\n",
              "    </tr>\n",
              "    <tr>\n",
              "      <th>2014061</th>\n",
              "      <td>A14F5W1N7CZDVW</td>\n",
              "      <td>B00JDTFBR6</td>\n",
              "      <td>5.0</td>\n",
              "    </tr>\n",
              "    <tr>\n",
              "      <th>1076951</th>\n",
              "      <td>A2EPK0CT24CZHS</td>\n",
              "      <td>B003O3C06M</td>\n",
              "      <td>4.0</td>\n",
              "    </tr>\n",
              "  </tbody>\n",
              "</table>\n",
              "</div>"
            ],
            "text/plain": [
              "                 UserId   ProductId  true_ratings\n",
              "723411    A23ZJBVZ4OLDJ  B001KNHM4I           3.0\n",
              "1472875  A3O52IDYQ4Z66H  B0062U1QC8           4.0\n",
              "2000120  A1PDYBT822BHNJ  B00I14O9C2           5.0\n",
              "2014061  A14F5W1N7CZDVW  B00JDTFBR6           5.0\n",
              "1076951  A2EPK0CT24CZHS  B003O3C06M           4.0"
            ]
          },
          "metadata": {},
          "execution_count": 39
        }
      ]
    },
    {
      "cell_type": "code",
      "metadata": {
        "id": "Z-BI2crZlOut"
      },
      "source": [
        "pred_df = pred_df.merge(train_data_sort, left_on='ProductId', right_on = 'ProductId')"
      ],
      "execution_count": 40,
      "outputs": []
    },
    {
      "cell_type": "code",
      "metadata": {
        "id": "q-2BbEFNlTFR"
      },
      "source": [
        "pred_df.rename(columns = {'Rating' : 'predicted_ratings'}, inplace = True)"
      ],
      "execution_count": 41,
      "outputs": []
    },
    {
      "cell_type": "markdown",
      "metadata": {
        "id": "SBKvIU9OcGID"
      },
      "source": [
        "### Popularity based Model"
      ]
    },
    {
      "cell_type": "code",
      "metadata": {
        "colab": {
          "base_uri": "https://localhost:8080/",
          "height": 204
        },
        "id": "49ezM_zrla0c",
        "outputId": "1d581f12-1bbc-488b-9351-d8f718511be6"
      },
      "source": [
        "pred_df.head()"
      ],
      "execution_count": 42,
      "outputs": [
        {
          "output_type": "execute_result",
          "data": {
            "text/html": [
              "<div>\n",
              "<style scoped>\n",
              "    .dataframe tbody tr th:only-of-type {\n",
              "        vertical-align: middle;\n",
              "    }\n",
              "\n",
              "    .dataframe tbody tr th {\n",
              "        vertical-align: top;\n",
              "    }\n",
              "\n",
              "    .dataframe thead th {\n",
              "        text-align: right;\n",
              "    }\n",
              "</style>\n",
              "<table border=\"1\" class=\"dataframe\">\n",
              "  <thead>\n",
              "    <tr style=\"text-align: right;\">\n",
              "      <th></th>\n",
              "      <th>UserId</th>\n",
              "      <th>ProductId</th>\n",
              "      <th>true_ratings</th>\n",
              "      <th>predicted_ratings</th>\n",
              "    </tr>\n",
              "  </thead>\n",
              "  <tbody>\n",
              "    <tr>\n",
              "      <th>0</th>\n",
              "      <td>A23ZJBVZ4OLDJ</td>\n",
              "      <td>B001KNHM4I</td>\n",
              "      <td>3.0</td>\n",
              "      <td>4.575758</td>\n",
              "    </tr>\n",
              "    <tr>\n",
              "      <th>1</th>\n",
              "      <td>A1KDWQFQG6JH3H</td>\n",
              "      <td>B001KNHM4I</td>\n",
              "      <td>5.0</td>\n",
              "      <td>4.575758</td>\n",
              "    </tr>\n",
              "    <tr>\n",
              "      <th>2</th>\n",
              "      <td>A3E63XR6WF78A3</td>\n",
              "      <td>B001KNHM4I</td>\n",
              "      <td>5.0</td>\n",
              "      <td>4.575758</td>\n",
              "    </tr>\n",
              "    <tr>\n",
              "      <th>3</th>\n",
              "      <td>A2M0H1TUTR9RY3</td>\n",
              "      <td>B001KNHM4I</td>\n",
              "      <td>5.0</td>\n",
              "      <td>4.575758</td>\n",
              "    </tr>\n",
              "    <tr>\n",
              "      <th>4</th>\n",
              "      <td>A3LC7S3NXSR4SM</td>\n",
              "      <td>B001KNHM4I</td>\n",
              "      <td>5.0</td>\n",
              "      <td>4.575758</td>\n",
              "    </tr>\n",
              "  </tbody>\n",
              "</table>\n",
              "</div>"
            ],
            "text/plain": [
              "           UserId   ProductId  true_ratings  predicted_ratings\n",
              "0   A23ZJBVZ4OLDJ  B001KNHM4I           3.0           4.575758\n",
              "1  A1KDWQFQG6JH3H  B001KNHM4I           5.0           4.575758\n",
              "2  A3E63XR6WF78A3  B001KNHM4I           5.0           4.575758\n",
              "3  A2M0H1TUTR9RY3  B001KNHM4I           5.0           4.575758\n",
              "4  A3LC7S3NXSR4SM  B001KNHM4I           5.0           4.575758"
            ]
          },
          "metadata": {},
          "execution_count": 42
        }
      ]
    },
    {
      "cell_type": "code",
      "metadata": {
        "colab": {
          "base_uri": "https://localhost:8080/"
        },
        "id": "4aEE_J25levo",
        "outputId": "1557ba40-4048-4fe6-d540-5aa865c2c881"
      },
      "source": [
        "import sklearn.metrics as metric\n",
        "from math import sqrt\n",
        "MSE = metric.mean_squared_error(pred_df['true_ratings'], pred_df['predicted_ratings'])\n",
        "print('The RMSE value for Recommender model is', sqrt(MSE))"
      ],
      "execution_count": 43,
      "outputs": [
        {
          "output_type": "stream",
          "text": [
            "The RMSE value for Recommender model is 1.3078273121694615\n"
          ],
          "name": "stdout"
        }
      ]
    },
    {
      "cell_type": "markdown",
      "metadata": {
        "id": "CeNHK7HHZH_Y"
      },
      "source": [
        "## Model 2: Collaborative Filtering using surprise library"
      ]
    },
    {
      "cell_type": "code",
      "metadata": {
        "colab": {
          "base_uri": "https://localhost:8080/"
        },
        "id": "VtS_U1QhoVJr",
        "outputId": "86f908ba-c04f-4f39-b146-f7f137d10dab"
      },
      "source": [
        "!pip install surprise"
      ],
      "execution_count": 44,
      "outputs": [
        {
          "output_type": "stream",
          "text": [
            "Requirement already satisfied: surprise in /usr/local/lib/python3.7/dist-packages (0.1)\n",
            "Requirement already satisfied: scikit-surprise in /usr/local/lib/python3.7/dist-packages (from surprise) (1.1.1)\n",
            "Requirement already satisfied: joblib>=0.11 in /usr/local/lib/python3.7/dist-packages (from scikit-surprise->surprise) (1.0.1)\n",
            "Requirement already satisfied: numpy>=1.11.2 in /usr/local/lib/python3.7/dist-packages (from scikit-surprise->surprise) (1.19.5)\n",
            "Requirement already satisfied: six>=1.10.0 in /usr/local/lib/python3.7/dist-packages (from scikit-surprise->surprise) (1.15.0)\n",
            "Requirement already satisfied: scipy>=1.0.0 in /usr/local/lib/python3.7/dist-packages (from scikit-surprise->surprise) (1.4.1)\n"
          ],
          "name": "stdout"
        }
      ]
    },
    {
      "cell_type": "code",
      "metadata": {
        "id": "4v26w7cZnqls"
      },
      "source": [
        "import surprise\n",
        "from surprise import KNNWithMeans\n",
        "from surprise.model_selection import GridSearchCV\n",
        "from surprise import Dataset\n",
        "from surprise import accuracy\n",
        "from surprise import Reader\n",
        "from surprise.model_selection import train_test_split"
      ],
      "execution_count": 45,
      "outputs": []
    },
    {
      "cell_type": "code",
      "metadata": {
        "id": "b2NRVriSpV_X"
      },
      "source": [
        "from surprise import KNNBasic, SVD, NormalPredictor, KNNBaseline,KNNWithMeans, KNNWithZScore, BaselineOnly, CoClustering, Reader, dataset, accuracy"
      ],
      "execution_count": 46,
      "outputs": []
    },
    {
      "cell_type": "markdown",
      "metadata": {
        "id": "KWu6nCu-ZOTT"
      },
      "source": [
        "Since data is too huge, due to that colab(free version) wasn't able to process it properly. So inorder to work properly a subset is taken which is top users who had given more than 50 ratings."
      ]
    },
    {
      "cell_type": "code",
      "metadata": {
        "id": "jVuWwJVgWOe0"
      },
      "source": [
        "userID = df.groupby('UserId').count()"
      ],
      "execution_count": 51,
      "outputs": []
    },
    {
      "cell_type": "code",
      "metadata": {
        "id": "_TNb-OukWVxD"
      },
      "source": [
        "top_user = userID[userID['Rating'] >= 50].index"
      ],
      "execution_count": 52,
      "outputs": []
    },
    {
      "cell_type": "code",
      "metadata": {
        "id": "3w7ksmnMWacL"
      },
      "source": [
        "topuser_ratings_df = df[df['UserId'].isin(top_user)]"
      ],
      "execution_count": 53,
      "outputs": []
    },
    {
      "cell_type": "code",
      "metadata": {
        "colab": {
          "base_uri": "https://localhost:8080/",
          "height": 204
        },
        "id": "xR8P9uP9Wmzh",
        "outputId": "b311f04c-8627-46c5-abe1-690204688359"
      },
      "source": [
        "topuser_ratings_df.sort_values(by='Rating', ascending=False).head()"
      ],
      "execution_count": 55,
      "outputs": [
        {
          "output_type": "execute_result",
          "data": {
            "text/html": [
              "<div>\n",
              "<style scoped>\n",
              "    .dataframe tbody tr th:only-of-type {\n",
              "        vertical-align: middle;\n",
              "    }\n",
              "\n",
              "    .dataframe tbody tr th {\n",
              "        vertical-align: top;\n",
              "    }\n",
              "\n",
              "    .dataframe thead th {\n",
              "        text-align: right;\n",
              "    }\n",
              "</style>\n",
              "<table border=\"1\" class=\"dataframe\">\n",
              "  <thead>\n",
              "    <tr style=\"text-align: right;\">\n",
              "      <th></th>\n",
              "      <th>UserId</th>\n",
              "      <th>ProductId</th>\n",
              "      <th>Rating</th>\n",
              "    </tr>\n",
              "  </thead>\n",
              "  <tbody>\n",
              "    <tr>\n",
              "      <th>5</th>\n",
              "      <td>AKJHHD5VEH7VG</td>\n",
              "      <td>0762451459</td>\n",
              "      <td>5.0</td>\n",
              "    </tr>\n",
              "    <tr>\n",
              "      <th>1779178</th>\n",
              "      <td>ACZ94JB8BFMJ9</td>\n",
              "      <td>B00A9MKPT0</td>\n",
              "      <td>5.0</td>\n",
              "    </tr>\n",
              "    <tr>\n",
              "      <th>1778023</th>\n",
              "      <td>A10G136JEISLVR</td>\n",
              "      <td>B00A8I8AVA</td>\n",
              "      <td>5.0</td>\n",
              "    </tr>\n",
              "    <tr>\n",
              "      <th>1778730</th>\n",
              "      <td>A1Z54EM24Y40LL</td>\n",
              "      <td>B00A8S6HM4</td>\n",
              "      <td>5.0</td>\n",
              "    </tr>\n",
              "    <tr>\n",
              "      <th>1778920</th>\n",
              "      <td>A2K7V3G4598QRF</td>\n",
              "      <td>B00A93VUEI</td>\n",
              "      <td>5.0</td>\n",
              "    </tr>\n",
              "  </tbody>\n",
              "</table>\n",
              "</div>"
            ],
            "text/plain": [
              "                 UserId   ProductId  Rating\n",
              "5         AKJHHD5VEH7VG  0762451459     5.0\n",
              "1779178   ACZ94JB8BFMJ9  B00A9MKPT0     5.0\n",
              "1778023  A10G136JEISLVR  B00A8I8AVA     5.0\n",
              "1778730  A1Z54EM24Y40LL  B00A8S6HM4     5.0\n",
              "1778920  A2K7V3G4598QRF  B00A93VUEI     5.0"
            ]
          },
          "metadata": {},
          "execution_count": 55
        }
      ]
    },
    {
      "cell_type": "code",
      "metadata": {
        "id": "Elrb31AZVTX9"
      },
      "source": [
        "prodID = df.groupby('ProductId').count()"
      ],
      "execution_count": 56,
      "outputs": []
    },
    {
      "cell_type": "code",
      "metadata": {
        "id": "w59Ajg09Vhzi"
      },
      "source": [
        "top_prod = prodID[prodID['Rating'] >= 50].index"
      ],
      "execution_count": 57,
      "outputs": []
    },
    {
      "cell_type": "code",
      "metadata": {
        "id": "9kP644frVo0C"
      },
      "source": [
        "top_ratings_df = topuser_ratings_df[topuser_ratings_df['ProductId'].isin(top_prod)]"
      ],
      "execution_count": 58,
      "outputs": []
    },
    {
      "cell_type": "code",
      "metadata": {
        "colab": {
          "base_uri": "https://localhost:8080/",
          "height": 204
        },
        "id": "_CnFpXPtVp_s",
        "outputId": "2c30e2da-9ab6-426c-de0d-bd2d99b461c3"
      },
      "source": [
        "top_ratings_df.sort_values(by='Rating', ascending=False).head()"
      ],
      "execution_count": 60,
      "outputs": [
        {
          "output_type": "execute_result",
          "data": {
            "text/html": [
              "<div>\n",
              "<style scoped>\n",
              "    .dataframe tbody tr th:only-of-type {\n",
              "        vertical-align: middle;\n",
              "    }\n",
              "\n",
              "    .dataframe tbody tr th {\n",
              "        vertical-align: top;\n",
              "    }\n",
              "\n",
              "    .dataframe thead th {\n",
              "        text-align: right;\n",
              "    }\n",
              "</style>\n",
              "<table border=\"1\" class=\"dataframe\">\n",
              "  <thead>\n",
              "    <tr style=\"text-align: right;\">\n",
              "      <th></th>\n",
              "      <th>UserId</th>\n",
              "      <th>ProductId</th>\n",
              "      <th>Rating</th>\n",
              "    </tr>\n",
              "  </thead>\n",
              "  <tbody>\n",
              "    <tr>\n",
              "      <th>1717</th>\n",
              "      <td>A2FQZKL2KIZACO</td>\n",
              "      <td>9790790961</td>\n",
              "      <td>5.0</td>\n",
              "    </tr>\n",
              "    <tr>\n",
              "      <th>1436380</th>\n",
              "      <td>A2S7YBFPZX1IGQ</td>\n",
              "      <td>B005OZW3ZG</td>\n",
              "      <td>5.0</td>\n",
              "    </tr>\n",
              "    <tr>\n",
              "      <th>1435690</th>\n",
              "      <td>A1APERZNMEU8PW</td>\n",
              "      <td>B005OZGDO8</td>\n",
              "      <td>5.0</td>\n",
              "    </tr>\n",
              "    <tr>\n",
              "      <th>1435806</th>\n",
              "      <td>A1YVJ2CLK0L2WR</td>\n",
              "      <td>B005OZH88I</td>\n",
              "      <td>5.0</td>\n",
              "    </tr>\n",
              "    <tr>\n",
              "      <th>1435808</th>\n",
              "      <td>ADMPGWBF0BC9W</td>\n",
              "      <td>B005OZH88I</td>\n",
              "      <td>5.0</td>\n",
              "    </tr>\n",
              "  </tbody>\n",
              "</table>\n",
              "</div>"
            ],
            "text/plain": [
              "                 UserId   ProductId  Rating\n",
              "1717     A2FQZKL2KIZACO  9790790961     5.0\n",
              "1436380  A2S7YBFPZX1IGQ  B005OZW3ZG     5.0\n",
              "1435690  A1APERZNMEU8PW  B005OZGDO8     5.0\n",
              "1435806  A1YVJ2CLK0L2WR  B005OZH88I     5.0\n",
              "1435808   ADMPGWBF0BC9W  B005OZH88I     5.0"
            ]
          },
          "metadata": {},
          "execution_count": 60
        }
      ]
    },
    {
      "cell_type": "code",
      "metadata": {
        "colab": {
          "base_uri": "https://localhost:8080/"
        },
        "id": "q8Knq5BUV5sP",
        "outputId": "52dca1d2-f7d9-4db1-ac22-51ccf1fcfba5"
      },
      "source": [
        "top_ratings_df.shape"
      ],
      "execution_count": 61,
      "outputs": [
        {
          "output_type": "execute_result",
          "data": {
            "text/plain": [
              "(13717, 3)"
            ]
          },
          "metadata": {},
          "execution_count": 61
        }
      ]
    },
    {
      "cell_type": "markdown",
      "metadata": {
        "id": "-wG18WffZz3J"
      },
      "source": [
        "#### Conversion to surprise format"
      ]
    },
    {
      "cell_type": "code",
      "metadata": {
        "id": "Y35ojjihoRAi"
      },
      "source": [
        "reader = Reader(rating_scale=(0.5, 5.0))"
      ],
      "execution_count": 62,
      "outputs": []
    },
    {
      "cell_type": "code",
      "metadata": {
        "id": "hs-S09cBolqd"
      },
      "source": [
        "data = Dataset.load_from_df(top_ratings_df[['UserId', 'ProductId', 'Rating']],reader)"
      ],
      "execution_count": 63,
      "outputs": []
    },
    {
      "cell_type": "markdown",
      "metadata": {
        "id": "0b6LHKkNZ81B"
      },
      "source": [
        "#### Model training"
      ]
    },
    {
      "cell_type": "code",
      "metadata": {
        "id": "OCv4NaoUovEM"
      },
      "source": [
        "from surprise.model_selection import train_test_split\n",
        "trainset, testset = train_test_split(data, test_size=.3,random_state=0)"
      ],
      "execution_count": 64,
      "outputs": []
    },
    {
      "cell_type": "code",
      "metadata": {
        "colab": {
          "base_uri": "https://localhost:8080/"
        },
        "id": "0SdpmJbUo53E",
        "outputId": "de7e4d5b-4ade-4014-8738-3f4ec85819b6"
      },
      "source": [
        "type(trainset)"
      ],
      "execution_count": 65,
      "outputs": [
        {
          "output_type": "execute_result",
          "data": {
            "text/plain": [
              "surprise.trainset.Trainset"
            ]
          },
          "metadata": {},
          "execution_count": 65
        }
      ]
    },
    {
      "cell_type": "markdown",
      "metadata": {
        "id": "ksSCD0jOaNqs"
      },
      "source": [
        "#### KNN with means"
      ]
    },
    {
      "cell_type": "code",
      "metadata": {
        "colab": {
          "base_uri": "https://localhost:8080/"
        },
        "id": "4yU5nkhao9FP",
        "outputId": "c1346500-90b9-4f08-bd26-f7f3b359e1da"
      },
      "source": [
        "model = KNNWithMeans(k=10, min_k=6, sim_options={'name': 'pearson_baseline', 'user_based': True})\n",
        "model.fit(trainset)"
      ],
      "execution_count": 66,
      "outputs": [
        {
          "output_type": "stream",
          "text": [
            "Estimating biases using als...\n",
            "Computing the pearson_baseline similarity matrix...\n",
            "Done computing similarity matrix.\n"
          ],
          "name": "stdout"
        },
        {
          "output_type": "execute_result",
          "data": {
            "text/plain": [
              "<surprise.prediction_algorithms.knns.KNNWithMeans at 0x7fc3f7fa2210>"
            ]
          },
          "metadata": {},
          "execution_count": 66
        }
      ]
    },
    {
      "cell_type": "markdown",
      "metadata": {
        "id": "AscKLc0zaTf9"
      },
      "source": [
        "#### SVD"
      ]
    },
    {
      "cell_type": "code",
      "metadata": {
        "colab": {
          "base_uri": "https://localhost:8080/"
        },
        "id": "GAtiTdIopDs3",
        "outputId": "7889495a-43ba-4fc6-a355-c1bf9b3c5eab"
      },
      "source": [
        "svd_model = SVD(n_factors=50,reg_all=0.02)\n",
        "svd_model.fit(trainset)"
      ],
      "execution_count": 67,
      "outputs": [
        {
          "output_type": "execute_result",
          "data": {
            "text/plain": [
              "<surprise.prediction_algorithms.matrix_factorization.SVD at 0x7fc3f934fd10>"
            ]
          },
          "metadata": {},
          "execution_count": 67
        }
      ]
    },
    {
      "cell_type": "markdown",
      "metadata": {
        "id": "_-t8nryBpwXE"
      },
      "source": [
        "#Evaluation of all models."
      ]
    },
    {
      "cell_type": "markdown",
      "metadata": {
        "id": "wXY9ssCJaaCO"
      },
      "source": [
        "## Popularity based Model"
      ]
    },
    {
      "cell_type": "code",
      "metadata": {
        "colab": {
          "base_uri": "https://localhost:8080/"
        },
        "id": "jkiwvfzSpwD2",
        "outputId": "67f1b32e-7858-40c8-fe81-083c476a2da6"
      },
      "source": [
        "MSE = metric.mean_squared_error(pred_df['true_ratings'], pred_df['predicted_ratings'])\n",
        "print('The RMSE value for Popularity Recommender model is', sqrt(MSE))"
      ],
      "execution_count": 68,
      "outputs": [
        {
          "output_type": "stream",
          "text": [
            "The RMSE value for Popularity Recommender model is 1.3078273121694615\n"
          ],
          "name": "stdout"
        }
      ]
    },
    {
      "cell_type": "markdown",
      "metadata": {
        "id": "YVfHaA7xalnw"
      },
      "source": [
        "## Collaborative Based Filtering"
      ]
    },
    {
      "cell_type": "code",
      "metadata": {
        "colab": {
          "base_uri": "https://localhost:8080/"
        },
        "id": "2DAzZiT_pNC4",
        "outputId": "9f3d5cd5-1095-4323-c9bf-73b2c1a3f0bf"
      },
      "source": [
        "print(len(testset))\n",
        "type(testset)"
      ],
      "execution_count": 69,
      "outputs": [
        {
          "output_type": "stream",
          "text": [
            "4116\n"
          ],
          "name": "stdout"
        },
        {
          "output_type": "execute_result",
          "data": {
            "text/plain": [
              "list"
            ]
          },
          "metadata": {},
          "execution_count": 69
        }
      ]
    },
    {
      "cell_type": "markdown",
      "metadata": {
        "id": "1YztA1sTafVc"
      },
      "source": [
        "### KNN with means"
      ]
    },
    {
      "cell_type": "code",
      "metadata": {
        "colab": {
          "base_uri": "https://localhost:8080/"
        },
        "id": "UaXHsm3Hp6lp",
        "outputId": "220be820-4841-4eb6-a832-959a18bc7e5b"
      },
      "source": [
        "# Evalute on test set\n",
        "test_pred = model.test(testset)\n",
        "test_pred[0]"
      ],
      "execution_count": 70,
      "outputs": [
        {
          "output_type": "execute_result",
          "data": {
            "text/plain": [
              "Prediction(uid='A25C2M3QF9G7OQ', iid='B009YSSLAU', r_ui=4.0, est=4.516699820834101, details={'actual_k': 10, 'was_impossible': False})"
            ]
          },
          "metadata": {},
          "execution_count": 70
        }
      ]
    },
    {
      "cell_type": "code",
      "metadata": {
        "colab": {
          "base_uri": "https://localhost:8080/"
        },
        "id": "N2lm9-BNp_3x",
        "outputId": "938bef5b-bafc-467c-9f84-60375a34c5c9"
      },
      "source": [
        "# compute RMSE\n",
        "accuracy.rmse(test_pred)"
      ],
      "execution_count": 71,
      "outputs": [
        {
          "output_type": "stream",
          "text": [
            "RMSE: 1.0561\n"
          ],
          "name": "stdout"
        },
        {
          "output_type": "execute_result",
          "data": {
            "text/plain": [
              "1.0561184327784499"
            ]
          },
          "metadata": {},
          "execution_count": 71
        }
      ]
    },
    {
      "cell_type": "markdown",
      "metadata": {
        "id": "tqJS-lD7auue"
      },
      "source": [
        "### SVD"
      ]
    },
    {
      "cell_type": "code",
      "metadata": {
        "id": "h7QNPea5qIPu"
      },
      "source": [
        "test_pred = svd_model.test(testset)"
      ],
      "execution_count": 72,
      "outputs": []
    },
    {
      "cell_type": "code",
      "metadata": {
        "colab": {
          "base_uri": "https://localhost:8080/"
        },
        "id": "fACU2soKqQiY",
        "outputId": "4b035918-f23a-4a38-ee9c-6be89f3c6cc6"
      },
      "source": [
        "# compute RMSE\n",
        "accuracy.rmse(test_pred)"
      ],
      "execution_count": 73,
      "outputs": [
        {
          "output_type": "stream",
          "text": [
            "RMSE: 1.0108\n"
          ],
          "name": "stdout"
        },
        {
          "output_type": "execute_result",
          "data": {
            "text/plain": [
              "1.010793970798527"
            ]
          },
          "metadata": {},
          "execution_count": 73
        }
      ]
    },
    {
      "cell_type": "markdown",
      "metadata": {
        "id": "3Hiuuz9Yazs_"
      },
      "source": [
        "#Hyper Parameter Tuning of SVD model"
      ]
    },
    {
      "cell_type": "markdown",
      "metadata": {
        "id": "-Mp3Q3O2bAZN"
      },
      "source": [
        "Since it had lowest Root mean square error"
      ]
    },
    {
      "cell_type": "code",
      "metadata": {
        "id": "toubEwXrqTic"
      },
      "source": [
        "from surprise.model_selection import GridSearchCV\n",
        "param_grid = {'n_factors' : [5,10,15], \"reg_all\":[0.01,0.02]}\n",
        "gs = GridSearchCV(SVD, param_grid, measures=['rmse'], cv=3,refit = True)"
      ],
      "execution_count": 74,
      "outputs": []
    },
    {
      "cell_type": "code",
      "metadata": {
        "id": "KgBFJGl3qaAh"
      },
      "source": [
        "gs.fit(data)"
      ],
      "execution_count": 75,
      "outputs": []
    },
    {
      "cell_type": "code",
      "metadata": {
        "colab": {
          "base_uri": "https://localhost:8080/"
        },
        "id": "IbQCrYlhqdrY",
        "outputId": "e12486ee-68e1-4187-f86c-98c522bc218e"
      },
      "source": [
        "gs.best_params"
      ],
      "execution_count": 76,
      "outputs": [
        {
          "output_type": "execute_result",
          "data": {
            "text/plain": [
              "{'rmse': {'n_factors': 15, 'reg_all': 0.02}}"
            ]
          },
          "metadata": {},
          "execution_count": 76
        }
      ]
    },
    {
      "cell_type": "code",
      "metadata": {
        "colab": {
          "base_uri": "https://localhost:8080/"
        },
        "id": "HURRM_ttqh56",
        "outputId": "d6a7b3ae-5791-4c59-970d-c5d668eedf3b"
      },
      "source": [
        "# Use the \"best model\" for prediction\n",
        "gs.test(testset)\n",
        "accuracy.rmse(gs.test(testset))"
      ],
      "execution_count": 78,
      "outputs": [
        {
          "output_type": "stream",
          "text": [
            "RMSE: 0.8750\n"
          ],
          "name": "stdout"
        },
        {
          "output_type": "execute_result",
          "data": {
            "text/plain": [
              "0.8750443599163501"
            ]
          },
          "metadata": {},
          "execution_count": 78
        }
      ]
    },
    {
      "cell_type": "markdown",
      "metadata": {
        "id": "KJ0u2baVbMpn"
      },
      "source": [
        "The RMSE value of collaborative model, at first by KNNwithmeans is 1.05 and with SVD is 1.01. On further tuning of SVD model we got RMSE of SVD model as 0.8750 which is much better."
      ]
    },
    {
      "cell_type": "markdown",
      "metadata": {
        "id": "gE8QuUNhbqc2"
      },
      "source": [
        "# Recommending 5 Products."
      ]
    },
    {
      "cell_type": "code",
      "metadata": {
        "id": "Qk-8nD83qloj"
      },
      "source": [
        "from collections import defaultdict\n",
        "def get_top_n(predictions, n=5):\n",
        "  \n",
        "    # First map the predictions to each user.\n",
        "    top_n = defaultdict(list)\n",
        "    for uid, iid, true_r, est, _ in predictions:\n",
        "        top_n[uid].append((iid, est))\n",
        "\n",
        "    # Then sort the predictions for each user and retrieve the k highest ones.\n",
        "    for uid, user_ratings in top_n.items():\n",
        "        user_ratings.sort(key=lambda x: x[1], reverse=True)\n",
        "        top_n[uid] = user_ratings[:n]\n",
        "\n",
        "    return top_n"
      ],
      "execution_count": 79,
      "outputs": []
    },
    {
      "cell_type": "code",
      "metadata": {
        "id": "xl0JiikDq3z-"
      },
      "source": [
        "top_n = get_top_n(test_pred, n=5)"
      ],
      "execution_count": 80,
      "outputs": []
    },
    {
      "cell_type": "code",
      "metadata": {
        "colab": {
          "base_uri": "https://localhost:8080/"
        },
        "id": "yUd2pDp_q7RJ",
        "outputId": "f7569977-303f-4d45-8e24-4df628e97430"
      },
      "source": [
        "for uid, user_ratings in top_n.items():\n",
        "    print(uid, [iid for (iid, _) in user_ratings])"
      ],
      "execution_count": 81,
      "outputs": [
        {
          "output_type": "stream",
          "text": [
            "A25C2M3QF9G7OQ ['B009YSSLAU', 'B00HSNWZKU', 'B008VSYO5A', 'B00HSNWXVQ', 'B00AO4EMKQ']\n",
            "AY3D7DG5L5WCK ['B00A0J09C0', 'B00GTBZHUW', 'B00AWLB9G6', 'B00AE07EGO', 'B00GTBZHCA']\n",
            "A2DPYMNI2HCIOI ['B008RVYJS8', 'B00014D5O8', 'B008U2Y9BQ', 'B0002VQ0WO', 'B0014AX89K']\n",
            "A2Y4S4CNGKF21S ['B00021B8L2', 'B003JTA1IU', 'B00069FJUG', 'B00392FQSM', 'B0007CXX82']\n",
            "AYB4ELCS5AM8P ['B004GIM68G', 'B00A0J084Y', 'B008VSYO5A', 'B001ECQ4JE', 'B001ECQ55M']\n",
            "A3GPAR4H5Y5OU8 ['B001ECQ4JE', 'B0030O3VRW', 'B000GUN98O', 'B003WN1ELQ', 'B001JQLNNC']\n",
            "A3IOCPLIMYDBCD ['B000F37UNM', 'B002QXINAS', 'B004YZMKKU', 'B0043TUSME', 'B001LF4I8I']\n",
            "ALNFHVS3SC4FV ['B004Z209HS', 'B004B9C8MO', 'B00GTC02LA', 'B001ECQ4YO', 'B009YSSLAU']\n",
            "AQY5XBYSENNZQ ['B001U0ONNY', 'B00GTBZHUW', 'B006L6A06Q', 'B002MO780W', 'B00AE0790U']\n",
            "A3091RP0SPZLMN ['B00AE07FUE', 'B00GTC02LA', 'B00AE07CTI', 'B001LF4G44', 'B00ALV8EJM']\n",
            "A3AZI828WJN1CD ['B007RTR8UC', 'B00A0IWRRG', 'B006L6A06Q', 'B00AO4EBOI', 'B007WFZ0XI']\n",
            "A2XKJ1KX6XUHYP ['B004CDQ73K', 'B000I5KCIW', 'B002CML1XE', 'B0037AO682', 'B006OC431K']\n",
            "A3FBM0RMCMAABV ['B00AWLB9G6', 'B00AWLBACE', 'B007JT7AGC', 'B00AE0790U', 'B001JQLNJ6']\n",
            "A3IQXED40ZZ2T2 ['B00GCQMSVA', 'B00IDWP4IA', 'B00IP42FBA', 'B00KD73PBQ', 'B004B9C8MO']\n",
            "A16YU3GRGCD95S ['B00ALV8EL0', 'B00AE07FUE', 'B00AO4EMKQ', 'B00GTBZWPW', 'B00ALV8EJM']\n",
            "A33AQPJYH7UUXR ['B0006ZHCK0', 'B004Y5NA1I', 'B0018V1DWE', 'B001M7SIFY', 'B001DKRMB6']\n",
            "ACN76NFHYL6JK ['B0016B5LAQ', 'B005Z446JC', 'B002DPUY10', 'B000Q4B108']\n",
            "A2V5R832QCSOMX ['B000QUM5LG', 'B00DEXA0LY', 'B005OZDYCW', 'B001SERK9G', 'B004E79EQQ']\n",
            "A3FLMF8FG4VPG8 ['B0009MHJE4', 'B000JIN0OG', 'B00387F42G', 'B00080DK86', 'B001B7GJ2E']\n",
            "A1DH3QDZX8Z7GO ['B0089JVDPK', 'B000E0K7NQ', 'B00A0J09C0', 'B007JT7ARQ', 'B00HNKRWII']\n",
            "A34QKW1Y84EHIT ['B000142JDG', 'B001T8JLRK', 'B004LV82JU', 'B000TAA9Q6']\n",
            "A31RULW0KNYJ5H ['B00A0J09G6', 'B009YSSLAU', 'B00IP42FBA', 'B001ECQ5CA', 'B00A0IWRU8']\n",
            "A14E70DKB6QPZY ['B000AMHWCW', 'B002SV0XYW', 'B003TNVSTW', 'B000GHYSL4', 'B008BS9Z8G']\n",
            "A2J19U8H5SSFCJ ['B0010XUU9M', 'B0047F9622', 'B007RTR9FQ', 'B00D6EDGYE', 'B00GYB13OQ']\n",
            "A2065HBMYDXJ1S ['B00A76CPUA', 'B00AE07FXQ', 'B004DIXYUI', 'B00A0J084Y', 'B004S9SEWK']\n",
            "A3EPHBMU07LZ50 ['B000AO2NXS', 'B009FKNGRA', 'B001D0ACUE', 'B0007CXXYG', 'B001OMI93S']\n",
            "A3R5GTYQ50QVMD ['B00GTC02LA', 'B00AAIOP44', 'B00GTC1HB4', 'B00AE07932', 'B001ECQ4OY']\n",
            "A1W415JP5WEAJK ['B004GIM68G', 'B00GTC0E1I', 'B002MO3CG6', 'B004D267RG', 'B009FKNGRA']\n",
            "A2CZ98V784SRJ0 ['B00AE07BMQ', 'B00AE07GX0', 'B00AE0790U', 'B00CP0R5LK', 'B00AE07BDU']\n",
            "AAA0TUKS5VBSA ['B00DCNBST4', 'B00A0J09C0', 'B00A0J09G6', 'B00GTC0E1I', 'B002TSA90M']\n",
            "AAEVYY0PHQUUL ['B002DOO1VA', 'B005R3UYEW', 'B005UL1B34', 'B0034KYDTM', 'B0032DHP6O']\n",
            "A12PH6L5QSVTYN ['B002CMLHF6', 'B000C1VWCM', 'B00005V5P6', 'B002LE8OWO', 'B001CMT83A']\n",
            "A390XPHE9J7DBO ['B00DCF7QW0', 'B00IT1HKV4', 'B000C21AC8', 'B00FFANXMM']\n",
            "A2ILV6IPPW6W7I ['B001LR3NPK', 'B006ZENPYS', 'B006ZBKH2Y', 'B000PNXBU8', 'B000146LKS']\n",
            "AFHYEO3Y1IIDD ['B00ALV8EJM', 'B003V21WO2', 'B007E0FQ1W', 'B004LUZ956', 'B00BB8ZHIU']\n",
            "A3MUSWDCTZINQZ ['B00GTC02LA', 'B00AO4E9MC', 'B00A0J084Y', 'B00A0J09C0', 'B001ECQ4OY']\n",
            "A3BMI7VGJT60Y7 ['B004TSFBNK', 'B004DIXYUI', 'B004ITB3IW', 'B002SV0XYW', 'B000RRKCVS']\n",
            "A2B2I5JO3E8LBX ['B006L1DNWY', 'B009WLXABE', 'B0018X1WLY', 'B00BAVQZ5W', 'B0036UW5VS']\n",
            "A1DCBQD9QX2I3J ['B000142FVW', 'B000PQDKU6', 'B005V2LLXC', 'B001G52ZHO', 'B004220C6E']\n",
            "A22ZFXQE8AWPEP ['B003FPE7MY', 'B0031B51Y0', 'B00DHOET6W', 'B006WVCF18']\n",
            "A89ZZKNDFQH23 ['B00639DLV2', 'B009YSSLAU', 'B009FKNGRA', 'B000ZMBSPE', 'B00ARCQHBC']\n",
            "A22CW0ZHY3NJH8 ['B00GDLML02', 'B000AO2NXS', 'B004B9C8MO', 'B00GJYQCB2', 'B00GJX58PE']\n",
            "A3TMBYDFP1B9DM ['B00AWLBACE', 'B0063TFLG0', 'B009FKNGRA', 'B00BB8ZHIU', 'B0019N6RFO']\n",
            "A2AEQSSI637PJ0 ['B0001TMDF0', 'B004TSFE6Y', 'B0030O3VRW', 'B0008F6ZDI', 'B0090UJFYI']\n",
            "A2R6RA8FRBS608 ['B0006ZHCK0', 'B00AE07B9O', 'B00A0IWTDI', 'B008JBOTDG', 'B0063A432W']\n",
            "A1EAX5HVYV96EF ['B0036Q4RZE', 'B003VI0HVA', 'B0036I8BPE', 'B004YBW5T0', 'B00943D1JQ']\n",
            "A9MYCYZT8EMMX ['B000142C1A', 'B002GENWU8', 'B000PHZ26K', 'B001B7MAU4']\n",
            "AZ26CDSJ363AH ['B00AO4EMKQ', 'B005KJ35D0', 'B0012XO2W6']\n",
            "A30YBYLNRPOEG2 ['B0030HAF4G', 'B000BB9L0S', 'B007NYB0DC', 'B002QY86BI', 'B00187OEWO']\n",
            "A1M1Y5UGONAW06 ['B009GIOVKC', 'B00GCQMSVA', 'B000BTO6CI', 'B001DBPZQE', 'B008QMWPKM']\n",
            "A3RRNV5GDJ4SLW ['B003MJ7Z0O', 'B000ZMBSPE', 'B0041JIANA', 'B005356O34', 'B000TAVKUK']\n",
            "A100WO06OQR8BQ ['B00AE07CPM', 'B00A0J09C0', 'B001U0ONNY', 'B002MO3CG6', 'B0089JVEOK']\n",
            "AK7CAW3N1XZV6 ['B0009STDD8', 'B002VA4FXU', 'B000052YP6', 'B00GJYQCB2', 'B003156NFW']\n",
            "A1F7YU6O5RU432 ['B00GDLML02', 'B00604MSSC', 'B004B9C8MO', 'B00AE07FXQ', 'B003V21WO2']\n",
            "A132ETQPMHQ585 ['B003IU9HI0', 'B001P1ZELS', 'B0069SC0OQ', 'B0001ZYLAO', 'B000P6I3WG']\n",
            "A2P739KOM4U5JB ['B00ALV8EL0', 'B00AO4E9MC', 'B00AE07FUE', 'B000E0K7NQ', 'B00639DLV2']\n",
            "A22QOZZLLIMW6I ['B004JLEGTC', 'B007Q0WW0S', 'B008RTNSJQ', 'B008Q0E714', 'B002DOO1VA']\n",
            "A18JF0T0GOCORW ['B00G052NFE', 'B00GPWYF94', 'B00FFANXMM', 'B00GM6H9BO', 'B009LOJ5MA']\n",
            "A1Z54EM24Y40LL ['B001FWXJ4G', 'B00AO4E9E0', 'B0039NMCPG', 'B00GYB17XI', 'B00GTC1JHQ']\n",
            "A11I1I9QLMAM1A ['B00A0IWRT4', 'B00GTC1HCI', 'B00AE0790U', 'B004OHQR1Q', 'B00DHQCJTO']\n",
            "A3U5RYD678A4LL ['B001JQLNNC', 'B001ARQWW2', 'B006DR2BO2', 'B0000CC64W']\n",
            "A2C58G8O40YC7T ['B000052YOX', 'B000BTO6CI', 'B0030O3VRW', 'B001PUR1GK', 'B001KYPZRS']\n",
            "A2YKWYC3WQJX5J ['B006L6A10G', 'B0072XUY7W', 'B00IP42FBA', 'B002UUT3YM', 'B000142FVW']\n",
            "A3M174IC0VXOS2 ['B0030GFY02', 'B000C1Z29Q', 'B007E0FR84', 'B00FRDPMQC', 'B000ALCJR6']\n",
            "A2EBR70V6P9W0N ['B0011Z3X8O', 'B001FB5IFU', 'B004S9SEWK', 'B000OLE7V8', 'B00016XJ4M']\n",
            "A1I6U5AQAT3ZG9 ['B00AWLBACE', 'B00A0IWRU8', 'B000AO2NXS', 'B00A0J084Y', 'B00GTC02LA']\n",
            "A1P1O16N3ROSUY ['B003GC4GHM', 'B007Q22HMY', 'B001HKR6WM', 'B004IM0KYM', 'B007O7AZ3O']\n",
            "A2KUUIJ52MWDAS ['B00AE07GX0', 'B004D268RA', 'B009ZRFJFA', 'B0073P01RC', 'B002AMUIBM']\n",
            "A2F09EWKV3MTO2 ['B00GTBZXA6', 'B00A0IWRU8', 'B009FKNGRA', 'B0039UTO3M', 'B009FKNGGQ']\n",
            "AOTMP0OKJOUWI ['B0050QLDGY', 'B005TI7NPI', 'B001ECQ4YO', 'B001ECQ4JE', 'B00AE07B9O']\n",
            "A2BYV7S1QP2YIG ['B001T8S7T8', 'B00GW1HKHW', 'B00JTY6WQ4', 'B00092M2ZU', 'B004CASKMO']\n",
            "A3I3BI5PFL3MSH ['B000J41MNG', 'B00005A9WP', 'B000P6I3WG', 'B004C7U9GW']\n",
            "A3KEZLJ59C1JVH ['B000L9YYTS', 'B00AHF1GTM', 'B0084A5PSK', 'B0045SU5ZI', 'B0032RMX3U']\n",
            "A2V92F5R7MLCVI ['B00ALV8EL0', 'B0098JU8T2', 'B001ECQ5CA', 'B00GTBZI6A', 'B00HSNWXVQ']\n",
            "A3CG93783LP0FO ['B00G5WO2VK', 'B00AO4EMKQ', 'B00A0J09GG', 'B007WFZ0XI', 'B00A0IWRRG']\n",
            "A1047EDJ84IMAS ['B0063TFLG0', 'B003VMFITM', 'B004BCT7G6', 'B007H5HJ96', 'B002HWS7RM']\n",
            "A2VPPEVTCQ922W ['B002XQ1QZM', 'B000C1ZFBG', 'B00021AK4I', 'B001HTTBWQ', 'B000XE5260']\n",
            "AEC90GPFKLAAW ['B00GTBZI6A', 'B00AE07BMQ', 'B001U0ONNY', 'B00GUTLC0C', 'B00AE07GX0']\n",
            "A24TCT2CY6KY68 ['B002LFLPEC', 'B004X1QKO2', 'B006UETDGC', 'B001H9275Y', 'B0000530ED']\n",
            "A1YMXGQQT7YWMN ['B00563K6VO', 'B006ZA0A5Y', 'B006UET5UG', 'B003F2T0M4', 'B002WTC37A']\n",
            "A1X3ESYZ79H59E ['B0072XUY7W', 'B00ALV8EJM', 'B00604MSSC', 'B007JT7AIA', 'B007RTR8UC']\n",
            "A2D2XKSXEG3O7F ['B004Z209HS', 'B002QG6P9G', 'B006ZENPYS', 'B0013JHGPO', 'B0038ZKJEQ']\n",
            "A2MUGFV2TDQ47K ['B00AWLBACE', 'B00AWLB9G6', 'B00AWLB9I4', 'B009HULKLW', 'B000MANVXG']\n",
            "A27FP0S5QH7GNE ['B000VI1186', 'B00021C1LI', 'B003YUDRNK', 'B005MG86TY', 'B001HTYJLO']\n",
            "A3U029B8Z5WGI2 ['B00GTBZHUW', 'B006L6A06Q', 'B00AE078TM', 'B00AWLB9I4', 'B00GYB17TC']\n",
            "A1DAFWS98LQD2R ['B000142C1A', 'B001JQLNLY', 'B000248HLI', 'B001ET7892', 'B00014DMQE']\n",
            "A3J1XDOKRNRA6M ['B001F51PXA', 'B003UMNO6C', 'B001E919LU', 'B000GCVZSI', 'B006PEL7A2']\n",
            "A3094EPI56GKZ6 ['B006L6A06Q', 'B00AO4EL34', 'B00CYDSAO4', 'B00HSNX1AS', 'B00HM6K6XQ']\n",
            "A2256XQAA1L8V8 ['B0009F3OS6', 'B002BWOXYE', 'B001FB5NTG', 'B003JT4S7U', 'B000OZI8HS']\n",
            "A27OTTW1CSOYWX ['B00150LT40', 'B002QI1F8A', 'B00D76IRXQ', 'B002S8PU02', 'B001DBPZQE']\n",
            "A2YW1MG1GKU8XD ['B00AWLB9G6', 'B00A0J09C0', 'B001ECQ5CA', 'B00AE078TM', 'B00GTBZWPW']\n",
            "A3AYSYSLHU26U9 ['B00H93NJLS', 'B00A0IWRU8', 'B001LF4I8I', 'B005CE21YW', 'B00A0IWSN4']\n",
            "AXK3KYH8NQ9G2 ['B00BROQU8Y', 'B0014L29RQ', 'B002GP5XD6', 'B006WVCF40', 'B004TSFBNK']\n",
            "AQ6AGWKWMTY8H ['B000AO2NXS', 'B000TKH6G2', 'B009FKNGRA', 'B001T8W5EQ', 'B00604MSSC']\n",
            "A19UTUEBWKIZFT ['B0002Z8QG8', 'B00639DLV2', 'B00IT1HKV4', 'B00AO4EBOI', 'B00A0IWRU8']\n",
            "A9J5SLYXUCWO1 ['B004Z209HS', 'B00121UVU0', 'B00FDK0V4M', 'B008PK5NRC', 'B001LNTNGC']\n",
            "A3BFDEBT5IV4UN ['B004B9C8MO', 'B004GIM68G', 'B00AWLB9G6', 'B001TJXI5U', 'B00HSNWXVQ']\n",
            "A2AVOVUTRTABTX ['B003UH0528', 'B001E96NHK', 'B006L16BHS', 'B00198ZPU2', 'B006GXG6FI']\n",
            "A2G3V7O4WP5F36 ['B004ZMCUIO', 'B004Y9GTYE', 'B00CK8RXUK', 'B00F4TQ49I']\n",
            "A281NPSIMI1C2R ['B0000535UT', 'B0098JU8T2', 'B00639DLV2', 'B000F63TW0', 'B00013YYS0']\n",
            "A1Q1Z7IR79G52A ['B00G052NFE', 'B00DLRNSSK', 'B00DJQQEGQ', 'B00IT69F62', 'B00J5D8BY0']\n",
            "A2SH7OWE8QJYNC ['B000X040QW', 'B000I5MJ8S', 'B003FKSVMG', 'B001E6G6FC']\n",
            "AKMEY1BSHSDG7 ['B00AWLB9G6', 'B002ZTT9II', 'B002B4EFCC', 'B001A5S3BM', 'B001LF4G4E']\n",
            "A2OCDK0BOW6UCY ['B00AWLB9G6', 'B001ECQ5CA', 'B00A0J084Y', 'B00AE07FUE', 'B0072XUY7W']\n",
            "AB24Z8PTNQ33I ['B000Q7XDR4', 'B006BES3LC', 'B002WJOOIQ']\n",
            "A7T2VY28U2IDB ['B000052YOX', 'B00008J2XQ', 'B000ODNSR0', 'B000X1YING', 'B001EWF2SI']\n",
            "A1YRCEF0HM8QVR ['B005HO0A1I', 'B000F8HWXU', 'B001S4C91K', 'B006FXOKDY', 'B00129XP8M']\n",
            "A35LT14WG5BX0T ['B00AO4E9MC', 'B002TSA90M', 'B00AO4E9E0', 'B00AAIOP44', 'B00AWLB9I4']\n",
            "A2JR5ZTSYSIQYX ['B0081CWUD4', 'B0039OVDJ6', 'B005LQRYKM']\n",
            "A2F4FJ3BIZ68GJ ['B006T8T0P8', 'B008H42554', 'B001A4826E', 'B004B0U57S', 'B0078VJ1OK']\n",
            "ACJT8MUC0LRF0 ['B004B9C8MO', 'B00AHF1GK6', 'B005TI7NPI', 'B001ECQ4JE', 'B00A0IWRT4']\n",
            "A6QG9LM5WL0AQ ['B006L6A10G', 'B007E0FQ1W', 'B00BB8ZHIU', 'B00IP42FBA', 'B002PBGBX2']\n",
            "A34BZM6S9L7QI4 ['B00AWLB9G6', 'B00JX979CQ', 'B00IP42FBA', 'B00IT1HKV4', 'B00G052NFE']\n",
            "A2LW5AL0KQ9P1M ['B00HSNWZKU', 'B00GTBZI6A', 'B00AWLB9I4', 'B00HSNWZFU', 'B00ALV8EJM']\n",
            "A5GPH59NDWJRB ['B00GW1HKHW', 'B00ALV8EJM', 'B006L6A06Q', 'B00GYB17XI', 'B00HNKRWX8']\n",
            "A353U0L2HAMSHV ['B00AO4E9MC', 'B00AO4EMKQ', 'B001LF4I8I', 'B00AHF1GK6', 'B00AE07EGO']\n",
            "A19HDB4BN6RFFT ['B0030O3VRW', 'B00385WMI2', 'B0092SVTGA', 'B007JBF99U', 'B000C1Z2D2']\n",
            "A3JCWGHCVC2ZNF ['B008DF54K0', 'B004S6BXLW', 'B001JKTTVQ', 'B0096OBH4Y', 'B0063A432W']\n",
            "A1HBTW5M7ZZ9PT ['B002WTC384', 'B002HWS7RM', 'B004Z67NSM', 'B0085BVFZK', 'B00373FE76']\n",
            "AKMBOKJQBLI1U ['B006HJPT7W', 'B008Q0E714', 'B00A6O1AP4', 'B00876T3W0', 'B00871KNMY']\n",
            "AHN86VFJIJ2JP ['B00CYDSAO4', 'B00GTC1HCI', 'B000F5AFYG', 'B00HM6IV6K', 'B009HKAWFC']\n",
            "A2A5C9IQ06CG9N ['B001AO0WCG', 'B003P7VX24', 'B000NJG82W', 'B0009XH6TG', 'B0042WIHNY']\n",
            "A2I5QH4F5FDKK5 ['B00GTC02LA', 'B00AE078TM', 'B00HM6K6XQ', 'B00A0IWRRG', 'B00GTBZNP6']\n",
            "A28IBOLVCSQRLQ ['B000Q2RP7I', 'B0030HKJ8I', 'B0073P01RC', 'B000TBW0NA', 'B0044XXO84']\n",
            "A3FWVV13DJELLV ['B00A0IWSN4', 'B0075J4TDI', 'B00BB8ZHIU', 'B00HM6K6XQ', 'B00HM6IV6K']\n",
            "A2GJX2KCUSR0EI ['B000142FVW', 'B00150LT40', 'B00FDK0V4M', 'B0030HKJ8I', 'B004DIUWAI']\n",
            "A1GYEGLX3P2Y7P ['B00KD73PBQ', 'B00GTBZHCA', 'B007RTR8A2', 'B00GTC02LA', 'B009YSSLAU']\n",
            "A3E5V5TSTAY3R9 ['B000H3CPO4', 'B000127UUA', 'B000127UVY', 'B00I11RWDS', 'B000WYZ9Q4']\n",
            "A2PGDUYXZFAPT5 ['B006L1DNWY', 'B0009F3R7E', 'B007ZR2RIE', 'B001BR97A0', 'B0063TFLG0']\n",
            "A11SWG9T60IQH8 ['B000HJT1CW', 'B003V21WO2', 'B002XBBLJS', 'B0018ZPZJC', 'B000R46I1O']\n",
            "ALEW5AUKCRWHN ['B006ENQHLS', 'B0032DHP6O', 'B005X2F7JY', 'B005ACLU3E', 'B002RXW5BA']\n",
            "A1ODOGXEYECQQ8 ['B00GDLML02', 'B00GTBZHUW', 'B002TSA90M', 'B00GTBZI6A', 'B00HSNWXVQ']\n",
            "A35HOUWHAYZZN6 ['B00AWLBACE', 'B00GTBZI6A', 'B00A0J09C0', 'B005HIHD2I', 'B00AE07BDU']\n",
            "A376OJHLE6SU9Q ['B00AWLB9G6', 'B00ALV8EJM', 'B002RDBL7Y', 'B0002YE8V6', 'B005TI7NQW']\n",
            "A1X2LENOF84LCQ ['B00JF3RYPM', 'B0010A9RYO', 'B003JA5OJA', 'B007JT7AGC', 'B007RTR8AC']\n",
            "A158CH42BGFN68 ['B0046VGPHQ', 'B0013UAPVK', 'B004NMTMUK', 'B008BCNL3C', 'B000AA2XQ4']\n",
            "A3NHUQ33CFH3VM ['B00AWLBACE', 'B00HSNWXVQ', 'B001AO0WCG', 'B002TSA90M', 'B00ALV8EJM']\n",
            "AH59DZ5AXO8PR ['B005ACLU3E', 'B0034KYDTM', 'B006GTKSHY', 'B002RXW5BA', 'B005UL3LVY']\n",
            "A1X64HF17UU8TX ['B001F51PXA', 'B000KVH1QU', 'B005UBN2AO', 'B000TBW0NA', 'B00CP4QKT4']\n",
            "A1WX42M589VAMQ ['B000142FVW', 'B001KMR9WY', 'B00641UCY8', 'B001FB5IN2', 'B002CMLS50']\n",
            "A33Y8C4818EJL0 ['B00A0J09C0', 'B00A0IWSN4', 'B00AWLBACE', 'B003ITMPI0', 'B00AE078TM']\n",
            "A1APT9S64ARZYX ['B000JWM7FA', 'B008DLT9H8', 'B000ME2YWG', 'B001BALMCS', 'B001ET7892']\n",
            "A2WW57XX2UVLM6 ['B005TI7NPI', 'B000AO2NXS', 'B00AAIOP44', 'B005TI7LHS', 'B00GTBZHUW']\n",
            "A3S3R88HA0HZG3 ['B00GYB107Q', 'B009YSSLAU', 'B0046MI3SO', 'B00IP42FBA', 'B00A0IWRRG']\n",
            "A2PATWWZAXHQYA ['B0052BHMOO', 'B003GC4GHM', 'B00GUTLC0C', 'B004BCT7G6', 'B000COMJNK']\n",
            "A3H4L7TJKQHW4Q ['B00011QTZI', 'B0036QQWAC', 'B007Q0WW0S', 'B0008IV7BU', 'B00017XWJ8']\n",
            "A2QDOJFFLFGF18 ['B00AWLB9G6', 'B00AE07CPM', 'B001A5S3BM', 'B000U0C65C', 'B00AWLB9I4']\n",
            "A1QV5IH6HDRN0L ['B000P257CO', 'B000C230QC', 'B002UGO15M', 'B004FEKA3E', 'B004N0ULSO']\n",
            "A6XHF110BC856 ['B00479FP4Q', 'B0046EBOFG', 'B000MC5US8', 'B000NB3VNO']\n",
            "A2SZLNSI5KOQJT ['B00AE07CPM', 'B005TI7NPI', 'B00A0IWRU8', 'B00A0IWSN4', 'B008VSYO5A']\n",
            "AG05BT5GLNYLZ ['B00A76CPUA', 'B004OHQR1Q', 'B006T8T0P8', 'B006U98T08', 'B003VWZCMK']\n",
            "A1JLBNDDAJB4OP ['B006BA3BAY', 'B0072XUY7W', 'B003TPTGDK', 'B0009EXOO6', 'B003VI0HVA']\n",
            "A1UQBFCERIP7VJ ['B004GIM68G', 'B00AO4E9MC', 'B00H93NJLS', 'B005TI7NPI', 'B001ECQ5CA']\n",
            "ATSR2L4FZVO8Z ['B0010XUU9M', 'B003UH0528', 'B0058E3XJI', 'B00021B8L2', 'B004S9SEWK']\n",
            "A3S3VSXEFXBMRC ['B006ON74II', 'B003VN1ING', 'B001619XP0', 'B000ZMBSPE', 'B003HO30Q2']\n",
            "A96FRN3LGYUX9 ['B00005CDSP', 'B005ITRIOY', 'B001DKRM8O', 'B009CS493U', 'B00198ZOU8']\n",
            "A260QLS8Z33KCQ ['B002PBAJ4Y', 'B0033PSM6S', 'B004DIUWY4', 'B007MF5UOM', 'B003ASW4T4']\n",
            "A1PAGHECG401K1 ['B002LB75AO', 'B005TI7NPI', 'B00G052NFE', 'B001MX89Y8', 'B001T8S7T8']\n",
            "A1UVKA2ZQD2C8Z ['B001DKK7Y0', 'B0010KR098', 'B003COAFPQ', 'B001V9OWNU', 'B000ZLVUYO']\n",
            "A3R9H6OKZHHRJD ['B000C1Z1HE', 'B00021B95W', 'B001UE60E0', 'B00A0IWRRG', 'B006L6A06Q']\n",
            "A2R1HUYHXV7H18 ['B006L6A10G', 'B00AE07BMQ', 'B00IP42FBA', 'B00A0J09C0', 'B00CYDSAO4']\n",
            "ATANE2SC44592 ['B00HSNWZKU', 'B000E0K7NQ', 'B00HSNWXVQ', 'B00AE07932', 'B00GTBZWPW']\n",
            "ADS99W8WMEXZ2 ['B00H93NJLS', 'B00IKD3MX6', 'B00IMHN0B4', 'B00GZ18LL8', 'B000052YOR']\n",
            "A1QBOC76MIOJYP ['B007RTR8T8', 'B005EFYXLI', 'B002LE8OWO', 'B005TI7LHS', 'B00A0IWRT4']\n",
            "A1GQAKL9CGQLP1 ['B004GIM68G', 'B00EOP3MJI', 'B0007W1R58', 'B00B0GOSNI', 'B0000CC64W']\n",
            "A1C80VYQMM3FQB ['B0084A5PSK', 'B004INQ65S', 'B0046ZHQAW', 'B001UE60E0', 'B001FS0HAY']\n",
            "A1R377IPZOKLMM ['B00DCNBST4', 'B004N7DQHA', 'B000QUM5LG', 'B001QTW2FK', 'B001ESIZA4']\n",
            "A2K4HN6EECBNR3 ['B00GTC02LA', 'B0098JU8T2', 'B00ARCQHBC', 'B0073P01RC', 'B008X9KKSM']\n",
            "A1X1CEGHTHMBL1 ['B0006ZHCK0', 'B0009OAIE0', 'B000C1UFDE', 'B002JDUMFO', 'B003A870SE']\n",
            "ARYSDAZNRXN6G ['B00021B8L2', 'B000UPRSKA', 'B003HG4GQI', 'B00G5WO2VK', 'B006K26D9E']\n",
            "A261I3UFZG30Z6 ['B0076D1YF4', 'B00A73BVP8', 'B005Y6F4WO', 'B00644YNCM', 'B008FX7B9M']\n",
            "A2B8GXSCB1R05T ['B005HO0A1I', 'B001IACZEK', 'B00GTC1HCI', 'B006L6A06Q', 'B00GTBZOVE']\n",
            "A1RRMZKOMZ2M7J ['B0009STDD8', 'B000FCNW26', 'B000C215IW', 'B000JL5MK8', 'B0009OAI2C']\n",
            "ADMPGWBF0BC9W ['B005OZFV50', 'B0082D69H0', 'B000KVH1QU', 'B004LXHEX8', 'B002JL1Y6C']\n",
            "A31B8RZ8YDMRX1 ['B004MJIL92', 'B00KCFAZTE', 'B00G2TQNZ4', 'B00JK3ZHIS', 'B00KAL5JAU']\n",
            "AKJHHD5VEH7VG ['B00DCNBST4', 'B00A0IWTEW', 'B008U5XRX4', 'B0019ZMFYE', 'B001LF4I8I']\n",
            "A287547UH1VBJ7 ['B001AO0WCG', 'B001PN55KQ']\n",
            "A29M09QBG9TZLP ['B005TI7NPI', 'B00604MSSC', 'B004INQ65S', 'B00AE07B9O', 'B00AE07EGO']\n",
            "A1ZGHA3IJV01BK ['B00AWLBACE', 'B00GTC1HCI', 'B009FKNGRA', 'B003IXP6P0', 'B004UKENRC']\n",
            "A13JU88JAHN72I ['B001T8W5EQ', 'B007BLN17K', 'B000EVGQ8U']\n",
            "A1MFDFUGEVNIFK ['B000C1VT0W', 'B005LN66Y0', 'B000C1W2DK', 'B000M8BE3C', 'B000WTHKVQ']\n",
            "AIIZTJHZLV158 ['B00013YYS0', 'B001ECQ4JE', 'B0098JU8TW', 'B0002JGU30', 'B004KU9PN4']\n",
            "AZ9JPUSCI0V49 ['B0089JVDPK', 'B0030HKJ8I', 'B006UET5UG', 'B00D6EDGYE', 'B007Q22HMY']\n",
            "A20F84KUBWM88B ['B00AWLBACE', 'B0098JU8T2', 'B006T8BWOA', 'B005XIM6J2', 'B000MVC1CW']\n",
            "APVEFBIJPTYWU ['B0014UAHQW', 'B001KPSO5M', 'B0069SC0OQ', 'B000MAOWOS', 'B0049J7P3S']\n",
            "A2K5AFTU4YOPPW ['B00008J2XQ', 'B000C1Z29Q', 'B004DHYZU2', 'B005Z446JC', 'B00027D0DU']\n",
            "AY9HUIJWJ8TT7 ['B004X1QY20', 'B002T3V294', 'B004MOU4C4', 'B002B4GGUG']\n",
            "A3ESTWDBNOUJQ7 ['B004DIXYUI', 'B001KYS1YM', 'B005UBN2AO', 'B002QY86BI', 'B001KYNVLU']\n",
            "A2X3L31KCXBHCL ['B000E0K7NQ', 'B005XIM6J2', 'B007RTR8T8', 'B000Q6V1UG', 'B00AE07EGO']\n",
            "A2SSV6KM3W1VFD ['B00AWLBACE', 'B009YSSLAU', 'B008U5XRX4', 'B00AE07IEM', 'B004Q8GYES']\n",
            "A1TPW86OHXTXFC ['B003UH0528', 'B007WFZ0XI', 'B0000UTUW4', 'B0015Y9A0G', 'B00188IFHS']\n",
            "A3NM1MT3Q2FHXV ['B00A0IWRT4', 'B006RFZ5ZM', 'B00A0IWRU8', 'B00HSNWZFU', 'B0040H00PE']\n",
            "ADS5APY1NKTL4 ['B00099E8ZA', 'B000EEZAXO', 'B00AHF1GTM', 'B00016WW8Q', 'B001R2S8HM']\n",
            "A5BJMAHZWGJ7N ['B0013CSGBE', 'B0083QNBCM', 'B00AO4EMKQ', 'B006L1DNWY', 'B00HSNWXYI']\n",
            "A2H76V7TTCZ4KV ['B004TSFE6Y', 'B004530AB2', 'B000629ZHG', 'B002B4GGUG', 'B002UL10HY']\n",
            "A1X6PD8QYKIJHZ ['B001E96NYS', 'B000IF3D38', 'B001F51TNQ', 'B000HGIQRG', 'B006UET9HK']\n",
            "AENH50GW3OKDA ['B0018C0HLQ', 'B00EWDKF06', 'B005KT4T44', 'B008RVYJS8', 'B002RTIS24']\n",
            "A36MP37DITBU6F ['B001A5S3BM', 'B0072XUY7W', 'B00A0J09G6', 'B00AE078TM', 'B00AWLB9I4']\n",
            "A1P2XYD265YE21 ['B00JF3RYPM', 'B008VSYO5A', 'B005QZQ9JU', 'B0027CT5VO', 'B00AE07BDU']\n",
            "A112TFLXGBF6NI ['B00132ZG3U', 'B000XFSUWW', 'B001DHI0R4', 'B006WVCF18']\n",
            "ANXT431V3MW4Z ['B000HRVC5I', 'B0030O3VRW', 'B001ADP0OM', 'B0000535RA', 'B001G7PPNI']\n",
            "A8O12DCHIADYU ['B006UET5UG', 'B005EII2OY', 'B003RCZSJ6', 'B004I94DF2', 'B001AT5LEU']\n",
            "A33PYDS5IBQD7N ['B003UH0528', 'B000P22TIY', 'B00CC7TBHM', 'B002HWS7RM', 'B002WTC37A']\n",
            "AHUT55E980RDR ['B00AWLB9G6', 'B0072XUY7W', 'B00AE07CPM', 'B00AO4EMKQ', 'B000E0K7NQ']\n",
            "AMLLGCP82ZO7C ['B006L1DNWY', 'B006CD6616', 'B00468KRH8', 'B005C1C02S', 'B003VMV7D8']\n",
            "A2W9VGCIJQG0NI ['B002QI1E9K', 'B00641UCY8', 'B0009VNI40']\n",
            "AN9EWQN1LGMY7 ['B000EGMCFG', 'B0001432S2', 'B005UBN5AQ', 'B0009OAIE0', 'B001JQLNMI']\n",
            "A2Q3BW3177V542 ['B000142FVW', 'B0002Z8HAI', 'B00ATDTZ0Y', 'B000142C1A', 'B002PBJIPK']\n",
            "A10G136JEISLVR ['B0049J7P3S', 'B000TAE0RK', 'B0065R18TY', 'B003U4LGV0', 'B0038TVHGG']\n",
            "A1GUX6R8DV3ZLY ['B000142FVW', 'B003UH0528', 'B003I6O5RC', 'B001KYVLSU', 'B000P6BRHY']\n",
            "ATV36X9V9DRB9 ['B000OV3ZDO', 'B0006LNMIU', 'B000YHLOC2', 'B0089JVEOK']\n",
            "A1T61QP7QHYBRQ ['B00AWLBACE', 'B00A0J084Y', 'B008U5XRX4', 'B00AO4EBOI', 'B00AE0790U']\n",
            "A3SH6CQYS8FHB ['B00IALDHDI', 'B003V265QW', 'B000IIHDT0', 'B004OEO0E0']\n",
            "AOEUN9718KVRD ['B00604MSSC', 'B001E96NHK', 'B00GTC1HCI', 'B00A0IWTEW', 'B002MO3CG6']\n",
            "A324GIXX5SIYGA ['B006UET5UG', 'B000052YOX', 'B004GH99QO', 'B0010XUU9M', 'B0030HAE2Y']\n",
            "A3RHPBNP2N9RJB ['B000A409J8', 'B000A38ZFO', 'B00176B9JC', 'B001OKB4OQ', 'B0058CJV50']\n",
            "A1EVV74UQYVKRY ['B00DCNBST4', 'B00GDLML02', 'B00A0J09GG', 'B00AE078TM', 'B00AE07CTI']\n",
            "AEL6CQNQXONBX ['B00HSNWXVQ', 'B005TI7NPI', 'B00ALV8EJM', 'B000AO2NXS', 'B0009EILKS']\n",
            "A3TYR1ALBZ2EU9 ['B00A76CPUA', 'B004OHQR1Q', 'B0026J10CU', 'B003ENBXYM', 'B0084BPHY6']\n",
            "A1KSC91G9AIY2Z ['B0018DAUKI', 'B001ECQ4IU', 'B007O7AZ3O', 'B003UMNO6C', 'B00121UVU0']\n",
            "A110PQTEI6THU7 ['B0038TYTSO', 'B001189I3A']\n",
            "AIIR8E34EDKCQ ['B000EBAHHG', 'B001AO0WCG', 'B001LF4G4E', 'B005HIHD2I', 'B001D0ACUE']\n",
            "AYOMAHLWRQHUG ['B0030GFY02', 'B00AWLB9I4', 'B00GTBZHUW', 'B00A0IWRRG', 'B00AO379NE']\n",
            "AGEKVD8JPZQMT ['B008VSYO5A', 'B009YSSLAU', 'B00A0J084Y', 'B00AE07CPM', 'B00A0IWRRG']\n",
            "A32ZIX6JXPJX3O ['B001ALPKXA', 'B0020MM8TW', 'B001M9KX78']\n",
            "A3J029KBNG5MNP ['B00A0J084Y', 'B000AO2NXS', 'B00A0J09GG', 'B00A0IWRU8', 'B007RTR8T8']\n",
            "A3CTOYWB73TMM0 ['B000052YOX', 'B000P22TIY', 'B0056KD6N2', 'B007HTSVAS', 'B004SU88CU']\n",
            "A1P27BGF8NAI29 ['B000HRVC5I', 'B00BB8ZHIU', 'B000AO2NXS', 'B00122CP30', 'B0002714IS']\n",
            "A2DA2NJZ2RIYAB ['B00A0J09C0', 'B00A0J09GG', 'B00AE07BMQ', 'B007JT7AGC', 'B00AE07FXQ']\n",
            "A3HJ8ZPQN5VR7X ['B002XQ1YT0', 'B002GENWU8', 'B00008CMOQ', 'B0019QQ13Y', 'B004LXHEX8']\n",
            "AI0131QZO047J ['B0015G9EGY', 'B00A76CPUA', 'B0019TYZ66', 'B000G33KEO', 'B003VMFITM']\n",
            "A1GT3775JP80UF ['B00150LT40', 'B0065DLADM', 'B0018BTA2Y', 'B000VDUOFM']\n",
            "A6X1O3A5C5FX1 ['B00AWLB9I4', 'B00AE07FUE', 'B00HM6IV6K', 'B00AO4EL34', 'B00AE07GX0']\n",
            "A3VBF1J95ROAYF ['B0002Z8QG8', 'B00150LT40', 'B001PEZAHI', 'B000VV1ZMU', 'B001707IQ6']\n",
            "A2OWR5G2OAQF7C ['B00CYDSAO4', 'B00AWLB9I4', 'B00198ZPU2', 'B0050VKEWS', 'B000052YKM']\n",
            "A1M04H40ZVGWVG ['B005WKJB6C', 'B007U90J5U', 'B00159Y23Q', 'B0012TCFBA', 'B0015A30XI']\n",
            "A1QTICTBQKS6I6 ['B004GH99QO', 'B0006ZHCK0', 'B001DKQ3O8', 'B000G8LWZI', 'B00683MOWK']\n",
            "A2USMIT2CSA08 ['B00641UCY8', 'B0019LWU2K', 'B005R3IPJI', 'B004MKNUAG', 'B004BE6EBU']\n",
            "A1APERZNMEU8PW ['B001TJXI5U', 'B000WNLFBI', 'B008K1YYM6', 'B0020YLEYK', 'B004R6CAGU']\n",
            "A2PXXYVFB3HD6O ['B00CXADQ4M', 'B001MP7HYY', 'B001L3YB28', 'B004UE9S9Q', 'B001HTYJLO']\n",
            "A3LWVPC3KVQAFR ['B006UET5UG', 'B0044XXO84', 'B001C4Q3UY', 'B004CQ710U', 'B0028BKV4E']\n",
            "A3QNV9LUNM589P ['B002DPUY4W', 'B000PHUKEE', 'B00C8FVY3M', 'B004EAWKO6', 'B003FXE6VI']\n",
            "A2YB7DLC3FOR7W ['B001LF4G4E', 'B001LF4I8I', 'B004MTCKSU', 'B002AA13M2', 'B003S19S9W']\n",
            "A2ZY49IDE6TY5I ['B000142FVW', 'B00604MSSC', 'B007RTR8A2', 'B001U0ONNY', 'B00AE07FXQ']\n",
            "A1VUGUKWX4B808 ['B00ARX8GGA', 'B00CJ3MDJW', 'B00DSLFNQ4', 'B005FFVATK', 'B00DPTW8JY']\n",
            "A1YUL9PCJR3JTY ['B000E75ES2', 'B0009ET5O4', 'B001OG1CWY', 'B0015PGFQW', 'B001ET72C0']\n",
            "A2VOGNBUMXSW13 ['B00021DJ32', 'B005OZF1S2', 'B002U774PK', 'B0090PHG7Q', 'B0039OVDJ6']\n",
            "A1EF37KYK7PRLV ['B000X040QW', 'B0009MHJE4', 'B002QI1F8A', 'B002KMXO36', 'B004TSFE6Y']\n",
            "ACZ94JB8BFMJ9 ['B0013CSGBE', 'B001KYS1YM', 'B003MJ7Z0O', 'B007O7AZBG', 'B0089JVEOK']\n",
            "A2CQ2X9H9HY6W0 ['B00B99O5WK', 'B0071H5C76', 'B000MQSIOW', 'B003UJHSUI', 'B000VQEQXA']\n",
            "AEJEG1P5S4J9Y ['B00150LT40', 'B000TNOUA4', 'B001MX89Y8', 'B0019N6RFO', 'B001HNNSIU']\n",
            "A2D4FQHV506EPB ['B00604MSSC', 'B006MRM2TW', 'B0098JU8TC', 'B00GTBZNP6', 'B001707IQ6']\n",
            "A2QWHEI914GHRZ ['B00G052NFE', 'B00I2495QG', 'B00I6R90Q4', 'B00IS6XPQY', 'B00GGXFJ7O']\n",
            "AE7V92R2LVEJF ['B005UBN2AO', 'B0084A5PSK', 'B0069FDR96', 'B004NMTMUK', 'B002BFIH2U']\n",
            "A2ZKZJGVGIJ8OP ['B00016XJ4M', 'B000P6WIHC', 'B005SPWI3O', 'B002B4O7XE']\n",
            "ABDR6IJ93HFIO ['B00GUTLC0C', 'B00HSNX1AS', 'B00GP2N66W', 'B002LE8OVA', 'B001QXKDRA']\n",
            "A1W31W7O8D5EW ['B001H54VJI', 'B001DKK7Y0', 'B002T5B4T0', 'B00157RZ14', 'B00A9MKPT0']\n",
            "A2ZKQC0XCIIAEM ['B000E0K7NQ', 'B005TI7NPI', 'B008VSYO5A', 'B00A0IWRRG', 'B00AE07BDU']\n",
            "ALQGOMOY1F5X9 ['B000KONYJK', 'B003PFBCTU', 'B0039XT498', 'B000GDF48O', 'B0047F9622']\n",
            "A174X51AGFWAMW ['B0008F6ZDI', 'B000KNHJ5G', 'B005AYJ6EW', 'B00BOBKSLK', 'B0012CD32W']\n",
            "A3315AAN855HYG ['B002QI1F8A', 'B000EM9D6Q', 'B002WDIPR8', 'B003CEA88U']\n",
            "A1VQBEW0G4IH1J ['B006L6A10G', 'B00A0IWRU8', 'B009FKNGRA', 'B00GTBZWPW', 'B00GTC0DFK']\n",
            "ACR4HKUT808U1 ['B001ECQ4YO', 'B005TI7NPI', 'B00ALV8EJM', 'B006RFZ8C2', 'B00GYB17XI']\n",
            "A2A7KXM9B4XW90 ['B002QI1E9K', 'B005TKZS76', 'B001KYVOJQ', 'B0062GZB4Q', 'B004XA81ZE']\n",
            "A2S7YBFPZX1IGQ ['B00027D8IC', 'B001V3TVEQ', 'B00016XJ4M', 'B001JQLNNM', 'B001E96P0U']\n",
            "A2OTGX253O4J4D ['B0015G9EGY', 'B003ZTVDBS', 'B002S8PU02', 'B0009ET5JE', 'B004VMGTY4']\n",
            "A21VGNU5959O85 ['B006L6A10G', 'B00639DLV2', 'B008U5XRX4', 'B004D267RG', 'B006L6A06Q']\n",
            "A1PK9JYJF5Y2V6 ['B002HWS7RM', 'B0038TVH3Y', 'B000ELP5KA', 'B003I5ZMDY', 'B00014DMQE']\n",
            "A1A3R2SG60TOR0 ['B001VD8DDG']\n",
            "A3UZ99BQWAJACU ['B004ITB3IW', 'B0011ULXB8', 'B0026IFLG2', 'B004X1QKO2', 'B001GELIBO']\n",
            "A34TVK5J8P7XDQ ['B00121UVU0', 'B00HD4F8DK', 'B0002Z8GEK', 'B000UBN5S8']\n",
            "A135SX8ESCQV9B ['B00644YNCM', 'B0034KYDRE', 'B005ACLU3E', 'B005UKZAJG', 'B005X2F7JY']\n",
            "A24N4FKHGD7DWT ['B0094GHGQM', 'B00AQ9JIDK', 'B005TKZS76', 'B000AAC8VO', 'B0058CJV50']\n",
            "APYKGTU0LFICH ['B002VA4FXU', 'B0082D69H0', 'B0092MCO88', 'B001ET76EY', 'B000052YQ2']\n",
            "A36RO7NCM6IUGB ['B00021DZCC', 'B0009OAGRE', 'B00016X68Q', 'B000C1VX3A']\n",
            "A1ITRGMT80D5TK ['B005TI7NPI', 'B007RTR8A2', 'B00AO4E9E0', 'B00ALV8EJM', 'B006RFZ8NG']\n",
            "A914TQVHI872U ['B00JF3RYPM', 'B000142C1A', 'B00A0J09G6', 'B000C1UD4K', 'B00AWLB9I4']\n",
            "A3GU3CXHONZJQ6 ['B001PTFY2O', 'B000BTO6EG', 'B000C1ZFJI', 'B000VOJPI8', 'B000P27CKY']\n",
            "A2WZNM833CJH82 ['B001ECQ4JE', 'B0030GFY02', 'B0032DHP6O', 'B007RTR8UC', 'B009FKNGGQ']\n",
            "A2CHH5P055A0KL ['B007SA3CD2', 'B002PBHQP4', 'B000052YJM', 'B0032CDFCS', 'B008F5D4Y6']\n",
            "A2UM324B00HBC8 ['B00547H5U2', 'B001OG1CWY', 'B00HNKRWI8', 'B00HE88JMC', 'B005KJ353U']\n",
            "A1FR87EBHPZHBJ ['B0059NA3MI', 'B00CDGR29G', 'B005VX8S4G', 'B001GEEQ90', 'B004NYWR7S']\n",
            "A3D9NUCR4RXDPY ['B00A0J09C0', 'B00604MSSC', 'B00HM6IV6K', 'B00I6CRX04', 'B003EH20VI']\n",
            "AXYVSHTLWBINI ['B000AO2NXS', 'B00AO4EMKQ', 'B0015C0RIC', 'B005I2MP62', 'B005Z41P28']\n",
            "AJGU56YG8G1DQ ['B000QUM5LG', 'B003TPTGDK', 'B000CIBVP8', 'B000BZB1FC', 'B0047PSV14']\n",
            "A2JCJJNY43QQIV ['B00AAIOP44', 'B005CE21YW', 'B0068G8DTA', 'B00AE078TM', 'B001LF4G7G']\n",
            "A3S8D4BMVASTF9 ['B004EWS5F2', 'B007UM8ZGM', 'B008V9JG02', 'B003H8180I', 'B005EII0QO']\n",
            "AA1JJNJ5VYI97 ['B001PEZAHI', 'B002XOQSPC', 'B000QTFT2Y', 'B000B63Y1K', 'B002C0CZEU']\n",
            "A3SFI0SLCMP0KX ['B00A76CPUA', 'B00021B8L2', 'B006HT0AK8', 'B002K6AHQY', 'B00JGCU60W']\n",
            "A1ZXEVTNNDKJ61 ['B000F0QCWA']\n",
            "A32NZK5H2NIM13 ['B002QI1F8A', 'B0009OAHWI', 'B0092SVTGA', 'B00F4TQ49I', 'B000C230QC']\n",
            "A1MI1I73Z5J9MI ['B000O3BDHW', 'B0030O3VRW', 'B004DIUWAI', 'B004X1QKO2', 'B002R23I76']\n",
            "A3LJLRIZL38GG3 ['B005EFYXLI', 'B0019QQ13Y', 'B007CDSFKU', 'B0026J10CU', 'B001DBPZQE']\n",
            "A1PI8VBCXXSGC7 ['B00DCNBST4', 'B005HO0A1I', 'B004GIM68G', 'B004N7DQHA', 'B00G052NFE']\n",
            "A17Y11XADHLI8A ['B003M57E9A', 'B003CHMS4O', 'B005UGVIQ4', 'B001JKTTVQ']\n",
            "A19KOAGQJUXL18 ['B00ALV8EJM', 'B000052YP6', 'B000MT1GHA', 'B002T5NMGS', 'B00G36TJKW']\n",
            "A3VN4P1607UR2U ['B003I8I0YY', 'B00B2CEHAO', 'B00683JILU']\n",
            "A1YLLARX683DKC ['B001KYPZRS', 'B000OD31WW', 'B007WW1AOE', 'B0000531GD', 'B0049E7984']\n",
            "A1IU7S4HCK1XK0 ['B000ODNSR0', 'B000ZMBSPE', 'B002Y26RUE', 'B002GP5XD6', 'B003I6MLN2']\n",
            "A2FWDBKX76ILA7 ['B0002Z8HAI', 'B0000536M2', 'B00GCQMSVA', 'B008R56PVI', 'B006K9OQSC']\n",
            "A1X5VVJP78U81E ['B006UET5UG', 'B004Y9GS0E', 'B002XHACTM', 'B0000531WZ', 'B006OHM542']\n",
            "AGWWIU5K88RKB ['B00AINMFAC']\n",
            "A1UMSB7LAW0RIR ['B00A0J09G6', 'B00AE07CTI', 'B000E0K7NQ', 'B00A0IWRRG', 'B007JT7AIA']\n",
            "A2HMP5LYU0BF6B ['B002B4GGUG', 'B003RD1MV8', 'B003I5ZMDY', 'B000EVGQ8U', 'B003S19S9W']\n",
            "A1Q3W2FX8LKH19 ['B005G9LPAY', 'B003F2T0M4', 'B0081CWUD4', 'B0039UTTC8', 'B0009ET6BQ']\n",
            "A2D1LPEUCTNT8X ['B00JX979CQ', 'B00011QVHO', 'B001CTQMIC', 'B008PUJBJS', 'B000YHLOC2']\n",
            "A1RVM6W2YI7568 ['B0000UTUW4', 'B003BQ6QXK', 'B0000UTUVU', 'B001UE60E0', 'B000BIUGTQ']\n",
            "A1NBK07JEBCFI ['B000UPRSKA', 'B003GDBEBM', 'B00141XJJS', 'B0009EXOO6']\n",
            "A1R1BFJCMWX0Y3 ['B005TI7NPI', 'B00AE07BMQ', 'B00AE07CPM', 'B00AE07BDU', 'B001A5S3BM']\n",
            "AC1UO4XW14D6W ['B007XA49O8', 'B0000YUX4O', 'B002WTC37U', 'B007SG2QT2', 'B004GT440S']\n",
            "A1FU6N9PIEIL5F ['B0017U10SI', 'B0058CJV50', 'B0030HKJ8I', 'B001BAG38G', 'B004KXKG20']\n",
            "A2AX9C569CKHOJ ['B007CY2C76', 'B004JLGC12', 'B001SERK9G', 'B00008CMOR', 'B00649P4JS']\n",
            "A10Y59HW4O47N0 ['B00132FV8U']\n",
            "A3FA78E0G3G4GQ ['B004Z209HS', 'B001824J5G', 'B00787QT6W', 'B001MA0QY2', 'B0006LNJ56']\n",
            "A21936E2ZRY72J ['B0009OAHRI', 'B0000632EN', 'B003NV9R2U']\n",
            "A1BS22O15EOQ9S ['B001TJXI5U', 'B005P0OBSM', 'B0016P4P4K', 'B005V1A05S', 'B000GDDKIU']\n",
            "A2LAS014NSRW72 ['B00GTBZHUW', 'B004YZMKKU', 'B00BXKET7G', 'B00EF1QRMU', 'B00GYB17TC']\n",
            "A2G35B0XBEVQTC ['B0000533CC']\n",
            "A225UWT247BBBH ['B003FXE6VI', 'B0010O3URU', 'B002VLZHLI', 'B001AZS6R8', 'B00512CREO']\n",
            "A17W4YG9W016T1 ['B000052ZB2', 'B004CQXZ5U', 'B001ET7EE6']\n",
            "A2K7V3G4598QRF ['B004DBUAGG', 'B0009R5B8A', 'B005TI7L6O', 'B0019JAQPA']\n",
            "A1DQHS7MOVYYYA ['B0039UTO3M', 'B004D267RG', 'B005KJ35D0', 'B000Z605H2', 'B007RTR9DS']\n",
            "AANHR0DB9SZ80 ['B000N2IGWY', 'B00117VR1M', 'B000OFB5QO', 'B001ELTPUU', 'B00021PDN6']\n",
            "A37J8XKLNOX2RO ['B004BCEFUY', 'B0014LLC3I', 'B003YC6GKO']\n",
            "APG4YVSUN3T6S ['B00120XR0M', 'B002IT3KD0', 'B000HLRP7S', 'B0034E702U', 'B000TDFA3K']\n",
            "A2ZHH7AK83JB5G ['B00GTC02LA', 'B002MO3CG6', 'B00HNKRWII', 'B00CP0R5LK', 'B00GYB17P6']\n",
            "A1CI63P473W5RJ ['B004TSF8R4', 'B001TJXI5U', 'B004IZJ2QG', 'B006U98T08', 'B002S8RWYY']\n",
            "AJRFZ0VZ0LD26 ['B00A0J09GG', 'B005LZT9GU', 'B0017JV8I6', 'B003WHF148', 'B00ALV8EJW']\n",
            "A3N3ZTC5LDWDWD ['B00AZBVKAS', 'B0080GV0Z0', 'B005PZ2PNK', 'B005DU5MY6', 'B005VX8S4G']\n",
            "A3GA09FYFKL4EY ['B004Y9M4DE', 'B002XHACTM', 'B000KONYPY', 'B006UET4XE', 'B002PBHQP4']\n",
            "A2UJT1C0E0DWVQ ['B000Q7XDR4', 'B000GHGWKY', 'B0006OU078', 'B000H88PCU', 'B002X9W5OK']\n",
            "A5A3C6XVDYUND ['B0002YE8V6', 'B00ALV8EJM', 'B00021C1LI', 'B000NGH3X8', 'B0009F3NGE']\n",
            "AV6823XS14U41 ['B002WTC38O', 'B000052ZB4', 'B001G7OCSM', 'B000H3EO9I', 'B0030F6BDW']\n",
            "A1HOPKK8E3MIX6 ['B000KONYJK', 'B000KPO99I', 'B0009OAIKY', 'B001FWXIBU', 'B0017JV8I6']\n",
            "A2JNO9OR8FGNR4 ['B0002Z8HAI', 'B00A20OQYE', 'B004INUWX0']\n",
            "AGKAEFSFYWBDF ['B006T8T0P8', 'B0032PQPWW', 'B00CXN66M8', 'B00A9R0BXU', 'B008SPOKIW']\n",
            "AHYPRXI7F5QXS ['B00013YYS0', 'B001BKFF76', 'B004NJ8WFO', 'B002LIXTFC', 'B000VEMWB0']\n",
            "A1YVJ2CLK0L2WR ['B004OE9RO8', 'B004A7OVBI', 'B002L6PXNA', 'B007FAOPP4', 'B000PHRIQM']\n",
            "A5C2PJ2RFO4WS ['B0002Z8HAI', 'B0043TUSME', 'B0043TURKC']\n",
            "A3GKD8MAHURH91 ['B003Z4QHP0', 'B000WQU5IE']\n",
            "A2NIUVVH46ZDTH ['B000RGZK02', 'B000P65UI6']\n",
            "A27UE9HJRZ22YI ['B000YJ2SKM', 'B000ODNSR0', 'B0039UTO3M', 'B0009RFAPY', 'B001HTYJLO']\n",
            "A177B2VPWX4P55 ['B006OC431K']\n",
            "A2R9M9ALI356JU ['B0000ZLEFU', 'B001GIOV8C', 'B000JL69OG', 'B0000530EZ']\n",
            "A3GNEPABXLTKON ['B0045K1N8E', 'B0018C0HLQ', 'B000PQDKU6', 'B008PEXV3Q', 'B00CJIOG0Q']\n",
            "A3K7I9EGDHAGU4 ['B00121UVU0', 'B000P6I3WG', 'B002UJ31HS']\n",
            "A3KO6JEVS1FJ8X ['B000L9YYTS', 'B003AVNLP2', 'B000REOEYM', 'B0012QD7EC']\n",
            "A1XQ0F01CF84Y3 ['B000EEX7TI', 'B004D8JQ4G', 'B000GIOBY2', 'B000C1ZFBG', 'B000EE803Q']\n",
            "AJ0LVMSVJ0CN1 ['B005I8RH78', 'B009JKDCEI', 'B0046CMBK0', 'B00117CH5M']\n",
            "A2FQZKL2KIZACO ['9790790961', 'B00110Q8FO']\n",
            "A3VV0Z7QF0U4W0 ['B00027DDOQ', 'B0038QLU66', 'B000EX5JO0']\n",
            "A1VUN4JU731CBH ['B000YJ2SKM']\n",
            "A1PTBXZG04GT29 ['B00IP42FBA']\n"
          ],
          "name": "stdout"
        }
      ]
    },
    {
      "cell_type": "code",
      "metadata": {
        "id": "ePfIqzdjrA1B"
      },
      "source": [
        ""
      ],
      "execution_count": null,
      "outputs": []
    }
  ]
}