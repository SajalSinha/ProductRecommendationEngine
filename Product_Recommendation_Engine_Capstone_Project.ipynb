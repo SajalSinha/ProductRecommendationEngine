{
  "nbformat": 4,
  "nbformat_minor": 0,
  "metadata": {
    "colab": {
      "name": "Product Recommendation Engine - Capstone Project.ipynb",
      "provenance": [],
      "collapsed_sections": [],
      "include_colab_link": true
    },
    "kernelspec": {
      "display_name": "Python 3",
      "language": "python",
      "name": "python3"
    },
    "language_info": {
      "codemirror_mode": {
        "name": "ipython",
        "version": 3
      },
      "file_extension": ".py",
      "mimetype": "text/x-python",
      "name": "python",
      "nbconvert_exporter": "python",
      "pygments_lexer": "ipython3",
      "version": "3.6.6"
    }
  },
  "cells": [
    {
      "cell_type": "markdown",
      "metadata": {
        "id": "view-in-github",
        "colab_type": "text"
      },
      "source": [
        "<a href=\"https://colab.research.google.com/github/SajalSinha/ProductRecommendationEngine/blob/main/Product_Recommendation_Engine_Capstone_Project.ipynb\" target=\"_parent\"><img src=\"https://colab.research.google.com/assets/colab-badge.svg\" alt=\"Open In Colab\"/></a>"
      ]
    },
    {
      "cell_type": "markdown",
      "metadata": {
        "id": "tOGC-qoyhJeX"
      },
      "source": [
        "# <b><u> Project Title : Build a recommender engine that reviews customer ratings and purchase history to recommend items and improve sales. </u></b>"
      ]
    },
    {
      "cell_type": "markdown",
      "metadata": {
        "id": "Y06xIdG26kRF"
      },
      "source": [
        "### Amazon.com is one of the largest electronic commerce and cloud computing companies.\n",
        "\n",
        "### Just a few Amazon related facts:\n",
        "\n",
        "### They lost $4.8 million in August 2013, when their website went down for 40 mins. They hold the patent on 1-Click buying, and licenses it to Apple. Their Phoenix fulfilment centre is a massive 1.2 million square feet. Amazon relies heavily on a Recommendation engine that reviews customer ratings and purchase history to recommend items and improve sales.\n",
        "\n",
        "\n",
        "### This is a dataset related to over 2 Million customer reviews and ratings of Beauty related products sold on their website.\n",
        "\n",
        "### It contains\n",
        "\n",
        "* ### the unique UserId (Customer Identification),\n",
        "* ### the product ASIN (Amazon's unique product identification code for each product),\n",
        "* ### Ratings (ranging from 1-5 based on customer satisfaction) and\n",
        "* ### the Timestamp of the rating (in UNIX time)\n",
        "\n",
        "### This dataset contains product reviews and metadata from Amazon, including 142.8 million reviews spanning May 1996 - July 2014.\n",
        "\n",
        "### This dataset includes reviews (ratings, text, helpfulness votes), product metadata (descriptions, category information, price, brand, and image features), and links (also viewed/also bought graphs).\n"
      ]
    },
    {
      "cell_type": "code",
      "metadata": {
        "id": "8wyTheqLQUTE"
      },
      "source": [
        ""
      ],
      "execution_count": null,
      "outputs": []
    },
    {
      "cell_type": "code",
      "metadata": {
        "colab": {
          "base_uri": "https://localhost:8080/"
        },
        "id": "oBZNll3ZVTxH",
        "outputId": "c0e9aa3e-ae58-4b25-c7cf-8444a4714eb6"
      },
      "source": [
        "from google.colab import drive\n",
        "drive.mount('/content/drive')"
      ],
      "execution_count": null,
      "outputs": [
        {
          "name": "stdout",
          "output_type": "stream",
          "text": [
            "Mounted at /content/drive\n"
          ]
        }
      ]
    },
    {
      "cell_type": "code",
      "metadata": {
        "id": "0zWs3BZ6VhcX"
      },
      "source": [
        "import pandas as pd\n",
        "import numpy as np\n",
        "import matplotlib.pyplot as plt\n",
        "import seaborn as sns"
      ],
      "execution_count": null,
      "outputs": []
    },
    {
      "cell_type": "code",
      "metadata": {
        "id": "gWRyiqZgVpCF"
      },
      "source": [
        "df = pd.read_csv('/content/drive/MyDrive/Capstone Project 4/ratings_Beauty.csv')"
      ],
      "execution_count": null,
      "outputs": []
    },
    {
      "cell_type": "code",
      "metadata": {
        "colab": {
          "base_uri": "https://localhost:8080/"
        },
        "id": "_xjxz9faVuTl",
        "outputId": "d5040b8c-9987-4855-a1c4-8923a6abdad8"
      },
      "source": [
        "df.shape"
      ],
      "execution_count": null,
      "outputs": [
        {
          "data": {
            "text/plain": [
              "(2023070, 4)"
            ]
          },
          "execution_count": 5,
          "metadata": {},
          "output_type": "execute_result"
        }
      ]
    },
    {
      "cell_type": "code",
      "metadata": {
        "colab": {
          "base_uri": "https://localhost:8080/",
          "height": 390
        },
        "id": "rXjNee7nVxRD",
        "outputId": "6ec58dfe-da87-44c6-a752-f902e360589e"
      },
      "source": [
        "df.describe(include='all') #to get an overview of the data"
      ],
      "execution_count": null,
      "outputs": [
        {
          "data": {
            "text/html": [
              "<div>\n",
              "<style scoped>\n",
              "    .dataframe tbody tr th:only-of-type {\n",
              "        vertical-align: middle;\n",
              "    }\n",
              "\n",
              "    .dataframe tbody tr th {\n",
              "        vertical-align: top;\n",
              "    }\n",
              "\n",
              "    .dataframe thead th {\n",
              "        text-align: right;\n",
              "    }\n",
              "</style>\n",
              "<table border=\"1\" class=\"dataframe\">\n",
              "  <thead>\n",
              "    <tr style=\"text-align: right;\">\n",
              "      <th></th>\n",
              "      <th>UserId</th>\n",
              "      <th>ProductId</th>\n",
              "      <th>Rating</th>\n",
              "      <th>Timestamp</th>\n",
              "    </tr>\n",
              "  </thead>\n",
              "  <tbody>\n",
              "    <tr>\n",
              "      <th>count</th>\n",
              "      <td>2023070</td>\n",
              "      <td>2023070</td>\n",
              "      <td>2.023070e+06</td>\n",
              "      <td>2.023070e+06</td>\n",
              "    </tr>\n",
              "    <tr>\n",
              "      <th>unique</th>\n",
              "      <td>1210271</td>\n",
              "      <td>249274</td>\n",
              "      <td>NaN</td>\n",
              "      <td>NaN</td>\n",
              "    </tr>\n",
              "    <tr>\n",
              "      <th>top</th>\n",
              "      <td>A3KEZLJ59C1JVH</td>\n",
              "      <td>B001MA0QY2</td>\n",
              "      <td>NaN</td>\n",
              "      <td>NaN</td>\n",
              "    </tr>\n",
              "    <tr>\n",
              "      <th>freq</th>\n",
              "      <td>389</td>\n",
              "      <td>7533</td>\n",
              "      <td>NaN</td>\n",
              "      <td>NaN</td>\n",
              "    </tr>\n",
              "    <tr>\n",
              "      <th>mean</th>\n",
              "      <td>NaN</td>\n",
              "      <td>NaN</td>\n",
              "      <td>4.149036e+00</td>\n",
              "      <td>1.360389e+09</td>\n",
              "    </tr>\n",
              "    <tr>\n",
              "      <th>std</th>\n",
              "      <td>NaN</td>\n",
              "      <td>NaN</td>\n",
              "      <td>1.311505e+00</td>\n",
              "      <td>4.611860e+07</td>\n",
              "    </tr>\n",
              "    <tr>\n",
              "      <th>min</th>\n",
              "      <td>NaN</td>\n",
              "      <td>NaN</td>\n",
              "      <td>1.000000e+00</td>\n",
              "      <td>9.087552e+08</td>\n",
              "    </tr>\n",
              "    <tr>\n",
              "      <th>25%</th>\n",
              "      <td>NaN</td>\n",
              "      <td>NaN</td>\n",
              "      <td>4.000000e+00</td>\n",
              "      <td>1.350259e+09</td>\n",
              "    </tr>\n",
              "    <tr>\n",
              "      <th>50%</th>\n",
              "      <td>NaN</td>\n",
              "      <td>NaN</td>\n",
              "      <td>5.000000e+00</td>\n",
              "      <td>1.372810e+09</td>\n",
              "    </tr>\n",
              "    <tr>\n",
              "      <th>75%</th>\n",
              "      <td>NaN</td>\n",
              "      <td>NaN</td>\n",
              "      <td>5.000000e+00</td>\n",
              "      <td>1.391472e+09</td>\n",
              "    </tr>\n",
              "    <tr>\n",
              "      <th>max</th>\n",
              "      <td>NaN</td>\n",
              "      <td>NaN</td>\n",
              "      <td>5.000000e+00</td>\n",
              "      <td>1.406074e+09</td>\n",
              "    </tr>\n",
              "  </tbody>\n",
              "</table>\n",
              "</div>"
            ],
            "text/plain": [
              "                UserId   ProductId        Rating     Timestamp\n",
              "count          2023070     2023070  2.023070e+06  2.023070e+06\n",
              "unique         1210271      249274           NaN           NaN\n",
              "top     A3KEZLJ59C1JVH  B001MA0QY2           NaN           NaN\n",
              "freq               389        7533           NaN           NaN\n",
              "mean               NaN         NaN  4.149036e+00  1.360389e+09\n",
              "std                NaN         NaN  1.311505e+00  4.611860e+07\n",
              "min                NaN         NaN  1.000000e+00  9.087552e+08\n",
              "25%                NaN         NaN  4.000000e+00  1.350259e+09\n",
              "50%                NaN         NaN  5.000000e+00  1.372810e+09\n",
              "75%                NaN         NaN  5.000000e+00  1.391472e+09\n",
              "max                NaN         NaN  5.000000e+00  1.406074e+09"
            ]
          },
          "execution_count": 6,
          "metadata": {},
          "output_type": "execute_result"
        }
      ]
    },
    {
      "cell_type": "markdown",
      "metadata": {
        "id": "1U5KkcVVzLvn"
      },
      "source": [
        "##Checking Null values"
      ]
    },
    {
      "cell_type": "code",
      "metadata": {
        "colab": {
          "base_uri": "https://localhost:8080/",
          "height": 173
        },
        "id": "qC83c1TPV1N3",
        "outputId": "1f6f9e8a-5f85-481d-876d-83592ca87d78"
      },
      "source": [
        "missing_data = pd.DataFrame(df.isnull().mean()*100)\n",
        "missing_data"
      ],
      "execution_count": null,
      "outputs": [
        {
          "data": {
            "text/html": [
              "<div>\n",
              "<style scoped>\n",
              "    .dataframe tbody tr th:only-of-type {\n",
              "        vertical-align: middle;\n",
              "    }\n",
              "\n",
              "    .dataframe tbody tr th {\n",
              "        vertical-align: top;\n",
              "    }\n",
              "\n",
              "    .dataframe thead th {\n",
              "        text-align: right;\n",
              "    }\n",
              "</style>\n",
              "<table border=\"1\" class=\"dataframe\">\n",
              "  <thead>\n",
              "    <tr style=\"text-align: right;\">\n",
              "      <th></th>\n",
              "      <th>0</th>\n",
              "    </tr>\n",
              "  </thead>\n",
              "  <tbody>\n",
              "    <tr>\n",
              "      <th>UserId</th>\n",
              "      <td>0.0</td>\n",
              "    </tr>\n",
              "    <tr>\n",
              "      <th>ProductId</th>\n",
              "      <td>0.0</td>\n",
              "    </tr>\n",
              "    <tr>\n",
              "      <th>Rating</th>\n",
              "      <td>0.0</td>\n",
              "    </tr>\n",
              "    <tr>\n",
              "      <th>Timestamp</th>\n",
              "      <td>0.0</td>\n",
              "    </tr>\n",
              "  </tbody>\n",
              "</table>\n",
              "</div>"
            ],
            "text/plain": [
              "             0\n",
              "UserId     0.0\n",
              "ProductId  0.0\n",
              "Rating     0.0\n",
              "Timestamp  0.0"
            ]
          },
          "execution_count": 7,
          "metadata": {},
          "output_type": "execute_result"
        }
      ]
    },
    {
      "cell_type": "markdown",
      "metadata": {
        "id": "du4X5y04WrNq"
      },
      "source": [
        "All the columns are clean"
      ]
    },
    {
      "cell_type": "code",
      "metadata": {
        "colab": {
          "base_uri": "https://localhost:8080/"
        },
        "id": "6qBGIGJFWAzj",
        "outputId": "6597f096-8987-4554-b115-1ce5cdc3b105"
      },
      "source": [
        "df.info()"
      ],
      "execution_count": null,
      "outputs": [
        {
          "name": "stdout",
          "output_type": "stream",
          "text": [
            "<class 'pandas.core.frame.DataFrame'>\n",
            "RangeIndex: 2023070 entries, 0 to 2023069\n",
            "Data columns (total 4 columns):\n",
            " #   Column     Dtype  \n",
            "---  ------     -----  \n",
            " 0   UserId     object \n",
            " 1   ProductId  object \n",
            " 2   Rating     float64\n",
            " 3   Timestamp  int64  \n",
            "dtypes: float64(1), int64(1), object(2)\n",
            "memory usage: 61.7+ MB\n"
          ]
        }
      ]
    },
    {
      "cell_type": "code",
      "metadata": {
        "colab": {
          "base_uri": "https://localhost:8080/",
          "height": 204
        },
        "id": "35s_g5jIWUvf",
        "outputId": "c4d62ae9-29f6-4fa4-fc7f-13e509d9918f"
      },
      "source": [
        "df.head()"
      ],
      "execution_count": null,
      "outputs": [
        {
          "data": {
            "text/html": [
              "<div>\n",
              "<style scoped>\n",
              "    .dataframe tbody tr th:only-of-type {\n",
              "        vertical-align: middle;\n",
              "    }\n",
              "\n",
              "    .dataframe tbody tr th {\n",
              "        vertical-align: top;\n",
              "    }\n",
              "\n",
              "    .dataframe thead th {\n",
              "        text-align: right;\n",
              "    }\n",
              "</style>\n",
              "<table border=\"1\" class=\"dataframe\">\n",
              "  <thead>\n",
              "    <tr style=\"text-align: right;\">\n",
              "      <th></th>\n",
              "      <th>UserId</th>\n",
              "      <th>ProductId</th>\n",
              "      <th>Rating</th>\n",
              "      <th>Timestamp</th>\n",
              "    </tr>\n",
              "  </thead>\n",
              "  <tbody>\n",
              "    <tr>\n",
              "      <th>0</th>\n",
              "      <td>A39HTATAQ9V7YF</td>\n",
              "      <td>0205616461</td>\n",
              "      <td>5.0</td>\n",
              "      <td>1369699200</td>\n",
              "    </tr>\n",
              "    <tr>\n",
              "      <th>1</th>\n",
              "      <td>A3JM6GV9MNOF9X</td>\n",
              "      <td>0558925278</td>\n",
              "      <td>3.0</td>\n",
              "      <td>1355443200</td>\n",
              "    </tr>\n",
              "    <tr>\n",
              "      <th>2</th>\n",
              "      <td>A1Z513UWSAAO0F</td>\n",
              "      <td>0558925278</td>\n",
              "      <td>5.0</td>\n",
              "      <td>1404691200</td>\n",
              "    </tr>\n",
              "    <tr>\n",
              "      <th>3</th>\n",
              "      <td>A1WMRR494NWEWV</td>\n",
              "      <td>0733001998</td>\n",
              "      <td>4.0</td>\n",
              "      <td>1382572800</td>\n",
              "    </tr>\n",
              "    <tr>\n",
              "      <th>4</th>\n",
              "      <td>A3IAAVS479H7M7</td>\n",
              "      <td>0737104473</td>\n",
              "      <td>1.0</td>\n",
              "      <td>1274227200</td>\n",
              "    </tr>\n",
              "  </tbody>\n",
              "</table>\n",
              "</div>"
            ],
            "text/plain": [
              "           UserId   ProductId  Rating   Timestamp\n",
              "0  A39HTATAQ9V7YF  0205616461     5.0  1369699200\n",
              "1  A3JM6GV9MNOF9X  0558925278     3.0  1355443200\n",
              "2  A1Z513UWSAAO0F  0558925278     5.0  1404691200\n",
              "3  A1WMRR494NWEWV  0733001998     4.0  1382572800\n",
              "4  A3IAAVS479H7M7  0737104473     1.0  1274227200"
            ]
          },
          "execution_count": 9,
          "metadata": {},
          "output_type": "execute_result"
        }
      ]
    },
    {
      "cell_type": "markdown",
      "metadata": {
        "id": "TDoRx7zqzR65"
      },
      "source": [
        "#Exploratory Data Analysis"
      ]
    },
    {
      "cell_type": "code",
      "metadata": {
        "colab": {
          "base_uri": "https://localhost:8080/",
          "height": 361
        },
        "id": "J-8eDaQXW7z0",
        "outputId": "296f9771-3b45-418d-800b-048b712777dc"
      },
      "source": [
        "sns.countplot(df['Rating']) #total count of ratings."
      ],
      "execution_count": null,
      "outputs": [
        {
          "name": "stderr",
          "output_type": "stream",
          "text": [
            "/usr/local/lib/python3.7/dist-packages/seaborn/_decorators.py:43: FutureWarning: Pass the following variable as a keyword arg: x. From version 0.12, the only valid positional argument will be `data`, and passing other arguments without an explicit keyword will result in an error or misinterpretation.\n",
            "  FutureWarning\n"
          ]
        },
        {
          "data": {
            "text/plain": [
              "<matplotlib.axes._subplots.AxesSubplot at 0x7fdd35cf0290>"
            ]
          },
          "execution_count": 10,
          "metadata": {},
          "output_type": "execute_result"
        },
        {
          "data": {
            "image/png": "[encoded data removed]",
            "text/plain": [
              "<Figure size 432x288 with 1 Axes>"
            ]
          },
          "metadata": {},
          "output_type": "display_data"
        }
      ]
    },
    {
      "cell_type": "code",
      "metadata": {
        "colab": {
          "base_uri": "https://localhost:8080/"
        },
        "id": "8SF9ZkMTXA1W",
        "outputId": "39111536-ca0d-4dd3-8c13-d64a9c4a0920"
      },
      "source": [
        "len(df['UserId'].unique())"
      ],
      "execution_count": null,
      "outputs": [
        {
          "data": {
            "text/plain": [
              "1210271"
            ]
          },
          "execution_count": 11,
          "metadata": {},
          "output_type": "execute_result"
        }
      ]
    },
    {
      "cell_type": "code",
      "metadata": {
        "colab": {
          "base_uri": "https://localhost:8080/",
          "height": 700
        },
        "id": "iwWUkMlNXVXn",
        "outputId": "5d77df1f-80bb-48e5-d9fe-bf0114abec81"
      },
      "source": [
        "#Top 20 Products based on sales.\n",
        "\n",
        "a = list(df['ProductId'].value_counts())\n",
        "b = list(df['ProductId'].unique())\n",
        "top_20_products = pd.DataFrame(list(zip(b[0:21],a[0:21])),columns =['ProductID', 'Count'])\n",
        "top_20_products"
      ],
      "execution_count": null,
      "outputs": [
        {
          "data": {
            "text/html": [
              "<div>\n",
              "<style scoped>\n",
              "    .dataframe tbody tr th:only-of-type {\n",
              "        vertical-align: middle;\n",
              "    }\n",
              "\n",
              "    .dataframe tbody tr th {\n",
              "        vertical-align: top;\n",
              "    }\n",
              "\n",
              "    .dataframe thead th {\n",
              "        text-align: right;\n",
              "    }\n",
              "</style>\n",
              "<table border=\"1\" class=\"dataframe\">\n",
              "  <thead>\n",
              "    <tr style=\"text-align: right;\">\n",
              "      <th></th>\n",
              "      <th>ProductID</th>\n",
              "      <th>Count</th>\n",
              "    </tr>\n",
              "  </thead>\n",
              "  <tbody>\n",
              "    <tr>\n",
              "      <th>0</th>\n",
              "      <td>0205616461</td>\n",
              "      <td>7533</td>\n",
              "    </tr>\n",
              "    <tr>\n",
              "      <th>1</th>\n",
              "      <td>0558925278</td>\n",
              "      <td>2869</td>\n",
              "    </tr>\n",
              "    <tr>\n",
              "      <th>2</th>\n",
              "      <td>0733001998</td>\n",
              "      <td>2477</td>\n",
              "    </tr>\n",
              "    <tr>\n",
              "      <th>3</th>\n",
              "      <td>0737104473</td>\n",
              "      <td>2143</td>\n",
              "    </tr>\n",
              "    <tr>\n",
              "      <th>4</th>\n",
              "      <td>0762451459</td>\n",
              "      <td>2088</td>\n",
              "    </tr>\n",
              "    <tr>\n",
              "      <th>5</th>\n",
              "      <td>1304139212</td>\n",
              "      <td>2041</td>\n",
              "    </tr>\n",
              "    <tr>\n",
              "      <th>6</th>\n",
              "      <td>1304139220</td>\n",
              "      <td>1918</td>\n",
              "    </tr>\n",
              "    <tr>\n",
              "      <th>7</th>\n",
              "      <td>130414089X</td>\n",
              "      <td>1885</td>\n",
              "    </tr>\n",
              "    <tr>\n",
              "      <th>8</th>\n",
              "      <td>130414643X</td>\n",
              "      <td>1838</td>\n",
              "    </tr>\n",
              "    <tr>\n",
              "      <th>9</th>\n",
              "      <td>1304146537</td>\n",
              "      <td>1589</td>\n",
              "    </tr>\n",
              "    <tr>\n",
              "      <th>10</th>\n",
              "      <td>130414674X</td>\n",
              "      <td>1558</td>\n",
              "    </tr>\n",
              "    <tr>\n",
              "      <th>11</th>\n",
              "      <td>1304168522</td>\n",
              "      <td>1475</td>\n",
              "    </tr>\n",
              "    <tr>\n",
              "      <th>12</th>\n",
              "      <td>1304174778</td>\n",
              "      <td>1468</td>\n",
              "    </tr>\n",
              "    <tr>\n",
              "      <th>13</th>\n",
              "      <td>1304174867</td>\n",
              "      <td>1430</td>\n",
              "    </tr>\n",
              "    <tr>\n",
              "      <th>14</th>\n",
              "      <td>1304174905</td>\n",
              "      <td>1379</td>\n",
              "    </tr>\n",
              "    <tr>\n",
              "      <th>15</th>\n",
              "      <td>1304196046</td>\n",
              "      <td>1349</td>\n",
              "    </tr>\n",
              "    <tr>\n",
              "      <th>16</th>\n",
              "      <td>1304196062</td>\n",
              "      <td>1349</td>\n",
              "    </tr>\n",
              "    <tr>\n",
              "      <th>17</th>\n",
              "      <td>1304196070</td>\n",
              "      <td>1347</td>\n",
              "    </tr>\n",
              "    <tr>\n",
              "      <th>18</th>\n",
              "      <td>1304196135</td>\n",
              "      <td>1341</td>\n",
              "    </tr>\n",
              "    <tr>\n",
              "      <th>19</th>\n",
              "      <td>1304351475</td>\n",
              "      <td>1333</td>\n",
              "    </tr>\n",
              "    <tr>\n",
              "      <th>20</th>\n",
              "      <td>1304482596</td>\n",
              "      <td>1330</td>\n",
              "    </tr>\n",
              "  </tbody>\n",
              "</table>\n",
              "</div>"
            ],
            "text/plain": [
              "     ProductID  Count\n",
              "0   0205616461   7533\n",
              "1   0558925278   2869\n",
              "2   0733001998   2477\n",
              "3   0737104473   2143\n",
              "4   0762451459   2088\n",
              "5   1304139212   2041\n",
              "6   1304139220   1918\n",
              "7   130414089X   1885\n",
              "8   130414643X   1838\n",
              "9   1304146537   1589\n",
              "10  130414674X   1558\n",
              "11  1304168522   1475\n",
              "12  1304174778   1468\n",
              "13  1304174867   1430\n",
              "14  1304174905   1379\n",
              "15  1304196046   1349\n",
              "16  1304196062   1349\n",
              "17  1304196070   1347\n",
              "18  1304196135   1341\n",
              "19  1304351475   1333\n",
              "20  1304482596   1330"
            ]
          },
          "execution_count": 12,
          "metadata": {},
          "output_type": "execute_result"
        }
      ]
    },
    {
      "cell_type": "code",
      "metadata": {
        "colab": {
          "base_uri": "https://localhost:8080/",
          "height": 459
        },
        "id": "TQAAAuTJYbBa",
        "outputId": "755fe50f-aac2-487d-a342-130e5574dc3d"
      },
      "source": [
        "#Barplot of top 5 products.\n",
        "\n",
        "plt.figure(figsize=(10,7))\n",
        "sns.barplot(x=top_20_products['ProductID'].head(5),y=top_20_products['Count'].head(5))"
      ],
      "execution_count": null,
      "outputs": [
        {
          "data": {
            "text/plain": [
              "<matplotlib.axes._subplots.AxesSubplot at 0x7fdd35d11750>"
            ]
          },
          "execution_count": 13,
          "metadata": {},
          "output_type": "execute_result"
        },
        {
          "data": {
            "image/png": "[encoded data removed]",
            "text/plain": [
              "<Figure size 720x504 with 1 Axes>"
            ]
          },
          "metadata": {},
          "output_type": "display_data"
        }
      ]
    },
    {
      "cell_type": "code",
      "metadata": {
        "colab": {
          "background_save": true
        },
        "id": "dfLWdMr8heWO"
      },
      "source": [
        "#Top 20 products based on ratings\n",
        "\n",
        "Prod_R5 = list(df.loc[df['Rating']==5,'ProductId'])\n",
        "Prod_R4 = list(df.loc[df['Rating']==4,'ProductId'])\n",
        "Prod_R3 = list(df.loc[df['Rating']==3,'ProductId'])\n",
        "Prod_R2 = list(df.loc[df['Rating']==2,'ProductId'])\n",
        "Prod_R1 = list(df.loc[df['Rating']==1,'ProductId'])\n",
        "# total_ratings = list(df['Rating'].value_counts())\n",
        "# total_ratings\n",
        "R5_count = dict((x,Prod_R5.count(x)) for x in set(Prod_R5))\n",
        "# top_rating_products = topuser_rating_products[topuser_ratings_df['ProductId'].isin(top_prod)]"
      ],
      "execution_count": null,
      "outputs": []
    },
    {
      "cell_type": "code",
      "metadata": {
        "id": "HV6PofqV1opI"
      },
      "source": [
        "R5_count"
      ],
      "execution_count": null,
      "outputs": []
    },
    {
      "cell_type": "code",
      "metadata": {
        "colab": {
          "base_uri": "https://localhost:8080/"
        },
        "id": "U6GcGbWbY_nl",
        "outputId": "f7689a07-c886-47fd-ab31-ce47e1a6de1c"
      },
      "source": [
        "print('Number of unique users', len(df['UserId'].unique()))"
      ],
      "execution_count": null,
      "outputs": [
        {
          "name": "stdout",
          "output_type": "stream",
          "text": [
            "Number of unique users 1210271\n"
          ]
        }
      ]
    },
    {
      "cell_type": "code",
      "metadata": {
        "colab": {
          "base_uri": "https://localhost:8080/",
          "height": 700
        },
        "id": "niy-t3pCdJnb",
        "outputId": "dd17f2b2-f463-49aa-b12d-4136a9967d32"
      },
      "source": [
        "#top 20 users based on count of orders placed.\n",
        "\n",
        "a = list(df['UserId'].value_counts())\n",
        "b = list(df['UserId'].unique())\n",
        "top_20_Users = pd.DataFrame(list(zip(b[0:21],a[0:21])),columns =['UserID', 'Count'])\n",
        "top_20_Users"
      ],
      "execution_count": null,
      "outputs": [
        {
          "data": {
            "text/html": [
              "<div>\n",
              "<style scoped>\n",
              "    .dataframe tbody tr th:only-of-type {\n",
              "        vertical-align: middle;\n",
              "    }\n",
              "\n",
              "    .dataframe tbody tr th {\n",
              "        vertical-align: top;\n",
              "    }\n",
              "\n",
              "    .dataframe thead th {\n",
              "        text-align: right;\n",
              "    }\n",
              "</style>\n",
              "<table border=\"1\" class=\"dataframe\">\n",
              "  <thead>\n",
              "    <tr style=\"text-align: right;\">\n",
              "      <th></th>\n",
              "      <th>UserID</th>\n",
              "      <th>Count</th>\n",
              "    </tr>\n",
              "  </thead>\n",
              "  <tbody>\n",
              "    <tr>\n",
              "      <th>0</th>\n",
              "      <td>A39HTATAQ9V7YF</td>\n",
              "      <td>389</td>\n",
              "    </tr>\n",
              "    <tr>\n",
              "      <th>1</th>\n",
              "      <td>A3JM6GV9MNOF9X</td>\n",
              "      <td>336</td>\n",
              "    </tr>\n",
              "    <tr>\n",
              "      <th>2</th>\n",
              "      <td>A1Z513UWSAAO0F</td>\n",
              "      <td>326</td>\n",
              "    </tr>\n",
              "    <tr>\n",
              "      <th>3</th>\n",
              "      <td>A1WMRR494NWEWV</td>\n",
              "      <td>278</td>\n",
              "    </tr>\n",
              "    <tr>\n",
              "      <th>4</th>\n",
              "      <td>A3IAAVS479H7M7</td>\n",
              "      <td>276</td>\n",
              "    </tr>\n",
              "    <tr>\n",
              "      <th>5</th>\n",
              "      <td>AKJHHD5VEH7VG</td>\n",
              "      <td>275</td>\n",
              "    </tr>\n",
              "    <tr>\n",
              "      <th>6</th>\n",
              "      <td>A1BG8QW55XHN6U</td>\n",
              "      <td>269</td>\n",
              "    </tr>\n",
              "    <tr>\n",
              "      <th>7</th>\n",
              "      <td>A22VW0P4VZHDE3</td>\n",
              "      <td>259</td>\n",
              "    </tr>\n",
              "    <tr>\n",
              "      <th>8</th>\n",
              "      <td>A3V3RE4132GKRO</td>\n",
              "      <td>249</td>\n",
              "    </tr>\n",
              "    <tr>\n",
              "      <th>9</th>\n",
              "      <td>A327B0I7CYTEJC</td>\n",
              "      <td>225</td>\n",
              "    </tr>\n",
              "    <tr>\n",
              "      <th>10</th>\n",
              "      <td>AIFAAVTUYHEHB</td>\n",
              "      <td>211</td>\n",
              "    </tr>\n",
              "    <tr>\n",
              "      <th>11</th>\n",
              "      <td>AVOGV98AYOFG2</td>\n",
              "      <td>209</td>\n",
              "    </tr>\n",
              "    <tr>\n",
              "      <th>12</th>\n",
              "      <td>A6R426V4J7AOM</td>\n",
              "      <td>205</td>\n",
              "    </tr>\n",
              "    <tr>\n",
              "      <th>13</th>\n",
              "      <td>AKGB62WGF35J8</td>\n",
              "      <td>186</td>\n",
              "    </tr>\n",
              "    <tr>\n",
              "      <th>14</th>\n",
              "      <td>A3A4C2K3TWDAO5</td>\n",
              "      <td>182</td>\n",
              "    </tr>\n",
              "    <tr>\n",
              "      <th>15</th>\n",
              "      <td>A3FV2Q7WPZMQPV</td>\n",
              "      <td>173</td>\n",
              "    </tr>\n",
              "    <tr>\n",
              "      <th>16</th>\n",
              "      <td>A1RXI3A1E99112</td>\n",
              "      <td>172</td>\n",
              "    </tr>\n",
              "    <tr>\n",
              "      <th>17</th>\n",
              "      <td>A26QL1FBQO9C0E</td>\n",
              "      <td>170</td>\n",
              "    </tr>\n",
              "    <tr>\n",
              "      <th>18</th>\n",
              "      <td>A19KEEVZYO1KO6</td>\n",
              "      <td>168</td>\n",
              "    </tr>\n",
              "    <tr>\n",
              "      <th>19</th>\n",
              "      <td>A1F6HRR58TQ2R0</td>\n",
              "      <td>164</td>\n",
              "    </tr>\n",
              "    <tr>\n",
              "      <th>20</th>\n",
              "      <td>AVQP6PO1NK0IJ</td>\n",
              "      <td>155</td>\n",
              "    </tr>\n",
              "  </tbody>\n",
              "</table>\n",
              "</div>"
            ],
            "text/plain": [
              "            UserID  Count\n",
              "0   A39HTATAQ9V7YF    389\n",
              "1   A3JM6GV9MNOF9X    336\n",
              "2   A1Z513UWSAAO0F    326\n",
              "3   A1WMRR494NWEWV    278\n",
              "4   A3IAAVS479H7M7    276\n",
              "5    AKJHHD5VEH7VG    275\n",
              "6   A1BG8QW55XHN6U    269\n",
              "7   A22VW0P4VZHDE3    259\n",
              "8   A3V3RE4132GKRO    249\n",
              "9   A327B0I7CYTEJC    225\n",
              "10   AIFAAVTUYHEHB    211\n",
              "11   AVOGV98AYOFG2    209\n",
              "12   A6R426V4J7AOM    205\n",
              "13   AKGB62WGF35J8    186\n",
              "14  A3A4C2K3TWDAO5    182\n",
              "15  A3FV2Q7WPZMQPV    173\n",
              "16  A1RXI3A1E99112    172\n",
              "17  A26QL1FBQO9C0E    170\n",
              "18  A19KEEVZYO1KO6    168\n",
              "19  A1F6HRR58TQ2R0    164\n",
              "20   AVQP6PO1NK0IJ    155"
            ]
          },
          "execution_count": 200,
          "metadata": {},
          "output_type": "execute_result"
        }
      ]
    },
    {
      "cell_type": "code",
      "metadata": {
        "id": "z0aJ-H0ceLwh"
      },
      "source": [
        "# list(df.loc(df['Rating']>=4.0,df['UserId'].value_counts()))"
      ],
      "execution_count": null,
      "outputs": []
    },
    {
      "cell_type": "code",
      "metadata": {
        "colab": {
          "base_uri": "https://localhost:8080/"
        },
        "id": "EiYxiU5FboXV",
        "outputId": "4a06848a-02f9-497b-94fd-49d9ef6310a3"
      },
      "source": [
        "print('Number of unique products', len(df['ProductId'].unique()))"
      ],
      "execution_count": null,
      "outputs": [
        {
          "name": "stdout",
          "output_type": "stream",
          "text": [
            "Number of unique products 249274\n"
          ]
        }
      ]
    },
    {
      "cell_type": "code",
      "metadata": {
        "colab": {
          "base_uri": "https://localhost:8080/"
        },
        "id": "922Yg6pBb67L",
        "outputId": "7177e27c-125c-4951-9f74-94df35ccc9c5"
      },
      "source": [
        "print('Unique Ratings',df['Rating'].unique())"
      ],
      "execution_count": null,
      "outputs": [
        {
          "name": "stdout",
          "output_type": "stream",
          "text": [
            "Unique Ratings [5. 3. 4. 1. 2.]\n"
          ]
        }
      ]
    },
    {
      "cell_type": "code",
      "metadata": {
        "colab": {
          "base_uri": "https://localhost:8080/"
        },
        "id": "vcrTN-0YcAkH",
        "outputId": "1fbd6d91-c420-4521-cd84-a8a8cd5f861c"
      },
      "source": [
        "max_ratings1 = df[df['Rating'] >= 4.0]\n",
        "print('Number of unique products rated high',len(max_ratings1['ProductId'].unique()))"
      ],
      "execution_count": null,
      "outputs": [
        {
          "name": "stdout",
          "output_type": "stream",
          "text": [
            "Number of unique products rated high 220746\n"
          ]
        }
      ]
    },
    {
      "cell_type": "code",
      "metadata": {
        "id": "ZfNKWtIVjYyk"
      },
      "source": [
        "#Now we will drop timestamp column as it isn't much of help.\n",
        "\n",
        "df.drop('Timestamp',axis=1,inplace=True)"
      ],
      "execution_count": null,
      "outputs": []
    },
    {
      "cell_type": "code",
      "metadata": {
        "id": "Y49zeeIEh2jY"
      },
      "source": [
        "from sklearn.model_selection import train_test_split\n",
        "train_data, test_data = train_test_split(df, test_size = 0.2, random_state=0)"
      ],
      "execution_count": null,
      "outputs": []
    },
    {
      "cell_type": "code",
      "metadata": {
        "colab": {
          "base_uri": "https://localhost:8080/",
          "height": 204
        },
        "id": "8j1gUDowh9T8",
        "outputId": "97317390-fe5a-4a85-824c-d44ddf16eca1"
      },
      "source": [
        "train_data.head()"
      ],
      "execution_count": null,
      "outputs": [
        {
          "data": {
            "text/html": [
              "<div>\n",
              "<style scoped>\n",
              "    .dataframe tbody tr th:only-of-type {\n",
              "        vertical-align: middle;\n",
              "    }\n",
              "\n",
              "    .dataframe tbody tr th {\n",
              "        vertical-align: top;\n",
              "    }\n",
              "\n",
              "    .dataframe thead th {\n",
              "        text-align: right;\n",
              "    }\n",
              "</style>\n",
              "<table border=\"1\" class=\"dataframe\">\n",
              "  <thead>\n",
              "    <tr style=\"text-align: right;\">\n",
              "      <th></th>\n",
              "      <th>UserId</th>\n",
              "      <th>ProductId</th>\n",
              "      <th>Rating</th>\n",
              "    </tr>\n",
              "  </thead>\n",
              "  <tbody>\n",
              "    <tr>\n",
              "      <th>1820811</th>\n",
              "      <td>A3T41HVBC1PSCO</td>\n",
              "      <td>B00B1OOZU0</td>\n",
              "      <td>5.0</td>\n",
              "    </tr>\n",
              "    <tr>\n",
              "      <th>1541414</th>\n",
              "      <td>A24Y7P9O9LU6TH</td>\n",
              "      <td>B006Z9ACMG</td>\n",
              "      <td>5.0</td>\n",
              "    </tr>\n",
              "    <tr>\n",
              "      <th>783039</th>\n",
              "      <td>A1F7YU6O5RU432</td>\n",
              "      <td>B001T8MD8Y</td>\n",
              "      <td>5.0</td>\n",
              "    </tr>\n",
              "    <tr>\n",
              "      <th>1699677</th>\n",
              "      <td>A1HCJ5CDLNWJPJ</td>\n",
              "      <td>B008U4AR3I</td>\n",
              "      <td>5.0</td>\n",
              "    </tr>\n",
              "    <tr>\n",
              "      <th>787779</th>\n",
              "      <td>APDELNTXEZAX4</td>\n",
              "      <td>B001TXFMD2</td>\n",
              "      <td>4.0</td>\n",
              "    </tr>\n",
              "  </tbody>\n",
              "</table>\n",
              "</div>"
            ],
            "text/plain": [
              "                 UserId   ProductId  Rating\n",
              "1820811  A3T41HVBC1PSCO  B00B1OOZU0     5.0\n",
              "1541414  A24Y7P9O9LU6TH  B006Z9ACMG     5.0\n",
              "783039   A1F7YU6O5RU432  B001T8MD8Y     5.0\n",
              "1699677  A1HCJ5CDLNWJPJ  B008U4AR3I     5.0\n",
              "787779    APDELNTXEZAX4  B001TXFMD2     4.0"
            ]
          },
          "execution_count": 207,
          "metadata": {},
          "output_type": "execute_result"
        }
      ]
    },
    {
      "cell_type": "code",
      "metadata": {
        "colab": {
          "base_uri": "https://localhost:8080/",
          "height": 204
        },
        "id": "4T3Q1jQjiT9H",
        "outputId": "2cd7df4e-316d-4ad5-88c6-3fc532b2b956"
      },
      "source": [
        "test_data.head()"
      ],
      "execution_count": null,
      "outputs": [
        {
          "data": {
            "text/html": [
              "<div>\n",
              "<style scoped>\n",
              "    .dataframe tbody tr th:only-of-type {\n",
              "        vertical-align: middle;\n",
              "    }\n",
              "\n",
              "    .dataframe tbody tr th {\n",
              "        vertical-align: top;\n",
              "    }\n",
              "\n",
              "    .dataframe thead th {\n",
              "        text-align: right;\n",
              "    }\n",
              "</style>\n",
              "<table border=\"1\" class=\"dataframe\">\n",
              "  <thead>\n",
              "    <tr style=\"text-align: right;\">\n",
              "      <th></th>\n",
              "      <th>UserId</th>\n",
              "      <th>ProductId</th>\n",
              "      <th>Rating</th>\n",
              "    </tr>\n",
              "  </thead>\n",
              "  <tbody>\n",
              "    <tr>\n",
              "      <th>723411</th>\n",
              "      <td>A23ZJBVZ4OLDJ</td>\n",
              "      <td>B001KNHM4I</td>\n",
              "      <td>3.0</td>\n",
              "    </tr>\n",
              "    <tr>\n",
              "      <th>1472875</th>\n",
              "      <td>A3O52IDYQ4Z66H</td>\n",
              "      <td>B0062U1QC8</td>\n",
              "      <td>4.0</td>\n",
              "    </tr>\n",
              "    <tr>\n",
              "      <th>2000120</th>\n",
              "      <td>A1PDYBT822BHNJ</td>\n",
              "      <td>B00I14O9C2</td>\n",
              "      <td>5.0</td>\n",
              "    </tr>\n",
              "    <tr>\n",
              "      <th>2014061</th>\n",
              "      <td>A14F5W1N7CZDVW</td>\n",
              "      <td>B00JDTFBR6</td>\n",
              "      <td>5.0</td>\n",
              "    </tr>\n",
              "    <tr>\n",
              "      <th>1076951</th>\n",
              "      <td>A2EPK0CT24CZHS</td>\n",
              "      <td>B003O3C06M</td>\n",
              "      <td>4.0</td>\n",
              "    </tr>\n",
              "  </tbody>\n",
              "</table>\n",
              "</div>"
            ],
            "text/plain": [
              "                 UserId   ProductId  Rating\n",
              "723411    A23ZJBVZ4OLDJ  B001KNHM4I     3.0\n",
              "1472875  A3O52IDYQ4Z66H  B0062U1QC8     4.0\n",
              "2000120  A1PDYBT822BHNJ  B00I14O9C2     5.0\n",
              "2014061  A14F5W1N7CZDVW  B00JDTFBR6     5.0\n",
              "1076951  A2EPK0CT24CZHS  B003O3C06M     4.0"
            ]
          },
          "execution_count": 208,
          "metadata": {},
          "output_type": "execute_result"
        }
      ]
    },
    {
      "cell_type": "code",
      "metadata": {
        "id": "LbcRh1nAiWxA"
      },
      "source": [
        "train_data_grouped = train_data.groupby('ProductId').mean().reset_index()"
      ],
      "execution_count": null,
      "outputs": []
    },
    {
      "cell_type": "code",
      "metadata": {
        "colab": {
          "base_uri": "https://localhost:8080/",
          "height": 204
        },
        "id": "YlgMHrvzixeC",
        "outputId": "2f9c809d-36f9-4a8d-b5ea-f64534424baf"
      },
      "source": [
        "train_data_grouped.head()"
      ],
      "execution_count": null,
      "outputs": [
        {
          "data": {
            "text/html": [
              "<div>\n",
              "<style scoped>\n",
              "    .dataframe tbody tr th:only-of-type {\n",
              "        vertical-align: middle;\n",
              "    }\n",
              "\n",
              "    .dataframe tbody tr th {\n",
              "        vertical-align: top;\n",
              "    }\n",
              "\n",
              "    .dataframe thead th {\n",
              "        text-align: right;\n",
              "    }\n",
              "</style>\n",
              "<table border=\"1\" class=\"dataframe\">\n",
              "  <thead>\n",
              "    <tr style=\"text-align: right;\">\n",
              "      <th></th>\n",
              "      <th>ProductId</th>\n",
              "      <th>Rating</th>\n",
              "    </tr>\n",
              "  </thead>\n",
              "  <tbody>\n",
              "    <tr>\n",
              "      <th>0</th>\n",
              "      <td>0558925278</td>\n",
              "      <td>3.0</td>\n",
              "    </tr>\n",
              "    <tr>\n",
              "      <th>1</th>\n",
              "      <td>0733001998</td>\n",
              "      <td>4.0</td>\n",
              "    </tr>\n",
              "    <tr>\n",
              "      <th>2</th>\n",
              "      <td>0737104473</td>\n",
              "      <td>1.0</td>\n",
              "    </tr>\n",
              "    <tr>\n",
              "      <th>3</th>\n",
              "      <td>0762451459</td>\n",
              "      <td>5.0</td>\n",
              "    </tr>\n",
              "    <tr>\n",
              "      <th>4</th>\n",
              "      <td>1304139220</td>\n",
              "      <td>5.0</td>\n",
              "    </tr>\n",
              "  </tbody>\n",
              "</table>\n",
              "</div>"
            ],
            "text/plain": [
              "    ProductId  Rating\n",
              "0  0558925278     3.0\n",
              "1  0733001998     4.0\n",
              "2  0737104473     1.0\n",
              "3  0762451459     5.0\n",
              "4  1304139220     5.0"
            ]
          },
          "execution_count": 210,
          "metadata": {},
          "output_type": "execute_result"
        }
      ]
    },
    {
      "cell_type": "code",
      "metadata": {
        "id": "rmMpgCeMi4Sh"
      },
      "source": [
        "train_data_grouped = train_data.groupby('ProductId').mean().reset_index()"
      ],
      "execution_count": null,
      "outputs": []
    },
    {
      "cell_type": "code",
      "metadata": {
        "colab": {
          "base_uri": "https://localhost:8080/",
          "height": 204
        },
        "id": "H__AxJk6kP0M",
        "outputId": "729d2c62-30c6-496c-f038-659cd39f8085"
      },
      "source": [
        "train_data_grouped.head()"
      ],
      "execution_count": null,
      "outputs": [
        {
          "data": {
            "text/html": [
              "<div>\n",
              "<style scoped>\n",
              "    .dataframe tbody tr th:only-of-type {\n",
              "        vertical-align: middle;\n",
              "    }\n",
              "\n",
              "    .dataframe tbody tr th {\n",
              "        vertical-align: top;\n",
              "    }\n",
              "\n",
              "    .dataframe thead th {\n",
              "        text-align: right;\n",
              "    }\n",
              "</style>\n",
              "<table border=\"1\" class=\"dataframe\">\n",
              "  <thead>\n",
              "    <tr style=\"text-align: right;\">\n",
              "      <th></th>\n",
              "      <th>ProductId</th>\n",
              "      <th>Rating</th>\n",
              "    </tr>\n",
              "  </thead>\n",
              "  <tbody>\n",
              "    <tr>\n",
              "      <th>0</th>\n",
              "      <td>0558925278</td>\n",
              "      <td>3.0</td>\n",
              "    </tr>\n",
              "    <tr>\n",
              "      <th>1</th>\n",
              "      <td>0733001998</td>\n",
              "      <td>4.0</td>\n",
              "    </tr>\n",
              "    <tr>\n",
              "      <th>2</th>\n",
              "      <td>0737104473</td>\n",
              "      <td>1.0</td>\n",
              "    </tr>\n",
              "    <tr>\n",
              "      <th>3</th>\n",
              "      <td>0762451459</td>\n",
              "      <td>5.0</td>\n",
              "    </tr>\n",
              "    <tr>\n",
              "      <th>4</th>\n",
              "      <td>1304139220</td>\n",
              "      <td>5.0</td>\n",
              "    </tr>\n",
              "  </tbody>\n",
              "</table>\n",
              "</div>"
            ],
            "text/plain": [
              "    ProductId  Rating\n",
              "0  0558925278     3.0\n",
              "1  0733001998     4.0\n",
              "2  0737104473     1.0\n",
              "3  0762451459     5.0\n",
              "4  1304139220     5.0"
            ]
          },
          "execution_count": 212,
          "metadata": {},
          "output_type": "execute_result"
        }
      ]
    },
    {
      "cell_type": "code",
      "metadata": {
        "id": "zD9uLWK7kTTU"
      },
      "source": [
        "train_data_sort = train_data_grouped.sort_values(['Rating', 'ProductId'], ascending=False)"
      ],
      "execution_count": null,
      "outputs": []
    },
    {
      "cell_type": "code",
      "metadata": {
        "colab": {
          "base_uri": "https://localhost:8080/",
          "height": 204
        },
        "id": "J24j7wiVkYED",
        "outputId": "7f10fb84-1597-4ba8-db20-8644b7363bc5"
      },
      "source": [
        "train_data_sort.head()"
      ],
      "execution_count": null,
      "outputs": [
        {
          "data": {
            "text/html": [
              "<div>\n",
              "<style scoped>\n",
              "    .dataframe tbody tr th:only-of-type {\n",
              "        vertical-align: middle;\n",
              "    }\n",
              "\n",
              "    .dataframe tbody tr th {\n",
              "        vertical-align: top;\n",
              "    }\n",
              "\n",
              "    .dataframe thead th {\n",
              "        text-align: right;\n",
              "    }\n",
              "</style>\n",
              "<table border=\"1\" class=\"dataframe\">\n",
              "  <thead>\n",
              "    <tr style=\"text-align: right;\">\n",
              "      <th></th>\n",
              "      <th>ProductId</th>\n",
              "      <th>Rating</th>\n",
              "    </tr>\n",
              "  </thead>\n",
              "  <tbody>\n",
              "    <tr>\n",
              "      <th>226740</th>\n",
              "      <td>B00LU0LTOU</td>\n",
              "      <td>5.0</td>\n",
              "    </tr>\n",
              "    <tr>\n",
              "      <th>226739</th>\n",
              "      <td>B00LPVG6V0</td>\n",
              "      <td>5.0</td>\n",
              "    </tr>\n",
              "    <tr>\n",
              "      <th>226738</th>\n",
              "      <td>B00LP2YB8E</td>\n",
              "      <td>5.0</td>\n",
              "    </tr>\n",
              "    <tr>\n",
              "      <th>226737</th>\n",
              "      <td>B00LOS7MEE</td>\n",
              "      <td>5.0</td>\n",
              "    </tr>\n",
              "    <tr>\n",
              "      <th>226736</th>\n",
              "      <td>B00LORWRJA</td>\n",
              "      <td>5.0</td>\n",
              "    </tr>\n",
              "  </tbody>\n",
              "</table>\n",
              "</div>"
            ],
            "text/plain": [
              "         ProductId  Rating\n",
              "226740  B00LU0LTOU     5.0\n",
              "226739  B00LPVG6V0     5.0\n",
              "226738  B00LP2YB8E     5.0\n",
              "226737  B00LOS7MEE     5.0\n",
              "226736  B00LORWRJA     5.0"
            ]
          },
          "execution_count": 214,
          "metadata": {},
          "output_type": "execute_result"
        }
      ]
    },
    {
      "cell_type": "code",
      "metadata": {
        "colab": {
          "base_uri": "https://localhost:8080/"
        },
        "id": "vMcsYOyPkhrv",
        "outputId": "423db3b8-d2b3-4dee-aa41-0b73d1c0ec4e"
      },
      "source": [
        "train_data.groupby('ProductId')['Rating'].count().sort_values(ascending=False).head(10)"
      ],
      "execution_count": null,
      "outputs": [
        {
          "data": {
            "text/plain": [
              "ProductId\n",
              "B001MA0QY2    5978\n",
              "B0009V1YR8    2266\n",
              "B0043OYFKU    1998\n",
              "B0000YUXI0    1711\n",
              "B003V265QW    1704\n",
              "B000ZMBSPE    1649\n",
              "B003BQ6QXK    1555\n",
              "B004OHQR1Q    1505\n",
              "B00121UVU0    1457\n",
              "B000FS05VG    1266\n",
              "Name: Rating, dtype: int64"
            ]
          },
          "execution_count": 215,
          "metadata": {},
          "output_type": "execute_result"
        }
      ]
    },
    {
      "cell_type": "code",
      "metadata": {
        "id": "76JtNmLnkou_"
      },
      "source": [
        "ratings_mean_count = pd.DataFrame(train_data.groupby('ProductId')['Rating'].mean())"
      ],
      "execution_count": null,
      "outputs": []
    },
    {
      "cell_type": "code",
      "metadata": {
        "id": "qGtfLa53kwWc"
      },
      "source": [
        "ratings_mean_count['rating_counts'] = pd.DataFrame(train_data.groupby('ProductId')['Rating'].count())"
      ],
      "execution_count": null,
      "outputs": []
    },
    {
      "cell_type": "code",
      "metadata": {
        "colab": {
          "base_uri": "https://localhost:8080/",
          "height": 235
        },
        "id": "uVXLasMVk3nz",
        "outputId": "4f42e30c-2e8c-4c93-81f9-af811c751b17"
      },
      "source": [
        "ratings_mean_count.head()"
      ],
      "execution_count": null,
      "outputs": [
        {
          "data": {
            "text/html": [
              "<div>\n",
              "<style scoped>\n",
              "    .dataframe tbody tr th:only-of-type {\n",
              "        vertical-align: middle;\n",
              "    }\n",
              "\n",
              "    .dataframe tbody tr th {\n",
              "        vertical-align: top;\n",
              "    }\n",
              "\n",
              "    .dataframe thead th {\n",
              "        text-align: right;\n",
              "    }\n",
              "</style>\n",
              "<table border=\"1\" class=\"dataframe\">\n",
              "  <thead>\n",
              "    <tr style=\"text-align: right;\">\n",
              "      <th></th>\n",
              "      <th>Rating</th>\n",
              "      <th>rating_counts</th>\n",
              "    </tr>\n",
              "    <tr>\n",
              "      <th>ProductId</th>\n",
              "      <th></th>\n",
              "      <th></th>\n",
              "    </tr>\n",
              "  </thead>\n",
              "  <tbody>\n",
              "    <tr>\n",
              "      <th>0558925278</th>\n",
              "      <td>3.0</td>\n",
              "      <td>1</td>\n",
              "    </tr>\n",
              "    <tr>\n",
              "      <th>0733001998</th>\n",
              "      <td>4.0</td>\n",
              "      <td>1</td>\n",
              "    </tr>\n",
              "    <tr>\n",
              "      <th>0737104473</th>\n",
              "      <td>1.0</td>\n",
              "      <td>1</td>\n",
              "    </tr>\n",
              "    <tr>\n",
              "      <th>0762451459</th>\n",
              "      <td>5.0</td>\n",
              "      <td>1</td>\n",
              "    </tr>\n",
              "    <tr>\n",
              "      <th>1304139220</th>\n",
              "      <td>5.0</td>\n",
              "      <td>1</td>\n",
              "    </tr>\n",
              "  </tbody>\n",
              "</table>\n",
              "</div>"
            ],
            "text/plain": [
              "            Rating  rating_counts\n",
              "ProductId                        \n",
              "0558925278     3.0              1\n",
              "0733001998     4.0              1\n",
              "0737104473     1.0              1\n",
              "0762451459     5.0              1\n",
              "1304139220     5.0              1"
            ]
          },
          "execution_count": 218,
          "metadata": {},
          "output_type": "execute_result"
        }
      ]
    },
    {
      "cell_type": "code",
      "metadata": {
        "id": "BPzw0a_Dk7w5"
      },
      "source": [
        "pred_df = test_data[['UserId', 'ProductId', 'Rating']]"
      ],
      "execution_count": null,
      "outputs": []
    },
    {
      "cell_type": "code",
      "metadata": {
        "colab": {
          "base_uri": "https://localhost:8080/",
          "height": 204
        },
        "id": "ovwHx4-1maAR",
        "outputId": "abcf211e-6e4b-4a08-8829-f9b71897234c"
      },
      "source": [
        "pred_df.head()"
      ],
      "execution_count": null,
      "outputs": [
        {
          "data": {
            "text/html": [
              "<div>\n",
              "<style scoped>\n",
              "    .dataframe tbody tr th:only-of-type {\n",
              "        vertical-align: middle;\n",
              "    }\n",
              "\n",
              "    .dataframe tbody tr th {\n",
              "        vertical-align: top;\n",
              "    }\n",
              "\n",
              "    .dataframe thead th {\n",
              "        text-align: right;\n",
              "    }\n",
              "</style>\n",
              "<table border=\"1\" class=\"dataframe\">\n",
              "  <thead>\n",
              "    <tr style=\"text-align: right;\">\n",
              "      <th></th>\n",
              "      <th>UserId</th>\n",
              "      <th>ProductId</th>\n",
              "      <th>Rating</th>\n",
              "    </tr>\n",
              "  </thead>\n",
              "  <tbody>\n",
              "    <tr>\n",
              "      <th>723411</th>\n",
              "      <td>A23ZJBVZ4OLDJ</td>\n",
              "      <td>B001KNHM4I</td>\n",
              "      <td>3.0</td>\n",
              "    </tr>\n",
              "    <tr>\n",
              "      <th>1472875</th>\n",
              "      <td>A3O52IDYQ4Z66H</td>\n",
              "      <td>B0062U1QC8</td>\n",
              "      <td>4.0</td>\n",
              "    </tr>\n",
              "    <tr>\n",
              "      <th>2000120</th>\n",
              "      <td>A1PDYBT822BHNJ</td>\n",
              "      <td>B00I14O9C2</td>\n",
              "      <td>5.0</td>\n",
              "    </tr>\n",
              "    <tr>\n",
              "      <th>2014061</th>\n",
              "      <td>A14F5W1N7CZDVW</td>\n",
              "      <td>B00JDTFBR6</td>\n",
              "      <td>5.0</td>\n",
              "    </tr>\n",
              "    <tr>\n",
              "      <th>1076951</th>\n",
              "      <td>A2EPK0CT24CZHS</td>\n",
              "      <td>B003O3C06M</td>\n",
              "      <td>4.0</td>\n",
              "    </tr>\n",
              "  </tbody>\n",
              "</table>\n",
              "</div>"
            ],
            "text/plain": [
              "                 UserId   ProductId  Rating\n",
              "723411    A23ZJBVZ4OLDJ  B001KNHM4I     3.0\n",
              "1472875  A3O52IDYQ4Z66H  B0062U1QC8     4.0\n",
              "2000120  A1PDYBT822BHNJ  B00I14O9C2     5.0\n",
              "2014061  A14F5W1N7CZDVW  B00JDTFBR6     5.0\n",
              "1076951  A2EPK0CT24CZHS  B003O3C06M     4.0"
            ]
          },
          "execution_count": 220,
          "metadata": {},
          "output_type": "execute_result"
        }
      ]
    },
    {
      "cell_type": "code",
      "metadata": {
        "id": "d2AbygLGlE-x"
      },
      "source": [
        "pred_df.rename(columns = {'Rating' : 'true_ratings'}, inplace=True)"
      ],
      "execution_count": null,
      "outputs": []
    },
    {
      "cell_type": "code",
      "metadata": {
        "colab": {
          "base_uri": "https://localhost:8080/",
          "height": 204
        },
        "id": "xZoqssxPmEQ_",
        "outputId": "356621eb-c577-4dbb-e3a4-36e21e667cea"
      },
      "source": [
        "pred_df.head()"
      ],
      "execution_count": null,
      "outputs": [
        {
          "data": {
            "text/html": [
              "<div>\n",
              "<style scoped>\n",
              "    .dataframe tbody tr th:only-of-type {\n",
              "        vertical-align: middle;\n",
              "    }\n",
              "\n",
              "    .dataframe tbody tr th {\n",
              "        vertical-align: top;\n",
              "    }\n",
              "\n",
              "    .dataframe thead th {\n",
              "        text-align: right;\n",
              "    }\n",
              "</style>\n",
              "<table border=\"1\" class=\"dataframe\">\n",
              "  <thead>\n",
              "    <tr style=\"text-align: right;\">\n",
              "      <th></th>\n",
              "      <th>UserId</th>\n",
              "      <th>ProductId</th>\n",
              "      <th>true_ratings</th>\n",
              "    </tr>\n",
              "  </thead>\n",
              "  <tbody>\n",
              "    <tr>\n",
              "      <th>723411</th>\n",
              "      <td>A23ZJBVZ4OLDJ</td>\n",
              "      <td>B001KNHM4I</td>\n",
              "      <td>3.0</td>\n",
              "    </tr>\n",
              "    <tr>\n",
              "      <th>1472875</th>\n",
              "      <td>A3O52IDYQ4Z66H</td>\n",
              "      <td>B0062U1QC8</td>\n",
              "      <td>4.0</td>\n",
              "    </tr>\n",
              "    <tr>\n",
              "      <th>2000120</th>\n",
              "      <td>A1PDYBT822BHNJ</td>\n",
              "      <td>B00I14O9C2</td>\n",
              "      <td>5.0</td>\n",
              "    </tr>\n",
              "    <tr>\n",
              "      <th>2014061</th>\n",
              "      <td>A14F5W1N7CZDVW</td>\n",
              "      <td>B00JDTFBR6</td>\n",
              "      <td>5.0</td>\n",
              "    </tr>\n",
              "    <tr>\n",
              "      <th>1076951</th>\n",
              "      <td>A2EPK0CT24CZHS</td>\n",
              "      <td>B003O3C06M</td>\n",
              "      <td>4.0</td>\n",
              "    </tr>\n",
              "  </tbody>\n",
              "</table>\n",
              "</div>"
            ],
            "text/plain": [
              "                 UserId   ProductId  true_ratings\n",
              "723411    A23ZJBVZ4OLDJ  B001KNHM4I           3.0\n",
              "1472875  A3O52IDYQ4Z66H  B0062U1QC8           4.0\n",
              "2000120  A1PDYBT822BHNJ  B00I14O9C2           5.0\n",
              "2014061  A14F5W1N7CZDVW  B00JDTFBR6           5.0\n",
              "1076951  A2EPK0CT24CZHS  B003O3C06M           4.0"
            ]
          },
          "execution_count": 222,
          "metadata": {},
          "output_type": "execute_result"
        }
      ]
    },
    {
      "cell_type": "code",
      "metadata": {
        "id": "Z-BI2crZlOut"
      },
      "source": [
        "pred_df = pred_df.merge(train_data_sort, left_on='ProductId', right_on = 'ProductId')"
      ],
      "execution_count": null,
      "outputs": []
    },
    {
      "cell_type": "code",
      "metadata": {
        "id": "q-2BbEFNlTFR"
      },
      "source": [
        "pred_df.rename(columns = {'Rating' : 'predicted_ratings'}, inplace = True)"
      ],
      "execution_count": null,
      "outputs": []
    },
    {
      "cell_type": "code",
      "metadata": {
        "colab": {
          "base_uri": "https://localhost:8080/",
          "height": 204
        },
        "id": "49ezM_zrla0c",
        "outputId": "32a92f4d-90c5-4e54-8ce5-e315f3e6dfe2"
      },
      "source": [
        "pred_df.head()"
      ],
      "execution_count": null,
      "outputs": [
        {
          "data": {
            "text/html": [
              "<div>\n",
              "<style scoped>\n",
              "    .dataframe tbody tr th:only-of-type {\n",
              "        vertical-align: middle;\n",
              "    }\n",
              "\n",
              "    .dataframe tbody tr th {\n",
              "        vertical-align: top;\n",
              "    }\n",
              "\n",
              "    .dataframe thead th {\n",
              "        text-align: right;\n",
              "    }\n",
              "</style>\n",
              "<table border=\"1\" class=\"dataframe\">\n",
              "  <thead>\n",
              "    <tr style=\"text-align: right;\">\n",
              "      <th></th>\n",
              "      <th>UserId</th>\n",
              "      <th>ProductId</th>\n",
              "      <th>true_ratings</th>\n",
              "      <th>predicted_ratings</th>\n",
              "    </tr>\n",
              "  </thead>\n",
              "  <tbody>\n",
              "    <tr>\n",
              "      <th>0</th>\n",
              "      <td>A23ZJBVZ4OLDJ</td>\n",
              "      <td>B001KNHM4I</td>\n",
              "      <td>3.0</td>\n",
              "      <td>4.575758</td>\n",
              "    </tr>\n",
              "    <tr>\n",
              "      <th>1</th>\n",
              "      <td>A1KDWQFQG6JH3H</td>\n",
              "      <td>B001KNHM4I</td>\n",
              "      <td>5.0</td>\n",
              "      <td>4.575758</td>\n",
              "    </tr>\n",
              "    <tr>\n",
              "      <th>2</th>\n",
              "      <td>A3E63XR6WF78A3</td>\n",
              "      <td>B001KNHM4I</td>\n",
              "      <td>5.0</td>\n",
              "      <td>4.575758</td>\n",
              "    </tr>\n",
              "    <tr>\n",
              "      <th>3</th>\n",
              "      <td>A2M0H1TUTR9RY3</td>\n",
              "      <td>B001KNHM4I</td>\n",
              "      <td>5.0</td>\n",
              "      <td>4.575758</td>\n",
              "    </tr>\n",
              "    <tr>\n",
              "      <th>4</th>\n",
              "      <td>A3LC7S3NXSR4SM</td>\n",
              "      <td>B001KNHM4I</td>\n",
              "      <td>5.0</td>\n",
              "      <td>4.575758</td>\n",
              "    </tr>\n",
              "  </tbody>\n",
              "</table>\n",
              "</div>"
            ],
            "text/plain": [
              "           UserId   ProductId  true_ratings  predicted_ratings\n",
              "0   A23ZJBVZ4OLDJ  B001KNHM4I           3.0           4.575758\n",
              "1  A1KDWQFQG6JH3H  B001KNHM4I           5.0           4.575758\n",
              "2  A3E63XR6WF78A3  B001KNHM4I           5.0           4.575758\n",
              "3  A2M0H1TUTR9RY3  B001KNHM4I           5.0           4.575758\n",
              "4  A3LC7S3NXSR4SM  B001KNHM4I           5.0           4.575758"
            ]
          },
          "execution_count": 225,
          "metadata": {},
          "output_type": "execute_result"
        }
      ]
    },
    {
      "cell_type": "code",
      "metadata": {
        "colab": {
          "base_uri": "https://localhost:8080/"
        },
        "id": "4aEE_J25levo",
        "outputId": "dee22a13-f940-473f-864c-d1cbcfd79c09"
      },
      "source": [
        "import sklearn.metrics as metric\n",
        "from math import sqrt\n",
        "MSE = metric.mean_squared_error(pred_df['true_ratings'], pred_df['predicted_ratings'])\n",
        "print('The RMSE value for Recommender model is', sqrt(MSE))"
      ],
      "execution_count": null,
      "outputs": [
        {
          "name": "stdout",
          "output_type": "stream",
          "text": [
            "The RMSE value for Recommender model is 1.3078273121694615\n"
          ]
        }
      ]
    },
    {
      "cell_type": "code",
      "metadata": {
        "colab": {
          "base_uri": "https://localhost:8080/"
        },
        "id": "VtS_U1QhoVJr",
        "outputId": "e945c8c9-9f01-4d2f-8dbe-46d8eacf3a1b"
      },
      "source": [
        "!pip install surprise"
      ],
      "execution_count": null,
      "outputs": [
        {
          "name": "stdout",
          "output_type": "stream",
          "text": [
            "Requirement already satisfied: surprise in /usr/local/lib/python3.7/dist-packages (0.1)\n",
            "Requirement already satisfied: scikit-surprise in /usr/local/lib/python3.7/dist-packages (from surprise) (1.1.1)\n",
            "Requirement already satisfied: joblib>=0.11 in /usr/local/lib/python3.7/dist-packages (from scikit-surprise->surprise) (1.0.1)\n",
            "Requirement already satisfied: numpy>=1.11.2 in /usr/local/lib/python3.7/dist-packages (from scikit-surprise->surprise) (1.19.5)\n",
            "Requirement already satisfied: six>=1.10.0 in /usr/local/lib/python3.7/dist-packages (from scikit-surprise->surprise) (1.15.0)\n",
            "Requirement already satisfied: scipy>=1.0.0 in /usr/local/lib/python3.7/dist-packages (from scikit-surprise->surprise) (1.4.1)\n"
          ]
        }
      ]
    },
    {
      "cell_type": "code",
      "metadata": {
        "id": "4v26w7cZnqls"
      },
      "source": [
        "import surprise\n",
        "from surprise import KNNWithMeans\n",
        "from surprise.model_selection import GridSearchCV\n",
        "from surprise import Dataset\n",
        "from surprise import accuracy\n",
        "from surprise import Reader\n",
        "from surprise.model_selection import train_test_split"
      ],
      "execution_count": null,
      "outputs": []
    },
    {
      "cell_type": "code",
      "metadata": {
        "id": "b2NRVriSpV_X"
      },
      "source": [
        "from surprise import KNNBasic, SVD, NormalPredictor, KNNBaseline,KNNWithMeans, KNNWithZScore, BaselineOnly, CoClustering, Reader, dataset, accuracy"
      ],
      "execution_count": null,
      "outputs": []
    },
    {
      "cell_type": "code",
      "metadata": {
        "id": "Y35ojjihoRAi"
      },
      "source": [
        "reader = Reader(rating_scale=(0.5, 5.0))"
      ],
      "execution_count": null,
      "outputs": []
    },
    {
      "cell_type": "code",
      "metadata": {
        "id": "hs-S09cBolqd"
      },
      "source": [
        "data = Dataset.load_from_df(top_ratings_df[['UserId', 'ProductId', 'Rating']],reader)"
      ],
      "execution_count": null,
      "outputs": []
    },
    {
      "cell_type": "code",
      "metadata": {
        "id": "OCv4NaoUovEM"
      },
      "source": [
        "from surprise.model_selection import train_test_split\n",
        "trainset, testset = train_test_split(data, test_size=.3,random_state=0)"
      ],
      "execution_count": null,
      "outputs": []
    },
    {
      "cell_type": "code",
      "metadata": {
        "colab": {
          "base_uri": "https://localhost:8080/"
        },
        "id": "0SdpmJbUo53E",
        "outputId": "bd2c198d-5919-4328-d5dc-42db5a85a83e"
      },
      "source": [
        "type(trainset)"
      ],
      "execution_count": null,
      "outputs": [
        {
          "data": {
            "text/plain": [
              "surprise.trainset.Trainset"
            ]
          },
          "execution_count": 233,
          "metadata": {},
          "output_type": "execute_result"
        }
      ]
    },
    {
      "cell_type": "code",
      "metadata": {
        "colab": {
          "base_uri": "https://localhost:8080/"
        },
        "id": "4yU5nkhao9FP",
        "outputId": "e546ce10-d8f7-4d2e-96b6-242ef4aba90c"
      },
      "source": [
        "model = KNNWithMeans(k=10, min_k=6, sim_options={'name': 'pearson_baseline', 'user_based': True})\n",
        "model.fit(trainset)"
      ],
      "execution_count": null,
      "outputs": [
        {
          "name": "stdout",
          "output_type": "stream",
          "text": [
            "Estimating biases using als...\n",
            "Computing the pearson_baseline similarity matrix...\n",
            "Done computing similarity matrix.\n"
          ]
        },
        {
          "data": {
            "text/plain": [
              "<surprise.prediction_algorithms.knns.KNNWithMeans at 0x7f1edf74e490>"
            ]
          },
          "execution_count": 234,
          "metadata": {},
          "output_type": "execute_result"
        }
      ]
    },
    {
      "cell_type": "code",
      "metadata": {
        "colab": {
          "base_uri": "https://localhost:8080/"
        },
        "id": "GAtiTdIopDs3",
        "outputId": "f57cecaa-3dee-41fe-fa0e-b575a32e1e2c"
      },
      "source": [
        "svd_model = SVD(n_factors=50,reg_all=0.02)\n",
        "svd_model.fit(trainset)"
      ],
      "execution_count": null,
      "outputs": [
        {
          "data": {
            "text/plain": [
              "<surprise.prediction_algorithms.matrix_factorization.SVD at 0x7f1edf74eb50>"
            ]
          },
          "execution_count": 235,
          "metadata": {},
          "output_type": "execute_result"
        }
      ]
    },
    {
      "cell_type": "markdown",
      "metadata": {
        "id": "_-t8nryBpwXE"
      },
      "source": [
        "#Evaluation"
      ]
    },
    {
      "cell_type": "code",
      "metadata": {
        "colab": {
          "base_uri": "https://localhost:8080/"
        },
        "id": "jkiwvfzSpwD2",
        "outputId": "3f931f49-0c6a-465a-d73e-a1862729df96"
      },
      "source": [
        "MSE = metric.mean_squared_error(pred_df['true_ratings'], pred_df['predicted_ratings'])\n",
        "print('The RMSE value for Popularity Recommender model is', sqrt(MSE))"
      ],
      "execution_count": null,
      "outputs": [
        {
          "name": "stdout",
          "output_type": "stream",
          "text": [
            "The RMSE value for Popularity Recommender model is 1.3078273121694615\n"
          ]
        }
      ]
    },
    {
      "cell_type": "code",
      "metadata": {
        "colab": {
          "base_uri": "https://localhost:8080/"
        },
        "id": "2DAzZiT_pNC4",
        "outputId": "e9a95f86-fb8c-41ba-a52f-58a1d86b98cf"
      },
      "source": [
        "print(len(testset))\n",
        "type(testset)"
      ],
      "execution_count": null,
      "outputs": [
        {
          "name": "stdout",
          "output_type": "stream",
          "text": [
            "4116\n"
          ]
        },
        {
          "data": {
            "text/plain": [
              "list"
            ]
          },
          "execution_count": 237,
          "metadata": {},
          "output_type": "execute_result"
        }
      ]
    },
    {
      "cell_type": "code",
      "metadata": {
        "colab": {
          "base_uri": "https://localhost:8080/"
        },
        "id": "UaXHsm3Hp6lp",
        "outputId": "2633c2f6-0383-4a75-9e70-1a23c5eacac6"
      },
      "source": [
        "# Evalute on test set\n",
        "test_pred = model.test(testset)\n",
        "test_pred[0]"
      ],
      "execution_count": null,
      "outputs": [
        {
          "data": {
            "text/plain": [
              "Prediction(uid='A25C2M3QF9G7OQ', iid='B009YSSLAU', r_ui=4.0, est=4.516699820834101, details={'actual_k': 10, 'was_impossible': False})"
            ]
          },
          "execution_count": 238,
          "metadata": {},
          "output_type": "execute_result"
        }
      ]
    },
    {
      "cell_type": "code",
      "metadata": {
        "colab": {
          "base_uri": "https://localhost:8080/"
        },
        "id": "N2lm9-BNp_3x",
        "outputId": "753e4d75-9676-4b2b-b541-3161651ceef3"
      },
      "source": [
        "\n",
        "# compute RMSE\n",
        "accuracy.rmse(test_pred)"
      ],
      "execution_count": null,
      "outputs": [
        {
          "name": "stdout",
          "output_type": "stream",
          "text": [
            "RMSE: 1.0561\n"
          ]
        },
        {
          "data": {
            "text/plain": [
              "1.0561184327784499"
            ]
          },
          "execution_count": 239,
          "metadata": {},
          "output_type": "execute_result"
        }
      ]
    },
    {
      "cell_type": "code",
      "metadata": {
        "id": "h7QNPea5qIPu"
      },
      "source": [
        "test_pred = svd_model.test(testset)"
      ],
      "execution_count": null,
      "outputs": []
    },
    {
      "cell_type": "code",
      "metadata": {
        "colab": {
          "base_uri": "https://localhost:8080/"
        },
        "id": "fACU2soKqQiY",
        "outputId": "2e900001-8e38-41d0-bc18-164975f9573c"
      },
      "source": [
        "\n",
        "# compute RMSE\n",
        "accuracy.rmse(test_pred)"
      ],
      "execution_count": null,
      "outputs": [
        {
          "name": "stdout",
          "output_type": "stream",
          "text": [
            "RMSE: 1.0109\n"
          ]
        },
        {
          "data": {
            "text/plain": [
              "1.0109255489867373"
            ]
          },
          "execution_count": 241,
          "metadata": {},
          "output_type": "execute_result"
        }
      ]
    },
    {
      "cell_type": "code",
      "metadata": {
        "id": "toubEwXrqTic"
      },
      "source": [
        "from surprise.model_selection import GridSearchCV\n",
        "param_grid = {'n_factors' : [5,10,15], \"reg_all\":[0.01,0.02]}\n",
        "gs = GridSearchCV(SVD, param_grid, measures=['rmse'], cv=3,refit = True)"
      ],
      "execution_count": null,
      "outputs": []
    },
    {
      "cell_type": "code",
      "metadata": {
        "id": "KgBFJGl3qaAh"
      },
      "source": [
        "gs.fit(data)"
      ],
      "execution_count": null,
      "outputs": []
    },
    {
      "cell_type": "code",
      "metadata": {
        "colab": {
          "base_uri": "https://localhost:8080/"
        },
        "id": "IbQCrYlhqdrY",
        "outputId": "26c27071-c280-4a29-c513-a1b6b7dc194e"
      },
      "source": [
        "gs.best_params"
      ],
      "execution_count": null,
      "outputs": [
        {
          "data": {
            "text/plain": [
              "{'rmse': {'n_factors': 5, 'reg_all': 0.02}}"
            ]
          },
          "execution_count": 244,
          "metadata": {},
          "output_type": "execute_result"
        }
      ]
    },
    {
      "cell_type": "code",
      "metadata": {
        "colab": {
          "base_uri": "https://localhost:8080/"
        },
        "id": "HURRM_ttqh56",
        "outputId": "1be8af36-6d4e-40af-ceb0-24242c78e8c0"
      },
      "source": [
        "\n",
        "# Use the \"best model\" for prediction\n",
        "gs.test(testset)\n",
        "accuracy.rmse(gs.test(testset))"
      ],
      "execution_count": null,
      "outputs": [
        {
          "name": "stdout",
          "output_type": "stream",
          "text": [
            "RMSE: 0.8971\n"
          ]
        },
        {
          "data": {
            "text/plain": [
              "0.89705011345224"
            ]
          },
          "execution_count": 245,
          "metadata": {},
          "output_type": "execute_result"
        }
      ]
    },
    {
      "cell_type": "code",
      "metadata": {
        "id": "Qk-8nD83qloj"
      },
      "source": [
        "from collections import defaultdict\n",
        "def get_top_n(predictions, n=5):\n",
        "  \n",
        "    # First map the predictions to each user.\n",
        "    top_n = defaultdict(list)\n",
        "    for uid, iid, true_r, est, _ in predictions:\n",
        "        top_n[uid].append((iid, est))\n",
        "\n",
        "    # Then sort the predictions for each user and retrieve the k highest ones.\n",
        "    for uid, user_ratings in top_n.items():\n",
        "        user_ratings.sort(key=lambda x: x[1], reverse=True)\n",
        "        top_n[uid] = user_ratings[:n]\n",
        "\n",
        "    return top_n"
      ],
      "execution_count": null,
      "outputs": []
    },
    {
      "cell_type": "code",
      "metadata": {
        "id": "xl0JiikDq3z-"
      },
      "source": [
        "top_n = get_top_n(test_pred, n=5)"
      ],
      "execution_count": null,
      "outputs": []
    },
    {
      "cell_type": "code",
      "metadata": {
        "colab": {
          "base_uri": "https://localhost:8080/"
        },
        "id": "yUd2pDp_q7RJ",
        "outputId": "042bd3da-3ea1-44da-ba57-3570434a5af8"
      },
      "source": [
        "for uid, user_ratings in top_n.items():\n",
        "    print(uid, [iid for (iid, _) in user_ratings])"
      ],
      "execution_count": null,
      "outputs": [
        {
          "name": "stdout",
          "output_type": "stream",
          "text": [
            "A25C2M3QF9G7OQ ['B00HSNWZKU', 'B00IP42FBA', 'B00HSNWXVQ', 'B006L6A06Q', 'B008VSYO5A']\n",
            "AY3D7DG5L5WCK ['B00A0J09C0', 'B00GTBZHUW', 'B00AWLB9G6', 'B00AE078TM', 'B00GTBZHCA']\n",
            "A2DPYMNI2HCIOI ['B00014D5O8', 'B008RVYJS8', 'B0014AX89K', 'B0002VQ0WO', 'B008U2Y9BQ']\n",
            "A2Y4S4CNGKF21S ['B00021B8L2', 'B0012UEJ1S', 'B00069FJUG', 'B003I6O5RC', 'B003JTA1IU']\n",
            "AYB4ELCS5AM8P ['B004GIM68G', 'B00GTC1HCI', 'B00A0J084Y', 'B008VSYO5A', 'B001ECQ4JE']\n",
            "A3GPAR4H5Y5OU8 ['B001ECQ4JE', 'B0030O3VRW', 'B001JQLNNC', 'B003WN1ELQ', 'B000GUN98O']\n",
            "A3IOCPLIMYDBCD ['B007E0FQ1W', 'B004YZMKKU', 'B001GIOW3G', 'B00CYA5E1O', 'B002QXINAS']\n",
            "ALNFHVS3SC4FV ['B004Z209HS', 'B001ECQ4YO', 'B00DCNBST4', 'B009YSSLAU', 'B00HSNX1AS']\n",
            "AQY5XBYSENNZQ ['B006L6A06Q', 'B00GTBZHUW', 'B002MO780W', 'B001U0ONNY', 'B00GTBZNP6']\n",
            "A3091RP0SPZLMN ['B00GTC02LA', 'B002MO3CG6', 'B00ALV8EJM', 'B00AE07CTI', 'B00AE07FUE']\n",
            "A3AZI828WJN1CD ['B00A0IWRRG', 'B006L6A06Q', 'B007RTR8UC', 'B009VGNYFM', 'B00004U9UY']\n",
            "A2XKJ1KX6XUHYP ['B000I5KCIW', 'B004CDQ73K', 'B002CML1XE', 'B006OC431K', 'B000851N9E']\n",
            "A3FBM0RMCMAABV ['B00AWLBACE', 'B00AWLB9G6', 'B007RTR8UC', 'B00AE0790U', 'B007JT7AGC']\n",
            "A3IQXED40ZZ2T2 ['B00IP42FBA', 'B00KD73PBQ', 'B004B9C8MO', 'B00IMHN0B4', 'B00IDWP4IA']\n",
            "A16YU3GRGCD95S ['B00ALV8EL0', 'B00AE07FUE', 'B00A0IWTDI', 'B00ALV8EJM', 'B001ECQ4OY']\n",
            "A33AQPJYH7UUXR ['B00113HO90', 'B004Y5NA1I', 'B004I5RU2Y', 'B0006ZHCK0', 'B001M7SIFY']\n",
            "ACN76NFHYL6JK ['B0016B5LAQ', 'B002DPUY10', 'B005Z446JC', 'B000Q4B108']\n",
            "A2V5R832QCSOMX ['B002WTC38O', 'B000QUM5LG', 'B0055Y9AIY', 'B001MA5VUQ', 'B00DEXA0LY']\n",
            "A3FLMF8FG4VPG8 ['B0009MHJE4', 'B000JIN0OG', 'B00387F42G', 'B001B7GJ2E', 'B00080DK86']\n",
            "A1DH3QDZX8Z7GO ['B000E0K7NQ', 'B0089JVDPK', 'B00A0J09C0', 'B007JT7ARQ', 'B00AE07IEM']\n",
            "A34QKW1Y84EHIT ['B000142JDG', 'B001T8JLRK', 'B004LV82JU', 'B000TAA9Q6']\n",
            "A31RULW0KNYJ5H ['B001ECQ5CA', 'B00IP42FBA', 'B009YSSLAU', 'B00A0IWRU8', 'B00A0J09G6']\n",
            "A14E70DKB6QPZY ['B000AMHWCW', 'B002SV0XYW', 'B000GHYSL4', 'B008BS9Z8G', 'B000HGMVH2']\n",
            "A2J19U8H5SSFCJ ['B0010XUU9M', 'B0047F9622', 'B007RTR9FQ', 'B00GYB13OQ', 'B00D6EDGYE']\n",
            "A2065HBMYDXJ1S ['B004S9SEWK', 'B004DIXYUI', 'B0052BHMOO', 'B00A0J084Y', 'B00A76CPUA']\n",
            "A3EPHBMU07LZ50 ['B00AE07GX0', 'B000AO2NXS', 'B009FKNGRA', 'B0007CXXYG', 'B001OMI93S']\n",
            "A3R5GTYQ50QVMD ['B00GTC02LA', 'B009RNUH7M', 'B00AE07932', 'B0040H00PE', 'B00AO4EL34']\n",
            "A1W415JP5WEAJK ['B004GIM68G', 'B002MO3CG6', 'B00GTC0E1I', 'B008U2Y9BQ', 'B009FKNGRA']\n",
            "A2CZ98V784SRJ0 ['B0068G8DTA', 'B00AE07BMQ', 'B00AE07BDU', 'B00AE0790U', 'B00AE07GX0']\n",
            "AAA0TUKS5VBSA ['B00DCNBST4', 'B008VSYO5A', 'B00HSNWXVQ', 'B00A0J09G6', 'B0098JU8T2']\n",
            "AAEVYY0PHQUUL ['B0058P6S2Q', 'B005UL1B34', 'B002DOO1VA', 'B0034KYDTM', 'B008R56PVI']\n",
            "A12PH6L5QSVTYN ['B002CMLHF6', 'B000C1VWCM', 'B001CMT83A', 'B0009OAIIG', 'B001DK9RQE']\n",
            "A390XPHE9J7DBO ['B00IT1HKV4', 'B00DCF7QW0', 'B000C21AC8', 'B00FFANXMM']\n",
            "A2ILV6IPPW6W7I ['B006ZENPYS', 'B006ZBKH2Y', 'B000PNXBU8', 'B000146LKS', 'B001LR3NPK']\n",
            "AFHYEO3Y1IIDD ['B00ALV8EJM', 'B007E0FQ1W', 'B003V21WO2', 'B004LUZ956', 'B00BB8ZHIU']\n",
            "A3MUSWDCTZINQZ ['B00AO4E9MC', 'B00GTC02LA', 'B00A0J09C0', 'B00A0J084Y', 'B007RTR8UC']\n",
            "A3BMI7VGJT60Y7 ['B004TSFBNK', 'B004DIXYUI', 'B004ITB3IW', 'B002DOO1VA', 'B002LFNQT4']\n",
            "A2B2I5JO3E8LBX ['B006L1DNWY', 'B009WLXABE', 'B0018X1WLY', 'B00BAVQZ5W', 'B0036UW5VS']\n",
            "A1DCBQD9QX2I3J ['B000142FVW', 'B004220C6E', 'B003STPN4S', 'B0046MK34G', 'B000PQDKU6']\n",
            "A22ZFXQE8AWPEP ['B003FPE7MY', 'B0031B51Y0', 'B00DHOET6W', 'B006WVCF18']\n",
            "A89ZZKNDFQH23 ['B00639DLV2', 'B00AE07FXQ', 'B009YSSLAU', 'B000ZMBSPE', 'B009FKNGRA']\n",
            "A22CW0ZHY3NJH8 ['B00GDLML02', 'B00GJX58PE', 'B004B9C8MO', 'B000AO2NXS', 'B00A0IWTDI']\n",
            "A3TMBYDFP1B9DM ['B00AWLBACE', 'B00BB8ZHIU', 'B006RFZ98K', 'B0063TFLG0', 'B0040H00PE']\n",
            "A2AEQSSI637PJ0 ['B004TSFE6Y', 'B0030O3VRW', 'B0001TMDF0', 'B0008F6ZDI', 'B0090UJFYI']\n",
            "A2R6RA8FRBS608 ['B00AE07B9O', 'B00A0IWTDI', 'B008JBOTDG', 'B0006ZHCK0', 'B0063A432W']\n",
            "A1EAX5HVYV96EF ['B0036Q4RZE', 'B003VI0HVA', 'B0036I8BPE', 'B0009F3OS6', 'B004YBW5T0']\n",
            "A9MYCYZT8EMMX ['B000142C1A', 'B002GENWU8', 'B000PHZ26K', 'B001B7MAU4']\n",
            "AZ26CDSJ363AH ['B00AO4EMKQ', 'B0012XO2W6', 'B005KJ35D0']\n",
            "A30YBYLNRPOEG2 ['B0030HAF4G', 'B007NYB0DC', 'B002QY86BI', 'B000BB9L0S', 'B00187OEWO']\n",
            "A1M1Y5UGONAW06 ['B001DBPZQE', 'B00GCQMSVA', 'B008QMWPKM', 'B000BTO6CI', 'B009D7V4WO']\n",
            "A3RRNV5GDJ4SLW ['B000ZMBSPE', 'B003MJ7Z0O', 'B000EX5JO0', 'B003JN5ZEG', 'B0041JIANA']\n",
            "A100WO06OQR8BQ ['B0089JVEOK', 'B002MO3CG6', 'B001U0ONNY', 'B005TI7LHS', 'B00A0J09C0']\n",
            "AK7CAW3N1XZV6 ['B002VA4FXU', 'B00EOP3MJI', 'B000052YP6', 'B0009STDD8', 'B00GJYQCB2']\n",
            "A1F7YU6O5RU432 ['B003V21WO2', 'B00GDLML02', 'B00AAJTDLI', 'B00604MSSC', 'B004B9C8MO']\n",
            "A132ETQPMHQ585 ['B0001ZYLAO', 'B0069SC0OQ', 'B000KONYJK', 'B003IU9HI0', 'B000KONYPY']\n",
            "A2P739KOM4U5JB ['B00ALV8EL0', 'B00AE07FUE', 'B00AO4E9MC', 'B00A0IWRU8', 'B00AWLB9I4']\n",
            "A22QOZZLLIMW6I ['B008RTNSJQ', 'B004JLEGTC', 'B00AVP37G8', 'B002DOO1VA', 'B008Q0E714']\n",
            "A18JF0T0GOCORW ['B00GPWYF94', 'B00G052NFE', 'B00FFANXMM', 'B00GM6H9BO', 'B009LOJ5MA']\n",
            "A1Z54EM24Y40LL ['B001FWXJ4G', 'B00AO4E9E0', 'B00005304H', 'B0039NMCPG', 'B00GTC1JHQ']\n",
            "A11I1I9QLMAM1A ['B004OHQR1Q', 'B0020122ZS', 'B00AE0790U', 'B0058L24O6', 'B00GTC1HCI']\n",
            "A3U5RYD678A4LL ['B001ARQWW2', 'B006DR2BO2', 'B001JQLNNC', 'B0000CC64W']\n",
            "A2C58G8O40YC7T ['B000052YOX', 'B0030O3VRW', 'B000BTO6CI', 'B002OVV7F0', 'B0030HAE2Y']\n",
            "A2YKWYC3WQJX5J ['B000142FVW', 'B0072XUY7W', 'B006L6A10G', 'B002UUT3YM', 'B00IP42FBA']\n",
            "A3M174IC0VXOS2 ['B0030GFY02', 'B00FRDPMQC', 'B00CXADQ4M', 'B000C1Z29Q', 'B007E0FR84']\n",
            "A2EBR70V6P9W0N ['B000OLE7V8', 'B0011Z3X8O', 'B004S9SEWK', 'B001FB5IFU', 'B001ET6XNO']\n",
            "A1I6U5AQAT3ZG9 ['B00A0J084Y', 'B00AWLBACE', 'B00GTC02LA', 'B00A0IWRU8', 'B006L6A06Q']\n",
            "A1P1O16N3ROSUY ['B003GC4GHM', 'B004IM0KYM', 'B007O7AZ3O', 'B007SD28UM', 'B001T0HHDS']\n",
            "A2KUUIJ52MWDAS ['B004D268RA', 'B00AE07GX0', 'B002AMUIBM', 'B004BYUQG4', 'B009ZRFJFA']\n",
            "A2F09EWKV3MTO2 ['B00GTBZXA6', 'B00A0IWRU8', 'B009FKNGRA', 'B0039UTO3M', 'B00GYB1AQM']\n",
            "AOTMP0OKJOUWI ['B00A0J084Y', 'B001ECQ4YO', 'B005TI7NPI', 'B001ECQ4JE', 'B006RFZ8NG']\n",
            "A2BYV7S1QP2YIG ['B001T8S7T8', 'B00GW1HKHW', 'B00JTY6WQ4', 'B00092M2ZU', 'B004CASKMO']\n",
            "A3I3BI5PFL3MSH ['B00005A9WP', 'B000J41MNG', 'B000P6I3WG', 'B004C7U9GW']\n",
            "A3KEZLJ59C1JVH ['B0039NMCPG', 'B000L9YYTS', 'B0032RMX3U', 'B004Y5M8QQ', 'B00021B8L2']\n",
            "A2V92F5R7MLCVI ['B00ALV8EL0', 'B00GTBZI6A', 'B0098JU8T2', 'B001ECQ5CA', 'B00HSNWXVQ']\n",
            "A3CG93783LP0FO ['B00A0J09GG', 'B00G5WO2VK', 'B00AO4EMKQ', 'B00A0IWSN4', 'B00A0IWRRG']\n",
            "A1047EDJ84IMAS ['B004D5BO8A', 'B004BCT7G6', 'B002HWS7RM', 'B0063TFLG0', 'B003VMFITM']\n",
            "A2VPPEVTCQ922W ['B002XQ1QZM', 'B000C1ZFBG', 'B00021AK4I', 'B001HTTBWQ', 'B000XE5260']\n",
            "AEC90GPFKLAAW ['B00GTBZI6A', 'B009G0E19Q', 'B000GCTBNY', 'B00AE07BMQ', 'B001DKK7Y0']\n",
            "A24TCT2CY6KY68 ['B002LFLPEC', 'B004X1QKO2', 'B0000530ED', 'B001H9275Y', 'B006UETDGC']\n",
            "A1YMXGQQT7YWMN ['B006UET5UG', 'B00563K6VO', 'B002WTC37A', 'B006ZA0A5Y', 'B003F7X0G6']\n",
            "A1X3ESYZ79H59E ['B007JT7AIA', 'B00ALV8EJM', 'B0072XUY7W', 'B00AO379NE', 'B00604MSSC']\n",
            "A2D2XKSXEG3O7F ['B004Z209HS', 'B002QG6P9G', 'B006ZENPYS', 'B0038ZKJEQ', 'B004MUG8V4']\n",
            "A2MUGFV2TDQ47K ['B00AWLBACE', 'B00AWLB9G6', 'B00AWLB9I4', 'B009HULKLW', 'B0000Y3COC']\n",
            "A27FP0S5QH7GNE ['B000VI1186', 'B00021C1LI', 'B001RMP7M6', 'B003YUDRNK', 'B005MG86TY']\n",
            "A3U029B8Z5WGI2 ['B00GTBZHUW', 'B00AWLB9I4', 'B006L6A06Q', 'B00AE07EIM', 'B00AE07BDU']\n",
            "A1DAFWS98LQD2R ['B004JLGC12', 'B001JQLNNC', 'B000142C1A', 'B001JQLNLY', 'B001ET7892']\n",
            "A3J1XDOKRNRA6M ['B001F51PXA', 'B001E919LU', 'B003UMNO6C', 'B000GCVZSI', 'B006PEL7A2']\n",
            "A3094EPI56GKZ6 ['B006L6A06Q', 'B00CYDSAO4', 'B0036QQWAC', 'B004D267RG', 'B00AO4EL34']\n",
            "A2256XQAA1L8V8 ['B000PP15L8', 'B004BCXAM8', 'B0009F3OS6', 'B002BWOXYE', 'B001FB5NTG']\n",
            "A27OTTW1CSOYWX ['B00150LT40', 'B002QI1F8A', 'B00D76IRXQ', 'B001DBPZQE', 'B002S8PU02']\n",
            "A2YW1MG1GKU8XD ['B00AWLB9G6', 'B00A0J09C0', 'B001ECQ5CA', 'B009FKNGRA', 'B0068G8DTA']\n",
            "A3AYSYSLHU26U9 ['B00H93NJLS', 'B001LF4I8I', 'B00A0IWRU8', 'B007RTR8T8', 'B002WTC37A']\n",
            "AXK3KYH8NQ9G2 ['B004TSFBNK', 'B006WVCF40', 'B00BROQU8Y', 'B004TSFE28', 'B001ARQWW2']\n",
            "AQ6AGWKWMTY8H ['B000AO2NXS', 'B00AE07EIM', 'B000TKH6G2', 'B000U01WJ8', 'B00604MSSC']\n",
            "A19UTUEBWKIZFT ['B00IT1HKV4', 'B00A0IWRU8', 'B00639DLV2', 'B0002Z8QG8', 'B00AE0790U']\n",
            "A9J5SLYXUCWO1 ['B004Z209HS', 'B00121UVU0', 'B00FDK0V4M', 'B001LNTNGC', 'B006X1DCFK']\n",
            "A3BFDEBT5IV4UN ['B004GIM68G', 'B001TJXI5U', 'B00AWLB9G6', 'B008U12YV4', 'B000TG850M']\n",
            "A2AVOVUTRTABTX ['B006GXG6FI', 'B003UH0528', 'B001E96NHK', 'B006L16BHS', 'B00198ZPU2']\n",
            "A2G3V7O4WP5F36 ['B004ZMCUIO', 'B004Y9GTYE', 'B00CK8RXUK', 'B00F4TQ49I']\n",
            "A281NPSIMI1C2R ['B0098JU8T2', 'B00013YYS0', 'B00639DLV2', 'B000F63TW0', 'B0000535UT']\n",
            "A1Q1Z7IR79G52A ['B00G052NFE', 'B00DJQQEGQ', 'B00J5D8BY0', 'B00IT69F62', 'B00DLRNSSK']\n",
            "A2SH7OWE8QJYNC ['B000X040QW', 'B000I5MJ8S', 'B003FKSVMG', 'B001E6G6FC']\n",
            "AKMEY1BSHSDG7 ['B00AWLB9G6', 'B002B4EFCC', 'B00A0IWTEW', 'B005OKPZR4', 'B001A5S3BM']\n",
            "A2OCDK0BOW6UCY ['B00AWLB9G6', 'B0072XUY7W', 'B00AWLB9I4', 'B00A0IWRU8', 'B00AE07FUE']\n",
            "AB24Z8PTNQ33I ['B000Q7XDR4', 'B006BES3LC', 'B002WJOOIQ']\n",
            "A7T2VY28U2IDB ['B000ODNSR0', 'B000052YOX', 'B0009F3O8Q', 'B00008J2XQ', 'B001KYQ4HS']\n",
            "A1YRCEF0HM8QVR ['B005HO0A1I', 'B000F8HWXU', 'B006FXOKDY', 'B00129XP8M', 'B001S4C91K']\n",
            "A35LT14WG5BX0T ['B00AO4E9MC', 'B00AWLB9I4', 'B002TSA90M', 'B00AE07932', 'B00AO4E9E0']\n",
            "A2JR5ZTSYSIQYX ['B0081CWUD4', 'B0039OVDJ6', 'B005LQRYKM']\n",
            "A2F4FJ3BIZ68GJ ['B008H42554', 'B006T8T0P8', 'B005BF1M10', 'B001A4826E', 'B004B0U57S']\n",
            "ACJT8MUC0LRF0 ['B00AAJTDLI', 'B005TI7NPI', 'B004B9C8MO', 'B001ECQ4JE', 'B00A0IWRT4']\n",
            "A6QG9LM5WL0AQ ['B00IP42FBA', 'B006L6A10G', 'B007E0FQ1W', 'B00BB8ZHIU', 'B00AE07GX0']\n",
            "A34BZM6S9L7QI4 ['B00AWLB9G6', 'B00IMHN0B4', 'B00IP42FBA', 'B00IDWP4IA', 'B004GH99QO']\n",
            "A2LW5AL0KQ9P1M ['B00GTBZI6A', 'B00HSNWZKU', 'B00ALV8EJM', 'B00AE0790U', 'B001LF4G6W']\n",
            "A5GPH59NDWJRB ['B00ALV8EJM', 'B00GW1HKHW', 'B00AO4E9E0', 'B003V21WO2', 'B006L6A06Q']\n",
            "A353U0L2HAMSHV ['B00AO4E9MC', 'B00AO4EMKQ', 'B00AHF1GK6', 'B00AE07EGO', 'B00AHF1GTM']\n",
            "A19HDB4BN6RFFT ['B0030O3VRW', 'B007JBF99U', 'B00385WMI2', 'B000C1Z2D2', 'B0092SVTGA']\n",
            "A3JCWGHCVC2ZNF ['B004S6BXLW', 'B0096OBH4Y', 'B004QX68SK', 'B008DF54K0', 'B002S8TOYU']\n",
            "A1HBTW5M7ZZ9PT ['B002WTC384', 'B0085BVFZK', 'B004Z67NSM', 'B000052YOL', 'B0023A7JF4']\n",
            "AKMBOKJQBLI1U ['B008Q0E714', 'B006HJPT7W', 'B0032PQPWW', 'B00A6O1AP4', 'B00876T3W0']\n",
            "AHN86VFJIJ2JP ['B00CYDSAO4', 'B00GTC1HCI', 'B000XFWO10', 'B000F5AFYG', 'B008U2Y9BQ']\n",
            "A2A5C9IQ06CG9N ['B000NJG82W', 'B003P7VX24', 'B001AO0WCG', 'B0009XH6TG', 'B0042WIHNY']\n",
            "A2I5QH4F5FDKK5 ['B00GTC02LA', 'B00A0IWRRG', 'B00AE078TM', 'B00GTBZNP6', 'B00AE0790U']\n",
            "A28IBOLVCSQRLQ ['B000Q2RP7I', 'B0030HKJ8I', 'B0044XXO84', 'B003VI0HVA', 'B007ML0OY2']\n",
            "A3FWVV13DJELLV ['B00A0IWRT4', 'B00BB8ZHIU', 'B00HSNWXV6', 'B00HM6K6XQ', 'B00HM6IV6K']\n",
            "A2GJX2KCUSR0EI ['B000142FVW', 'B00150LT40', 'B0030HKJ8I', 'B001699TI8', 'B003MUYUU6']\n",
            "A1GYEGLX3P2Y7P ['B009YSSLAU', 'B00GTC02LA', 'B00KD73PBQ', 'B00GTBZHCA', 'B00DG7YJQA']\n",
            "A3E5V5TSTAY3R9 ['B000H3CPO4', 'B000127UUA', 'B000WYZ9Q4', 'B000127UVY', 'B00I11RWDS']\n",
            "A2PGDUYXZFAPT5 ['B006L1DNWY', 'B0009F3R7E', 'B001BR97A0', 'B0063TFLG0', 'B005PYWS60']\n",
            "A11SWG9T60IQH8 ['B0018ZPZJC', 'B000HJT1CW', 'B003V21WO2', 'B002XBBLJS', 'B000R46I1O']\n",
            "ALEW5AUKCRWHN ['B005X2F7JY', 'B006ENQHLS', 'B0061YRVMO', 'B001JKTTVQ', 'B005ACLU3E']\n",
            "A1ODOGXEYECQQ8 ['B00GTBZI6A', 'B002TSA90M', 'B00HSNWXVQ', 'B00GDLML02', 'B00GOJMIWO']\n",
            "A35HOUWHAYZZN6 ['B00AWLBACE', 'B00GTBZI6A', 'B00A0J09C0', 'B005HIHD2I', 'B00AO4EBOI']\n",
            "A376OJHLE6SU9Q ['B00AWLB9G6', 'B00ALV8EJM', 'B0002YE8V6', 'B00GTC1HB4', 'B000GUZ8HY']\n",
            "A1X2LENOF84LCQ ['B00JF3RYPM', 'B007JT7AGC', 'B0010A9RYO', 'B003JA5OJA', 'B00AE07EGO']\n",
            "A158CH42BGFN68 ['B0046VGPHQ', 'B008VHGW7Y', 'B006L16BHS', 'B0013UAPVK', 'B004NMTMUK']\n",
            "A3NHUQ33CFH3VM ['B00AWLBACE', 'B00HSNWXVQ', 'B00ALV8EJM', 'B00AE07CPM', 'B000E0K7NQ']\n",
            "AH59DZ5AXO8PR ['B006GTKSHY', 'B0034KYDTM', 'B005ACLU3E', 'B002RXW5BA', 'B005UL3LVY']\n",
            "A1X64HF17UU8TX ['B005UBN5AQ', 'B00CP4QKT4', 'B003V264WW', 'B001F51PXA', 'B005UBN2AO']\n",
            "A1WX42M589VAMQ ['B000142FVW', 'B00641UCY8', 'B001KMR9WY', 'B002CMLS50', 'B001FB5IN2']\n",
            "A33Y8C4818EJL0 ['B00AWLBACE', 'B00A0J09C0', 'B00AE078TM', 'B00A0IWSN4', 'B003ITMPI0']\n",
            "A1APT9S64ARZYX ['B000JWM7FA', 'B008DLT9H8', 'B000ME2YWG', 'B001BALMCS', 'B001ET7892']\n",
            "A2WW57XX2UVLM6 ['B000AO2NXS', 'B00GTBZHUW', 'B006RFZ8NG', 'B005TI7NPI', 'B00AE07FXQ']\n",
            "A3S3R88HA0HZG3 ['B00GYB107Q', 'B00IP42FBA', 'B009YSSLAU', 'B0046MI3SO', 'B00A0IWRRG']\n",
            "A2PATWWZAXHQYA ['B007SA3CD2', 'B003GC4GHM', 'B0052BHMOO', 'B00GUTLC0C', 'B004ITB3IW']\n",
            "A3H4L7TJKQHW4Q ['B007Q0WW0S', 'B00011QTZI', 'B0008IV7BU', 'B00017XWJ8', 'B003U604Q6']\n",
            "A2QDOJFFLFGF18 ['B00AWLB9G6', 'B00AE07CPM', 'B00AWLB9I4', 'B001A5S3BM', 'B000U0C65C']\n",
            "A1QV5IH6HDRN0L ['B000P257CO', 'B002UGO15M', 'B004FEKA3E', 'B004N0ULSO', 'B0048O2R1E']\n",
            "A6XHF110BC856 ['B00479FP4Q', 'B0046EBOFG', 'B000MC5US8', 'B000NB3VNO']\n",
            "A2SZLNSI5KOQJT ['B00A0IWRU8', 'B00AE07CPM', 'B007JT7AGC', 'B008VSYO5A', 'B005TI7NPI']\n",
            "AG05BT5GLNYLZ ['B00A76CPUA', 'B004OHQR1Q', 'B006T8T0P8', 'B006U98T08', 'B003VWZCMK']\n",
            "A1JLBNDDAJB4OP ['B0072XUY7W', 'B003TPTGDK', 'B006BA3BAY', 'B003VI0HVA', 'B0017QK7A4']\n",
            "A1UQBFCERIP7VJ ['B004GIM68G', 'B00AO4E9MC', 'B00H93NJLS', 'B00AO4EMKQ', 'B001ECQ5CA']\n",
            "ATSR2L4FZVO8Z ['B002VBRPZO', 'B0010XUU9M', 'B004S9SEWK', 'B003UH0528', 'B0058E3XJI']\n",
            "A3S3VSXEFXBMRC ['B003VN1ING', 'B006ON74II', 'B000ZMBSPE', 'B001619XP0', 'B0013TM9UQ']\n",
            "A96FRN3LGYUX9 ['B00005CDSP', 'B00198ZOU8', 'B005K49Y4Y', 'B002CL840S', 'B0046797WK']\n",
            "A260QLS8Z33KCQ ['B004DIUWY4', 'B007MF5UOM', 'B0033PSM6S', 'B004BCXAM8', 'B003ASW4T4']\n",
            "A1PAGHECG401K1 ['B002LB75AO', 'B005TI7NPI', 'B00G052NFE', 'B001MX89Y8', 'B001T8S7T8']\n",
            "A1UVKA2ZQD2C8Z ['B001DKK7Y0', 'B001V9OWNU', 'B003COAFPQ', 'B000ZLVUYO', 'B0028R0WFG']\n",
            "A3R9H6OKZHHRJD ['B006L6A06Q', 'B001UE60E0', 'B000C1Z1HE', 'B00A0IWRRG', 'B00021B95W']\n",
            "A2R1HUYHXV7H18 ['B00IP42FBA', 'B00CYDSAO4', 'B006L6A10G', 'B00A0J09C0', 'B00JX979CQ']\n",
            "ATANE2SC44592 ['B000E0K7NQ', 'B00HSNWXVQ', 'B00HSNWZKU', 'B00AE07932', 'B009FKNGRA']\n",
            "ADS99W8WMEXZ2 ['B00H93NJLS', 'B00GZ18LL8', 'B00CXDVRU4', 'B00IMHN0B4', 'B004UDQ6GK']\n",
            "A1QBOC76MIOJYP ['B00A0IWRT4', 'B00ALV8EJM', 'B007RTR8T8', 'B001ECQ4OY', 'B00GTBZWPW']\n",
            "A1GQAKL9CGQLP1 ['B004GIM68G', 'B00B0GOSNI', 'B0007W1R58', 'B00EOP3MJI', 'B0000CC64W']\n",
            "A1C80VYQMM3FQB ['B004INQ65S', 'B0084A5PSK', 'B001FS0HAY', 'B002UUT3A6', 'B0046ZHQAW']\n",
            "A1R377IPZOKLMM ['B00DCNBST4', 'B004N7DQHA', 'B000QUM5LG', 'B001QTW2FK', 'B001ESIZA4']\n",
            "A2K4HN6EECBNR3 ['B0098JU8T2', 'B00GTC02LA', 'B0098JU8TW', 'B00A0IWRRG', 'B0073P01RC']\n",
            "A1X1CEGHTHMBL1 ['B0006ZHCK0', 'B0009OAIE0', 'B000C1UFDE', 'B002JDUMFO', 'B003A870SE']\n",
            "ARYSDAZNRXN6G ['B00G5WO2VK', 'B0089JVEOK', 'B00021B8L2', 'B004DK46XK', 'B00FRDPMQC']\n",
            "A261I3UFZG30Z6 ['B00A73BVP8', 'B00644YNCM', 'B00B7N7CTQ', 'B005BF1M10', 'B006K9OQSC']\n",
            "A2B8GXSCB1R05T ['B006L6A06Q', 'B005HO0A1I', 'B001IACZEK', 'B00GTC1HCI', 'B004UKENRC']\n",
            "A1RRMZKOMZ2M7J ['B0009STDD8', 'B000FCNW26', 'B000XE4CHK', 'B00BLDCXOQ', 'B000C215IW']\n",
            "ADMPGWBF0BC9W ['B002JL1Y6C', 'B005OZH88I', 'B005OZFV50', 'B004LXHEX8', 'B000KVH1QU']\n",
            "A31B8RZ8YDMRX1 ['B004MJIL92', 'B00G2TQNZ4', 'B00KCFAZTE', 'B00JK3ZHIS', 'B00KAL5JAU']\n",
            "AKJHHD5VEH7VG ['B00DCNBST4', 'B008U5XS2O', 'B00A0IWTEW', 'B008U5XRX4', 'B0017TZD7S']\n",
            "A287547UH1VBJ7 ['B001AO0WCG', 'B001PN55KQ']\n",
            "A29M09QBG9TZLP ['B00604MSSC', 'B00A0IWSN4', 'B005TI7NPI', 'B004INQ65S', 'B00HM6K6XQ']\n",
            "A1ZGHA3IJV01BK ['B00AWLBACE', 'B003IXP6P0', 'B00GTC1HCI', 'B001A5S3BM', 'B009FKNGRA']\n",
            "A13JU88JAHN72I ['B001T8W5EQ', 'B000EVGQ8U', 'B007BLN17K']\n",
            "A1MFDFUGEVNIFK ['B000C1VT0W', 'B005LN66Y0', 'B000M8BE3C', 'B000C1W2DK', 'B000WTHKVQ']\n",
            "AIIZTJHZLV158 ['B00013YYS0', 'B001ECQ4JE', 'B002U20DYO', 'B0002JGU30', 'B004KU9PN4']\n",
            "AZ9JPUSCI0V49 ['B006UET5UG', 'B0089JVDPK', 'B0030HKJ8I', 'B000H3I3Y0', 'B003TNVSTW']\n",
            "A20F84KUBWM88B ['B00AWLBACE', 'B006T8BWOA', 'B0098JU8T2', 'B0062GZB4Q', 'B003DKO7RG']\n",
            "APVEFBIJPTYWU ['B0049J7P3S', 'B000MAOWOS', 'B0014UAHQW', 'B001KPSO5M', 'B0069SC0OQ']\n",
            "A2K5AFTU4YOPPW ['B00147FGJ8', 'B00027D0DU', 'B000C1Z29Q', 'B004DHYZU2', 'B002U32G66']\n",
            "AY9HUIJWJ8TT7 ['B004X1QY20', 'B002B4GGUG', 'B002T3V294', 'B004MOU4C4']\n",
            "A3ESTWDBNOUJQ7 ['B005UBN2AO', 'B001KYS1YM', 'B004DIXYUI', 'B00011QUDE', 'B001KYNVLU']\n",
            "A2X3L31KCXBHCL ['B000E0K7NQ', 'B005XIM6J2', 'B00AAIOP44', 'B00A0IWRUI', 'B007RTR8T8']\n",
            "A2SSV6KM3W1VFD ['B00AWLBACE', 'B009YSSLAU', 'B00AE07IEM', 'B008U5XRX4', 'B004D268RA']\n",
            "A1TPW86OHXTXFC ['B003UH0528', 'B0000UTUW4', 'B0009HJBPE', 'B004B3YC9M', 'B0015Y9A0G']\n",
            "A3NM1MT3Q2FHXV ['B00HSNWZFU', 'B00A0IWRU8', 'B00HM6IV6K', 'B00A0IWRT4', 'B006RFZ5ZM']\n",
            "ADS5APY1NKTL4 ['B00099E8ZA', 'B000EEZAXO', 'B00016WW8Q', 'B00AHF1GTM', 'B001R2S8HM']\n",
            "A5BJMAHZWGJ7N ['B00AO4EMKQ', 'B0013CSGBE', 'B006L1DNWY', 'B002IS6S62', 'B0083QNBCM']\n",
            "A2H76V7TTCZ4KV ['B004TSFE6Y', 'B000629ZHG', 'B002B4GGUG', 'B002UL10HY', 'B0002YE8IO']\n",
            "A1X6PD8QYKIJHZ ['B001E96NYS', 'B001F51TNQ', 'B003S516XO', 'B000IF3D38', 'B000HGIQRG']\n",
            "AENH50GW3OKDA ['B005KT4T44', 'B00EWDKF06', 'B0018C0HLQ', 'B002RTIS24', 'B00ATDTZ0Y']\n",
            "A36MP37DITBU6F ['B0072XUY7W', 'B00AWLB9I4', 'B00A0J09G6', 'B00AE078TM', 'B008QMWVP6']\n",
            "A1P2XYD265YE21 ['B00JF3RYPM', 'B008VSYO5A', 'B00AE07BDU', 'B005QZQ9JU', 'B00G3HM9ZI']\n",
            "A112TFLXGBF6NI ['B00132ZG3U', 'B000XFSUWW', 'B001DHI0R4', 'B006WVCF18']\n",
            "ANXT431V3MW4Z ['B0030O3VRW', 'B000HRVC5I', 'B001ADP0OM', 'B000I5MJ8S', 'B002OVV7F0']\n",
            "A8O12DCHIADYU ['B006UET5UG', 'B005EII2OY', 'B003RCZSJ6', 'B001AT5LEU', 'B006KTTGC8']\n",
            "A33PYDS5IBQD7N ['B003UH0528', 'B000P22TIY', 'B00CC7TBHM', 'B002WTC37A', 'B007Q0WW0S']\n",
            "AHUT55E980RDR ['B000E0K7NQ', 'B00AWLB9G6', 'B0072XUY7W', 'B00A0IWSN4', 'B00AO4EMKQ']\n",
            "AMLLGCP82ZO7C ['B006L1DNWY', 'B006CD6616', 'B00468KRH8', 'B005C1C02S', 'B003VMV7D8']\n",
            "A2W9VGCIJQG0NI ['B002QI1E9K', 'B00641UCY8', 'B0009VNI40']\n",
            "AN9EWQN1LGMY7 ['B005UBN5AQ', 'B000EGMCFG', 'B0001432S2', 'B0009OAIE0', 'B001JQLNMI']\n",
            "A2Q3BW3177V542 ['B0002Z8HAI', 'B000142FVW', 'B0009R33U8', 'B003X3S26U', 'B000142C1A']\n",
            "A10G136JEISLVR ['B0049J7P3S', 'B004MKEMPI', 'B000TAE0RK', 'B003U4LGV0', 'B0065R18TY']\n",
            "A1GUX6R8DV3ZLY ['B000142FVW', 'B003UH0528', 'B00027D0DU', 'B00683MOWK', 'B001KYVLSU']\n",
            "ATV36X9V9DRB9 ['B0089JVEOK', 'B0006LNMIU', 'B000YHLOC2', 'B000OV3ZDO']\n",
            "A1T61QP7QHYBRQ ['B00AWLBACE', 'B00A0J084Y', 'B00AO4EBOI', 'B000C1ZDTU', 'B00AE0790U']\n",
            "A3SH6CQYS8FHB ['B000IIHDT0', 'B00IALDHDI', 'B003V265QW', 'B004OEO0E0']\n",
            "AOEUN9718KVRD ['B001E96NHK', 'B008U5XS2O', 'B001U6FIVE', 'B00A0IWTEW', 'B002JL1Y6C']\n",
            "A324GIXX5SIYGA ['B006UET5UG', 'B000052YOX', 'B004GH99QO', 'B0010XUU9M', 'B0009HJBPE']\n",
            "A3RHPBNP2N9RJB ['B000A38ZFO', 'B00176B9JC', 'B001OKB4OQ', 'B000A409J8', 'B0058CJV50']\n",
            "A1EVV74UQYVKRY ['B00GDLML02', 'B00099E8ZA', 'B00DCNBST4', 'B00A0J09GG', 'B00AE07CTI']\n",
            "AEL6CQNQXONBX ['B000AO2NXS', 'B00HSNWXVQ', 'B00ALV8EJM', 'B005TI7NPI', 'B00AE07CTI']\n",
            "A3TYR1ALBZ2EU9 ['B00B2CEHAO', 'B002ZTV9SG', 'B00A76CPUA', 'B0084BPHY6', 'B005UBN5AQ']\n",
            "A1KSC91G9AIY2Z ['B0018DAUKI', 'B00121UVU0', 'B007O7AZ3O', 'B001ECQ4IU', 'B003UMNO6C']\n",
            "A110PQTEI6THU7 ['B0038TYTSO', 'B001189I3A']\n",
            "AIIR8E34EDKCQ ['B001LF4G4E', 'B000EBAHHG', 'B005HIHD2I', 'B005QZQ9JU', 'B0013N483I']\n",
            "AYOMAHLWRQHUG ['B0030GFY02', 'B003U7OYK2', 'B00AO4EL34', 'B00GTBZHUW', 'B00A0IWRRG']\n",
            "AGEKVD8JPZQMT ['B000E0K7NQ', 'B008VSYO5A', 'B009YSSLAU', 'B00A0J084Y', 'B00AE07CPM']\n",
            "A32ZIX6JXPJX3O ['B001ALPKXA', 'B0020MM8TW', 'B001M9KX78']\n",
            "A3J029KBNG5MNP ['B00A0J084Y', 'B000AO2NXS', 'B007RTR8UM', 'B00A0IWRU8', 'B00AE07BDU']\n",
            "A3CTOYWB73TMM0 ['B000052YOX', 'B000P22TIY', 'B00027D0DU', 'B0056KD6N2', 'B007HTSVAS']\n",
            "A1P27BGF8NAI29 ['B000HRVC5I', 'B000AO2NXS', 'B00BB8ZHIU', 'B00122CP30', 'B0002714IS']\n",
            "A2DA2NJZ2RIYAB ['B00A0J09C0', 'B00A0J09GG', 'B00AE07BMQ', 'B00AE07B9O', 'B00AE0790U']\n",
            "A3HJ8ZPQN5VR7X ['B00008CMOQ', 'B0019QQ13Y', 'B000RO6ZDA', 'B004LXHEX8', 'B00AQ9RTBS']\n",
            "AI0131QZO047J ['B0015G9EGY', 'B00A76CPUA', 'B000G33KEO', 'B003VN00YY', 'B003VMFITM']\n",
            "A1GT3775JP80UF ['B00150LT40', 'B0065DLADM', 'B0018BTA2Y', 'B000VDUOFM']\n",
            "A6X1O3A5C5FX1 ['B00AE07FUE', 'B00AWLB9I4', 'B00HM6IV6K', 'B00AE07EIM', 'B00AE07GX0']\n",
            "A3VBF1J95ROAYF ['B0002Z8QG8', 'B001PEZAHI', 'B00150LT40', 'B001FT3OZI', 'B000VV1ZMU']\n",
            "A2OWR5G2OAQF7C ['B00CYDSAO4', 'B00AWLB9I4', 'B002CMLHF6', 'B00198ZPU2', 'B0050VKEWS']\n",
            "A1M04H40ZVGWVG ['B001V9LUO4', 'B002WTC37U', 'B005WKJB6C', 'B007U90J5U', 'B00159Y23Q']\n",
            "A1QTICTBQKS6I6 ['B004GH99QO', 'B00683MOWK', 'B000271KR8', 'B0006ZHCK0', 'B001U9M2EW']\n",
            "A2USMIT2CSA08 ['B0019LWU2K', 'B00641UCY8', 'B004MKNUAG', 'B004BE6EBU', 'B005R3IPJI']\n",
            "A1APERZNMEU8PW ['B001TJXI5U', 'B0020YLEYK', 'B008K1YYM6', 'B000WNLFBI', 'B004R6CAGU']\n",
            "A2PXXYVFB3HD6O ['B00CXADQ4M', 'B001MP7HYY', 'B001441QCW', 'B001L3YB28', 'B004UE9S9Q']\n",
            "A3LWVPC3KVQAFR ['B006UET5UG', 'B0044XXO84', 'B001C4Q3UY', 'B0028BKV4E', 'B004CQ710U']\n",
            "A3QNV9LUNM589P ['B001EJOPXE', 'B00028M3N2', 'B003FXE6VI', 'B000PHUKEE', 'B00C8FVY3M']\n",
            "A2YB7DLC3FOR7W ['B001LF4G4E', 'B0050QJ0S2', 'B004MTCKSU', 'B002AA13M2', 'B003S19S9W']\n",
            "A2ZY49IDE6TY5I ['B000142FVW', 'B000AO2NXS', 'B00604MSSC', 'B00ATY942M', 'B00AE07FXQ']\n",
            "A1VUGUKWX4B808 ['B00CJ3MDJW', 'B00ARX8GGA', 'B00DSLFNQ4', 'B005FFVATK', 'B00DPTW8JY']\n",
            "A1YUL9PCJR3JTY ['B0009ET5O4', 'B0015PGFQW', 'B000E75ES2', 'B001ET72C0', 'B000VA7V6U']\n",
            "A2VOGNBUMXSW13 ['B00021DJ32', 'B00013TQRE', 'B002U774PK', 'B005OZF1S2', 'B0090PHG7Q']\n",
            "A1EF37KYK7PRLV ['B0009MHJE4', 'B002QXINAS', 'B002QI1F8A', 'B002KMXO36', 'B000W3QDJ2']\n",
            "ACZ94JB8BFMJ9 ['B0013CSGBE', 'B002PBAJ4Y', 'B003MJ7Z0O', 'B001KYS1YM', 'B0089JVEOK']\n",
            "A2CQ2X9H9HY6W0 ['B00B99O5WK', 'B0071H5C76', 'B000MQSIOW', 'B003UJHSUI', 'B000VQEQXA']\n",
            "AEJEG1P5S4J9Y ['B00150LT40', 'B001MX89Y8', 'B0019N6RFO', 'B000TNOUA4', 'B001HNNSIU']\n",
            "A2D4FQHV506EPB ['B00604MSSC', 'B0098JU8TC', 'B006MRM2TW', 'B001707IQ6', 'B00GTBZNP6']\n",
            "A2QWHEI914GHRZ ['B00G052NFE', 'B00IS6XPQY', 'B00I2495QG', 'B00I6R90Q4', 'B00G7UPGZQ']\n",
            "AE7V92R2LVEJF ['B005UBN2AO', 'B0084A5PSK', 'B000052YJM', 'B0069FDR96', 'B004NMTMUK']\n",
            "A2ZKZJGVGIJ8OP ['B00016XJ4M', 'B000P6WIHC', 'B005SPWI3O', 'B002B4O7XE']\n",
            "ABDR6IJ93HFIO ['B00GUTLC0C', 'B00GXZS7AG', 'B002LE8OVA', 'B001QXKDRA', 'B00HSNX1AS']\n",
            "A1W31W7O8D5EW ['B001H54VJI', 'B001DKK7Y0', 'B0019IC2N0', 'B00A9MKPT0', 'B002T5B4T0']\n",
            "A2ZKQC0XCIIAEM ['B005TI7NPI', 'B008VSYO5A', 'B00AE07BDU', 'B000E0K7NQ', 'B00GTBZHCA']\n",
            "ALQGOMOY1F5X9 ['B000NKL3D0', 'B0047F9622', 'B0034F9K36', 'B00006JN4F', 'B0039XT498']\n",
            "A174X51AGFWAMW ['B0008F6ZDI', 'B005AYJ6EW', 'B00BOBKSLK', 'B0012CD32W', 'B003E0KC2Y']\n",
            "A3315AAN855HYG ['B002QI1F8A', 'B000EM9D6Q', 'B002WDIPR8', 'B003CEA88U']\n",
            "A1VQBEW0G4IH1J ['B006L6A10G', 'B00A0IWRU8', 'B009FKNGRA', 'B00GTBZWPW', 'B00GTC0DFK']\n",
            "ACR4HKUT808U1 ['B00ALV8EJM', 'B005TI7NPI', 'B001ECQ4YO', 'B003V21WO2', 'B00A0J09G6']\n",
            "A2A7KXM9B4XW90 ['B002QI1E9K', 'B005OZW3ZG', 'B0062GZB4Q', 'B004XA81ZE', 'B0086LC49K']\n",
            "A2S7YBFPZX1IGQ ['B005OZW3ZG', 'B00016XJ4M', 'B001JQLNNM', 'B008B7QY0E', 'B001V3TVEQ']\n",
            "A2OTGX253O4J4D ['B003ZTVDBS', 'B0015G9EGY', 'B004VMGTY4', 'B0009ET5JE', 'B004VM9JCS']\n",
            "A21VGNU5959O85 ['B006L6A06Q', 'B00639DLV2', 'B006L6A10G', 'B00FRDPMQC', 'B004D267RG']\n",
            "A1PK9JYJF5Y2V6 ['B002HWS7RM', 'B0050GPSW4', 'B000ELP5KA', 'B003I5ZMDY', 'B00014DMQE']\n",
            "A1A3R2SG60TOR0 ['B001VD8DDG']\n",
            "A3UZ99BQWAJACU ['B004ITB3IW', 'B0011ULXB8', 'B0026IFLG2', 'B001GELIBO', 'B004X1QKO2']\n",
            "A34TVK5J8P7XDQ ['B00121UVU0', 'B00HD4F8DK', 'B0002Z8GEK', 'B000UBN5S8']\n",
            "A135SX8ESCQV9B ['B005ACLU3E', 'B0061KQF2K', 'B005UL1B34', 'B00644YNCM', 'B0090ELFQK']\n",
            "A24N4FKHGD7DWT ['B00AQ9JIDK', 'B0094GHGQM', 'B0058CJV50', 'B000AAC8VO', 'B0094G3M6A']\n",
            "APYKGTU0LFICH ['B001ET76EY', 'B000052YQ2', 'B0092MCO88', 'B002VA4FXU', 'B0038TVHGG']\n",
            "A36RO7NCM6IUGB ['B0009OAGRE', 'B000C1VX3A', 'B00021DZCC', 'B00016X68Q']\n",
            "A1ITRGMT80D5TK ['B005TI7NPI', 'B00AO4E9E0', 'B00ALV8EJM', 'B0020122ZS', 'B0068G8DTA']\n",
            "A914TQVHI872U ['B00JF3RYPM', 'B00A0J09G6', 'B00AWLB9I4', 'B001JQLNNC', 'B001441QFE']\n",
            "A3GU3CXHONZJQ6 ['B001PTFY2O', 'B0009OAIB8', 'B0009OAGRE', 'B000BTO6EG', 'B000C1ZFJI']\n",
            "A2WZNM833CJH82 ['B001ECQ4JE', 'B0030GFY02', 'B007RTR8UC', 'B0032DHP6O', 'B009FKNGGQ']\n",
            "A2CHH5P055A0KL ['B007SA3CD2', 'B0000C4COV', 'B000052YJM', 'B002Q52YKG', 'B002PBHQP4']\n",
            "A2UM324B00HBC8 ['B00547H5U2', 'B001OG1CWY', 'B005KJ353U', 'B00HNKRWI8', 'B00HE88JMC']\n",
            "A1FR87EBHPZHBJ ['B00CDGR29G', 'B0059NA3MI', 'B005VX8S4G', 'B001GEEQ90', 'B004NYWR7S']\n",
            "A3D9NUCR4RXDPY ['B00A0J09C0', 'B00HM6IV6K', 'B007RTR8A2', 'B00604MSSC', 'B003EH20VI']\n",
            "AXYVSHTLWBINI ['B00AO4EMKQ', 'B000AO2NXS', 'B0015C0RIC', 'B000CPIMNA', 'B0009GGY96']\n",
            "AJGU56YG8G1DQ ['B000QUM5LG', 'B003TPTGDK', 'B000CIBVP8', 'B000BZB1FC', 'B0047PSV14']\n",
            "A2JCJJNY43QQIV ['B0068G8DTA', 'B001LF4G7G', 'B00AHF1GK6', 'B00AE078TM', 'B004M2Y7RY']\n",
            "A3S8D4BMVASTF9 ['B004EWS5F2', 'B005EII0QO', 'B003H8180I', 'B007UM8ZGM', 'B008V9JG02']\n",
            "AA1JJNJ5VYI97 ['B002XOQSPC', 'B000BY2N7S', 'B001PEZAHI', 'B000QTFT2Y', 'B000B63Y1K']\n",
            "A3SFI0SLCMP0KX ['B00021B8L2', 'B00A76CPUA', 'B002K6AHQY', 'B00JGCU60W', 'B006HT0AK8']\n",
            "A1ZXEVTNNDKJ61 ['B000F0QCWA']\n",
            "A32NZK5H2NIM13 ['B0009OAHWI', 'B002QI1F8A', 'B001A38Q52', 'B005O54SVS', 'B00092M2X2']\n",
            "A1MI1I73Z5J9MI ['B0030O3VRW', 'B003H8180I', 'B004DIUWAI', 'B000O3BDHW', 'B004675BIE']\n",
            "A3LJLRIZL38GG3 ['B004X1QY20', 'B0019QQ13Y', 'B007CDSFKU', 'B001DBPZQE', 'B005EFYXLI']\n",
            "A1PI8VBCXXSGC7 ['B004GIM68G', 'B005HO0A1I', 'B00G052NFE', 'B00DCNBST4', 'B00GW1HKHW']\n",
            "A17Y11XADHLI8A ['B003M57E9A', 'B003CHMS4O', 'B005UGVIQ4', 'B001JKTTVQ']\n",
            "A19KOAGQJUXL18 ['B00ALV8EJM', 'B000052YP6', 'B002T5NMGS', 'B000MT1GHA', 'B00G36TJKW']\n",
            "A3VN4P1607UR2U ['B003I8I0YY', 'B00B2CEHAO', 'B00683JILU']\n",
            "A1YLLARX683DKC ['B0049E7984', 'B001KYPZRS', 'B000OD31WW', 'B007WW1AOE', 'B0000531GD']\n",
            "A1IU7S4HCK1XK0 ['B000ODNSR0', 'B002GP5XD6', 'B00GNA9K3E', 'B002Y26RUE', 'B00I6CRX04']\n",
            "A2FWDBKX76ILA7 ['B0000536M2', 'B0002Z8HAI', 'B0030HMQTS', 'B00GCQMSVA', 'B008R56PVI']\n",
            "A1X5VVJP78U81E ['B006UET5UG', 'B004Y9GS0E', 'B0000531WZ', 'B006OHM542', 'B002XHACTM']\n",
            "AGWWIU5K88RKB ['B00AINMFAC']\n",
            "A1UMSB7LAW0RIR ['B007JT7AIA', 'B00A0J09G6', 'B000E0K7NQ', 'B00AE07CTI', 'B00A0IWRRG']\n",
            "A2HMP5LYU0BF6B ['B002B4GGUG', 'B002XHACTM', 'B0047ELRO8', 'B000EVGQ8U', 'B003S19S9W']\n",
            "A1Q3W2FX8LKH19 ['B001FS0HAY', 'B005G9LPAY', 'B003F2T0M4', 'B005TKZS76', 'B0081CWUD4']\n",
            "A2D1LPEUCTNT8X ['B00011QVHO', 'B008PUJBJS', 'B00JX979CQ', 'B001QFDTWO', 'B000YHLOC2']\n",
            "A1RVM6W2YI7568 ['B0000UTUW4', 'B001UE60E0', 'B003BQ6QXK', 'B000BIUGTQ', 'B000O01CJO']\n",
            "A1NBK07JEBCFI ['B000UPRSKA', 'B003GDBEBM', 'B0009EXOO6', 'B00141XJJS']\n",
            "A1R1BFJCMWX0Y3 ['B005TI7NPI', 'B00AE07CPM', 'B00AE07BMQ', 'B00A0IWRU8', 'B001A5S3BM']\n",
            "AC1UO4XW14D6W ['B0000YUX4O', 'B007XA49O8', 'B002WTC37U', 'B007SG2QT2', 'B004GT440S']\n",
            "A1FU6N9PIEIL5F ['B0058CJV50', 'B0030HKJ8I', 'B0017U10SI', 'B001BAG38G', 'B004KXKG20']\n",
            "A2AX9C569CKHOJ ['B004JLGC12', 'B001SERK9G', 'B00649P4JS', 'B00008CMOR', 'B007CY2C76']\n",
            "A10Y59HW4O47N0 ['B00132FV8U']\n",
            "A3FA78E0G3G4GQ ['B004Z209HS', 'B00787QT6W', 'B001MA0QY2', 'B003F2T0M4', 'B0006LNJ56']\n",
            "A21936E2ZRY72J ['B0009OAHRI', 'B0000632EN', 'B003NV9R2U']\n",
            "A1BS22O15EOQ9S ['B001TJXI5U', 'B005P0OBSM', 'B0016P4P4K', 'B005V1A05S', 'B000GDDKIU']\n",
            "A2LAS014NSRW72 ['B00GTBZHUW', 'B004YZMKKU', 'B00BXKET7G', 'B000FBNYRU', 'B001ECQ55M']\n",
            "A2G35B0XBEVQTC ['B0000533CC']\n",
            "A225UWT247BBBH ['B003FXE6VI', 'B0010O3URU', 'B002VLZHLI', 'B001AZS6R8', 'B00512CREO']\n",
            "A17W4YG9W016T1 ['B000052ZB2', 'B004CQXZ5U', 'B001ET7EE6']\n",
            "A2K7V3G4598QRF ['B004DBUAGG', 'B0009R5B8A', 'B0019JAQPA', 'B005TI7L6O']\n",
            "A1DQHS7MOVYYYA ['B004D267RG', 'B005KJ35D0', 'B000Z605H2', 'B0039UTO3M', 'B007RTR9DS']\n",
            "AANHR0DB9SZ80 ['B003LYDBCG', 'B000OFB5QO', 'B0013N483I', 'B00117VR1M', 'B000N2IGWY']\n",
            "A37J8XKLNOX2RO ['B004BCEFUY', 'B0014LLC3I', 'B003YC6GKO']\n",
            "APG4YVSUN3T6S ['B00120XR0M', 'B002IT3KD0', 'B0034E702U', 'B000TDFA3K', 'B0062W4TD4']\n",
            "A2ZHH7AK83JB5G ['B00GTC02LA', 'B00CP0R5LK', 'B00HNKRWII', 'B002MO3CG6', 'B00GYB17P6']\n",
            "A1CI63P473W5RJ ['B001TJXI5U', 'B004IZJ2QG', 'B004TSF8R4', 'B006U98T08', 'B002S8RWYY']\n",
            "AJRFZ0VZ0LD26 ['B00A0J09GG', 'B005LZT9GU', 'B0017JV8I6', 'B003WHF148', 'B009GEUP6A']\n",
            "A3N3ZTC5LDWDWD ['B0080GV0Z0', 'B00AZBVKAS', 'B005DU5MY6', 'B005VX8S4G', 'B00876T3W0']\n",
            "A3GA09FYFKL4EY ['B000KONYPY', 'B004Y9M4DE', 'B002XHACTM', 'B002PBHQP4', 'B00008MOQE']\n",
            "A2UJT1C0E0DWVQ ['B000Q7XDR4', 'B000GHGWKY', 'B0006OU078', 'B000H88PCU', 'B002X9W5OK']\n",
            "A5A3C6XVDYUND ['B00ALV8EJM', 'B00021C1LI', 'B0009F3NGE', 'B0002YE8V6', 'B000NGH3X8']\n",
            "AV6823XS14U41 ['B002WTC38O', 'B001H54SQ4', 'B000052ZB4', 'B001G7OCSM', 'B000H3EO9I']\n",
            "A1HOPKK8E3MIX6 ['B000KONYJK', 'B0009OAIKY', 'B001FWXIBU', 'B0017JV8I6', 'B0000531SW']\n",
            "A2JNO9OR8FGNR4 ['B0002Z8HAI', 'B00A20OQYE', 'B004INUWX0']\n",
            "AGKAEFSFYWBDF ['B0032PQPWW', 'B00CXN66M8', 'B00A9R0BXU', 'B006T8T0P8', 'B008SPOKIW']\n",
            "AHYPRXI7F5QXS ['B00013YYS0', 'B001BKFF76', 'B004NJ8WFO', 'B002LIXTFC', 'B000VEMWB0']\n",
            "A1YVJ2CLK0L2WR ['B004OE9RO8', 'B004A7OVBI', 'B002L6PXNA', 'B000PHRIQM', 'B007FAOPP4']\n",
            "A5C2PJ2RFO4WS ['B0002Z8HAI', 'B0043TUSME', 'B0043TURKC']\n",
            "A3GKD8MAHURH91 ['B003Z4QHP0', 'B000WQU5IE']\n",
            "A2NIUVVH46ZDTH ['B000RGZK02', 'B000P65UI6']\n",
            "A27UE9HJRZ22YI ['B000YJ2SKM', 'B0009RFAPY', 'B000ODNSR0', 'B001HTYJLO', 'B001ET6Y4C']\n",
            "A177B2VPWX4P55 ['B006OC431K']\n",
            "A2R9M9ALI356JU ['B0000ZLEFU', 'B000JL69OG', 'B001GIOV8C', 'B0000530EZ']\n",
            "A3GNEPABXLTKON ['B0045K1N8E', 'B008PEXV3Q', 'B0018C0HLQ', 'B00CJIOG0Q', 'B000PQDKU6']\n",
            "A3K7I9EGDHAGU4 ['B00121UVU0', 'B000P6I3WG', 'B002UJ31HS']\n",
            "A3KO6JEVS1FJ8X ['B000L9YYTS', 'B003AVNLP2', 'B000REOEYM', 'B0012QD7EC']\n",
            "A1XQ0F01CF84Y3 ['B000EEX7TI', 'B000GIOBY2', 'B000C1ZFBG', 'B000EE803Q', 'B004D8JQ4G']\n",
            "AJ0LVMSVJ0CN1 ['B009JKDCEI', 'B005I8RH78', 'B0046CMBK0', 'B00117CH5M']\n",
            "A2FQZKL2KIZACO ['9790790961', 'B00110Q8FO']\n",
            "A3VV0Z7QF0U4W0 ['B00027DDOQ', 'B0038QLU66', 'B000EX5JO0']\n",
            "A1VUN4JU731CBH ['B000YJ2SKM']\n",
            "A1PTBXZG04GT29 ['B00IP42FBA']\n"
          ]
        }
      ]
    },
    {
      "cell_type": "code",
      "metadata": {
        "id": "ePfIqzdjrA1B"
      },
      "source": [
        ""
      ],
      "execution_count": null,
      "outputs": []
    }
  ]
}